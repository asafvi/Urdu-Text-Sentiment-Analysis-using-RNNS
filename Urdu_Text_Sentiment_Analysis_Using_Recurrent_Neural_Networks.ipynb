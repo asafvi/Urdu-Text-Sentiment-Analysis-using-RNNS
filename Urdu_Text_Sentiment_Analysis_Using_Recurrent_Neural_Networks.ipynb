{
  "metadata": {
    "kernelspec": {
      "display_name": "Python 3",
      "name": "python3"
    },
    "language_info": {
      "name": "python",
      "version": "3.10.13",
      "mimetype": "text/x-python",
      "codemirror_mode": {
        "name": "ipython",
        "version": 3
      },
      "pygments_lexer": "ipython3",
      "nbconvert_exporter": "python",
      "file_extension": ".py"
    },
    "kaggle": {
      "accelerator": "nvidiaTeslaT4",
      "dataSources": [
        {
          "sourceId": 6477352,
          "sourceType": "datasetVersion",
          "datasetId": 3741921
        }
      ],
      "dockerImageVersionId": 30698,
      "isInternetEnabled": true,
      "language": "python",
      "sourceType": "notebook",
      "isGpuEnabled": true
    },
    "colab": {
      "provenance": [],
      "gpuType": "T4",
      "collapsed_sections": [
        "kgZbuaqE3Pr2"
      ]
    },
    "accelerator": "GPU",
    "widgets": {
      "application/vnd.jupyter.widget-state+json": {
        "68686065f2e94c2e9a798cee4be9f7f1": {
          "model_module": "@jupyter-widgets/controls",
          "model_name": "HBoxModel",
          "model_module_version": "1.5.0",
          "state": {
            "_dom_classes": [],
            "_model_module": "@jupyter-widgets/controls",
            "_model_module_version": "1.5.0",
            "_model_name": "HBoxModel",
            "_view_count": null,
            "_view_module": "@jupyter-widgets/controls",
            "_view_module_version": "1.5.0",
            "_view_name": "HBoxView",
            "box_style": "",
            "children": [
              "IPY_MODEL_82dfca3fdc104ec8b07f7f963475c2a4",
              "IPY_MODEL_692b096306b542628ce68831d86b5274",
              "IPY_MODEL_f6500df9b76e4ff8ab8bc2ae9e8db20a"
            ],
            "layout": "IPY_MODEL_368a273053fe40e5b45b6b085d55846a"
          }
        },
        "82dfca3fdc104ec8b07f7f963475c2a4": {
          "model_module": "@jupyter-widgets/controls",
          "model_name": "HTMLModel",
          "model_module_version": "1.5.0",
          "state": {
            "_dom_classes": [],
            "_model_module": "@jupyter-widgets/controls",
            "_model_module_version": "1.5.0",
            "_model_name": "HTMLModel",
            "_view_count": null,
            "_view_module": "@jupyter-widgets/controls",
            "_view_module_version": "1.5.0",
            "_view_name": "HTMLView",
            "description": "",
            "description_tooltip": null,
            "layout": "IPY_MODEL_a1d5758b7cbc43cbb9f1dbe8e6635410",
            "placeholder": "​",
            "style": "IPY_MODEL_adc37a82308542e687170052c38c8d97",
            "value": "Downloading data: 100%"
          }
        },
        "692b096306b542628ce68831d86b5274": {
          "model_module": "@jupyter-widgets/controls",
          "model_name": "FloatProgressModel",
          "model_module_version": "1.5.0",
          "state": {
            "_dom_classes": [],
            "_model_module": "@jupyter-widgets/controls",
            "_model_module_version": "1.5.0",
            "_model_name": "FloatProgressModel",
            "_view_count": null,
            "_view_module": "@jupyter-widgets/controls",
            "_view_module_version": "1.5.0",
            "_view_name": "ProgressView",
            "bar_style": "success",
            "description": "",
            "description_tooltip": null,
            "layout": "IPY_MODEL_a0f88337f0f545839508ba7524d3dd58",
            "max": 56234303,
            "min": 0,
            "orientation": "horizontal",
            "style": "IPY_MODEL_753c6d1817744d4c88c72ede8683e495",
            "value": 56234303
          }
        },
        "f6500df9b76e4ff8ab8bc2ae9e8db20a": {
          "model_module": "@jupyter-widgets/controls",
          "model_name": "HTMLModel",
          "model_module_version": "1.5.0",
          "state": {
            "_dom_classes": [],
            "_model_module": "@jupyter-widgets/controls",
            "_model_module_version": "1.5.0",
            "_model_name": "HTMLModel",
            "_view_count": null,
            "_view_module": "@jupyter-widgets/controls",
            "_view_module_version": "1.5.0",
            "_view_name": "HTMLView",
            "description": "",
            "description_tooltip": null,
            "layout": "IPY_MODEL_2c0e0991baf74d8baacb65cb1506a42c",
            "placeholder": "​",
            "style": "IPY_MODEL_5d272558d31d4e7099cddd1ebe05d97d",
            "value": " 56.2M/56.2M [00:01&lt;00:00, 55.0MB/s]"
          }
        },
        "368a273053fe40e5b45b6b085d55846a": {
          "model_module": "@jupyter-widgets/base",
          "model_name": "LayoutModel",
          "model_module_version": "1.2.0",
          "state": {
            "_model_module": "@jupyter-widgets/base",
            "_model_module_version": "1.2.0",
            "_model_name": "LayoutModel",
            "_view_count": null,
            "_view_module": "@jupyter-widgets/base",
            "_view_module_version": "1.2.0",
            "_view_name": "LayoutView",
            "align_content": null,
            "align_items": null,
            "align_self": null,
            "border": null,
            "bottom": null,
            "display": null,
            "flex": null,
            "flex_flow": null,
            "grid_area": null,
            "grid_auto_columns": null,
            "grid_auto_flow": null,
            "grid_auto_rows": null,
            "grid_column": null,
            "grid_gap": null,
            "grid_row": null,
            "grid_template_areas": null,
            "grid_template_columns": null,
            "grid_template_rows": null,
            "height": null,
            "justify_content": null,
            "justify_items": null,
            "left": null,
            "margin": null,
            "max_height": null,
            "max_width": null,
            "min_height": null,
            "min_width": null,
            "object_fit": null,
            "object_position": null,
            "order": null,
            "overflow": null,
            "overflow_x": null,
            "overflow_y": null,
            "padding": null,
            "right": null,
            "top": null,
            "visibility": null,
            "width": null
          }
        },
        "a1d5758b7cbc43cbb9f1dbe8e6635410": {
          "model_module": "@jupyter-widgets/base",
          "model_name": "LayoutModel",
          "model_module_version": "1.2.0",
          "state": {
            "_model_module": "@jupyter-widgets/base",
            "_model_module_version": "1.2.0",
            "_model_name": "LayoutModel",
            "_view_count": null,
            "_view_module": "@jupyter-widgets/base",
            "_view_module_version": "1.2.0",
            "_view_name": "LayoutView",
            "align_content": null,
            "align_items": null,
            "align_self": null,
            "border": null,
            "bottom": null,
            "display": null,
            "flex": null,
            "flex_flow": null,
            "grid_area": null,
            "grid_auto_columns": null,
            "grid_auto_flow": null,
            "grid_auto_rows": null,
            "grid_column": null,
            "grid_gap": null,
            "grid_row": null,
            "grid_template_areas": null,
            "grid_template_columns": null,
            "grid_template_rows": null,
            "height": null,
            "justify_content": null,
            "justify_items": null,
            "left": null,
            "margin": null,
            "max_height": null,
            "max_width": null,
            "min_height": null,
            "min_width": null,
            "object_fit": null,
            "object_position": null,
            "order": null,
            "overflow": null,
            "overflow_x": null,
            "overflow_y": null,
            "padding": null,
            "right": null,
            "top": null,
            "visibility": null,
            "width": null
          }
        },
        "adc37a82308542e687170052c38c8d97": {
          "model_module": "@jupyter-widgets/controls",
          "model_name": "DescriptionStyleModel",
          "model_module_version": "1.5.0",
          "state": {
            "_model_module": "@jupyter-widgets/controls",
            "_model_module_version": "1.5.0",
            "_model_name": "DescriptionStyleModel",
            "_view_count": null,
            "_view_module": "@jupyter-widgets/base",
            "_view_module_version": "1.2.0",
            "_view_name": "StyleView",
            "description_width": ""
          }
        },
        "a0f88337f0f545839508ba7524d3dd58": {
          "model_module": "@jupyter-widgets/base",
          "model_name": "LayoutModel",
          "model_module_version": "1.2.0",
          "state": {
            "_model_module": "@jupyter-widgets/base",
            "_model_module_version": "1.2.0",
            "_model_name": "LayoutModel",
            "_view_count": null,
            "_view_module": "@jupyter-widgets/base",
            "_view_module_version": "1.2.0",
            "_view_name": "LayoutView",
            "align_content": null,
            "align_items": null,
            "align_self": null,
            "border": null,
            "bottom": null,
            "display": null,
            "flex": null,
            "flex_flow": null,
            "grid_area": null,
            "grid_auto_columns": null,
            "grid_auto_flow": null,
            "grid_auto_rows": null,
            "grid_column": null,
            "grid_gap": null,
            "grid_row": null,
            "grid_template_areas": null,
            "grid_template_columns": null,
            "grid_template_rows": null,
            "height": null,
            "justify_content": null,
            "justify_items": null,
            "left": null,
            "margin": null,
            "max_height": null,
            "max_width": null,
            "min_height": null,
            "min_width": null,
            "object_fit": null,
            "object_position": null,
            "order": null,
            "overflow": null,
            "overflow_x": null,
            "overflow_y": null,
            "padding": null,
            "right": null,
            "top": null,
            "visibility": null,
            "width": null
          }
        },
        "753c6d1817744d4c88c72ede8683e495": {
          "model_module": "@jupyter-widgets/controls",
          "model_name": "ProgressStyleModel",
          "model_module_version": "1.5.0",
          "state": {
            "_model_module": "@jupyter-widgets/controls",
            "_model_module_version": "1.5.0",
            "_model_name": "ProgressStyleModel",
            "_view_count": null,
            "_view_module": "@jupyter-widgets/base",
            "_view_module_version": "1.2.0",
            "_view_name": "StyleView",
            "bar_color": null,
            "description_width": ""
          }
        },
        "2c0e0991baf74d8baacb65cb1506a42c": {
          "model_module": "@jupyter-widgets/base",
          "model_name": "LayoutModel",
          "model_module_version": "1.2.0",
          "state": {
            "_model_module": "@jupyter-widgets/base",
            "_model_module_version": "1.2.0",
            "_model_name": "LayoutModel",
            "_view_count": null,
            "_view_module": "@jupyter-widgets/base",
            "_view_module_version": "1.2.0",
            "_view_name": "LayoutView",
            "align_content": null,
            "align_items": null,
            "align_self": null,
            "border": null,
            "bottom": null,
            "display": null,
            "flex": null,
            "flex_flow": null,
            "grid_area": null,
            "grid_auto_columns": null,
            "grid_auto_flow": null,
            "grid_auto_rows": null,
            "grid_column": null,
            "grid_gap": null,
            "grid_row": null,
            "grid_template_areas": null,
            "grid_template_columns": null,
            "grid_template_rows": null,
            "height": null,
            "justify_content": null,
            "justify_items": null,
            "left": null,
            "margin": null,
            "max_height": null,
            "max_width": null,
            "min_height": null,
            "min_width": null,
            "object_fit": null,
            "object_position": null,
            "order": null,
            "overflow": null,
            "overflow_x": null,
            "overflow_y": null,
            "padding": null,
            "right": null,
            "top": null,
            "visibility": null,
            "width": null
          }
        },
        "5d272558d31d4e7099cddd1ebe05d97d": {
          "model_module": "@jupyter-widgets/controls",
          "model_name": "DescriptionStyleModel",
          "model_module_version": "1.5.0",
          "state": {
            "_model_module": "@jupyter-widgets/controls",
            "_model_module_version": "1.5.0",
            "_model_name": "DescriptionStyleModel",
            "_view_count": null,
            "_view_module": "@jupyter-widgets/base",
            "_view_module_version": "1.2.0",
            "_view_name": "StyleView",
            "description_width": ""
          }
        },
        "a7378da81af641128e0c100f4fbfa7c7": {
          "model_module": "@jupyter-widgets/controls",
          "model_name": "HBoxModel",
          "model_module_version": "1.5.0",
          "state": {
            "_dom_classes": [],
            "_model_module": "@jupyter-widgets/controls",
            "_model_module_version": "1.5.0",
            "_model_name": "HBoxModel",
            "_view_count": null,
            "_view_module": "@jupyter-widgets/controls",
            "_view_module_version": "1.5.0",
            "_view_name": "HBoxView",
            "box_style": "",
            "children": [
              "IPY_MODEL_fb9bd8e086d2463a8a9a80b29b5e9eda",
              "IPY_MODEL_91ee0d4c349647d383711cabb3b8d5c7",
              "IPY_MODEL_4d7653031a0d472e913915a3947621f9"
            ],
            "layout": "IPY_MODEL_f385eff10b664661bd9e3d9278221dbe"
          }
        },
        "fb9bd8e086d2463a8a9a80b29b5e9eda": {
          "model_module": "@jupyter-widgets/controls",
          "model_name": "HTMLModel",
          "model_module_version": "1.5.0",
          "state": {
            "_dom_classes": [],
            "_model_module": "@jupyter-widgets/controls",
            "_model_module_version": "1.5.0",
            "_model_name": "HTMLModel",
            "_view_count": null,
            "_view_module": "@jupyter-widgets/controls",
            "_view_module_version": "1.5.0",
            "_view_name": "HTMLView",
            "description": "",
            "description_tooltip": null,
            "layout": "IPY_MODEL_444aa7e65bfd48c9ac713d2f6db0b317",
            "placeholder": "​",
            "style": "IPY_MODEL_e78315d4b56d46d3aed54901ffcf35c5",
            "value": "Generating train split: 100%"
          }
        },
        "91ee0d4c349647d383711cabb3b8d5c7": {
          "model_module": "@jupyter-widgets/controls",
          "model_name": "FloatProgressModel",
          "model_module_version": "1.5.0",
          "state": {
            "_dom_classes": [],
            "_model_module": "@jupyter-widgets/controls",
            "_model_module_version": "1.5.0",
            "_model_name": "FloatProgressModel",
            "_view_count": null,
            "_view_module": "@jupyter-widgets/controls",
            "_view_module_version": "1.5.0",
            "_view_name": "ProgressView",
            "bar_style": "success",
            "description": "",
            "description_tooltip": null,
            "layout": "IPY_MODEL_2d42f04b6603474abaa243d6aee70a1c",
            "max": 50000,
            "min": 0,
            "orientation": "horizontal",
            "style": "IPY_MODEL_1c4e8feaacab4e9998b0e16f36671f40",
            "value": 50000
          }
        },
        "4d7653031a0d472e913915a3947621f9": {
          "model_module": "@jupyter-widgets/controls",
          "model_name": "HTMLModel",
          "model_module_version": "1.5.0",
          "state": {
            "_dom_classes": [],
            "_model_module": "@jupyter-widgets/controls",
            "_model_module_version": "1.5.0",
            "_model_name": "HTMLModel",
            "_view_count": null,
            "_view_module": "@jupyter-widgets/controls",
            "_view_module_version": "1.5.0",
            "_view_name": "HTMLView",
            "description": "",
            "description_tooltip": null,
            "layout": "IPY_MODEL_b241c0e481924407b0d00d09c9467a3c",
            "placeholder": "​",
            "style": "IPY_MODEL_6edbb07ccf94489e90e67a746cc3e416",
            "value": " 50000/50000 [00:00&lt;00:00, 63493.47 examples/s]"
          }
        },
        "f385eff10b664661bd9e3d9278221dbe": {
          "model_module": "@jupyter-widgets/base",
          "model_name": "LayoutModel",
          "model_module_version": "1.2.0",
          "state": {
            "_model_module": "@jupyter-widgets/base",
            "_model_module_version": "1.2.0",
            "_model_name": "LayoutModel",
            "_view_count": null,
            "_view_module": "@jupyter-widgets/base",
            "_view_module_version": "1.2.0",
            "_view_name": "LayoutView",
            "align_content": null,
            "align_items": null,
            "align_self": null,
            "border": null,
            "bottom": null,
            "display": null,
            "flex": null,
            "flex_flow": null,
            "grid_area": null,
            "grid_auto_columns": null,
            "grid_auto_flow": null,
            "grid_auto_rows": null,
            "grid_column": null,
            "grid_gap": null,
            "grid_row": null,
            "grid_template_areas": null,
            "grid_template_columns": null,
            "grid_template_rows": null,
            "height": null,
            "justify_content": null,
            "justify_items": null,
            "left": null,
            "margin": null,
            "max_height": null,
            "max_width": null,
            "min_height": null,
            "min_width": null,
            "object_fit": null,
            "object_position": null,
            "order": null,
            "overflow": null,
            "overflow_x": null,
            "overflow_y": null,
            "padding": null,
            "right": null,
            "top": null,
            "visibility": null,
            "width": null
          }
        },
        "444aa7e65bfd48c9ac713d2f6db0b317": {
          "model_module": "@jupyter-widgets/base",
          "model_name": "LayoutModel",
          "model_module_version": "1.2.0",
          "state": {
            "_model_module": "@jupyter-widgets/base",
            "_model_module_version": "1.2.0",
            "_model_name": "LayoutModel",
            "_view_count": null,
            "_view_module": "@jupyter-widgets/base",
            "_view_module_version": "1.2.0",
            "_view_name": "LayoutView",
            "align_content": null,
            "align_items": null,
            "align_self": null,
            "border": null,
            "bottom": null,
            "display": null,
            "flex": null,
            "flex_flow": null,
            "grid_area": null,
            "grid_auto_columns": null,
            "grid_auto_flow": null,
            "grid_auto_rows": null,
            "grid_column": null,
            "grid_gap": null,
            "grid_row": null,
            "grid_template_areas": null,
            "grid_template_columns": null,
            "grid_template_rows": null,
            "height": null,
            "justify_content": null,
            "justify_items": null,
            "left": null,
            "margin": null,
            "max_height": null,
            "max_width": null,
            "min_height": null,
            "min_width": null,
            "object_fit": null,
            "object_position": null,
            "order": null,
            "overflow": null,
            "overflow_x": null,
            "overflow_y": null,
            "padding": null,
            "right": null,
            "top": null,
            "visibility": null,
            "width": null
          }
        },
        "e78315d4b56d46d3aed54901ffcf35c5": {
          "model_module": "@jupyter-widgets/controls",
          "model_name": "DescriptionStyleModel",
          "model_module_version": "1.5.0",
          "state": {
            "_model_module": "@jupyter-widgets/controls",
            "_model_module_version": "1.5.0",
            "_model_name": "DescriptionStyleModel",
            "_view_count": null,
            "_view_module": "@jupyter-widgets/base",
            "_view_module_version": "1.2.0",
            "_view_name": "StyleView",
            "description_width": ""
          }
        },
        "2d42f04b6603474abaa243d6aee70a1c": {
          "model_module": "@jupyter-widgets/base",
          "model_name": "LayoutModel",
          "model_module_version": "1.2.0",
          "state": {
            "_model_module": "@jupyter-widgets/base",
            "_model_module_version": "1.2.0",
            "_model_name": "LayoutModel",
            "_view_count": null,
            "_view_module": "@jupyter-widgets/base",
            "_view_module_version": "1.2.0",
            "_view_name": "LayoutView",
            "align_content": null,
            "align_items": null,
            "align_self": null,
            "border": null,
            "bottom": null,
            "display": null,
            "flex": null,
            "flex_flow": null,
            "grid_area": null,
            "grid_auto_columns": null,
            "grid_auto_flow": null,
            "grid_auto_rows": null,
            "grid_column": null,
            "grid_gap": null,
            "grid_row": null,
            "grid_template_areas": null,
            "grid_template_columns": null,
            "grid_template_rows": null,
            "height": null,
            "justify_content": null,
            "justify_items": null,
            "left": null,
            "margin": null,
            "max_height": null,
            "max_width": null,
            "min_height": null,
            "min_width": null,
            "object_fit": null,
            "object_position": null,
            "order": null,
            "overflow": null,
            "overflow_x": null,
            "overflow_y": null,
            "padding": null,
            "right": null,
            "top": null,
            "visibility": null,
            "width": null
          }
        },
        "1c4e8feaacab4e9998b0e16f36671f40": {
          "model_module": "@jupyter-widgets/controls",
          "model_name": "ProgressStyleModel",
          "model_module_version": "1.5.0",
          "state": {
            "_model_module": "@jupyter-widgets/controls",
            "_model_module_version": "1.5.0",
            "_model_name": "ProgressStyleModel",
            "_view_count": null,
            "_view_module": "@jupyter-widgets/base",
            "_view_module_version": "1.2.0",
            "_view_name": "StyleView",
            "bar_color": null,
            "description_width": ""
          }
        },
        "b241c0e481924407b0d00d09c9467a3c": {
          "model_module": "@jupyter-widgets/base",
          "model_name": "LayoutModel",
          "model_module_version": "1.2.0",
          "state": {
            "_model_module": "@jupyter-widgets/base",
            "_model_module_version": "1.2.0",
            "_model_name": "LayoutModel",
            "_view_count": null,
            "_view_module": "@jupyter-widgets/base",
            "_view_module_version": "1.2.0",
            "_view_name": "LayoutView",
            "align_content": null,
            "align_items": null,
            "align_self": null,
            "border": null,
            "bottom": null,
            "display": null,
            "flex": null,
            "flex_flow": null,
            "grid_area": null,
            "grid_auto_columns": null,
            "grid_auto_flow": null,
            "grid_auto_rows": null,
            "grid_column": null,
            "grid_gap": null,
            "grid_row": null,
            "grid_template_areas": null,
            "grid_template_columns": null,
            "grid_template_rows": null,
            "height": null,
            "justify_content": null,
            "justify_items": null,
            "left": null,
            "margin": null,
            "max_height": null,
            "max_width": null,
            "min_height": null,
            "min_width": null,
            "object_fit": null,
            "object_position": null,
            "order": null,
            "overflow": null,
            "overflow_x": null,
            "overflow_y": null,
            "padding": null,
            "right": null,
            "top": null,
            "visibility": null,
            "width": null
          }
        },
        "6edbb07ccf94489e90e67a746cc3e416": {
          "model_module": "@jupyter-widgets/controls",
          "model_name": "DescriptionStyleModel",
          "model_module_version": "1.5.0",
          "state": {
            "_model_module": "@jupyter-widgets/controls",
            "_model_module_version": "1.5.0",
            "_model_name": "DescriptionStyleModel",
            "_view_count": null,
            "_view_module": "@jupyter-widgets/base",
            "_view_module_version": "1.2.0",
            "_view_name": "StyleView",
            "description_width": ""
          }
        }
      }
    }
  },
  "nbformat_minor": 0,
  "nbformat": 4,
  "cells": [
    {
      "cell_type": "markdown",
      "source": [
        "## Important Code for importing"
      ],
      "metadata": {
        "id": "kgZbuaqE3Pr2"
      }
    },
    {
      "source": [
        "\n",
        "# IMPORTANT: RUN THIS CELL IN ORDER TO IMPORT YOUR KAGGLE DATA SOURCES\n",
        "# TO THE CORRECT LOCATION (/kaggle/input) IN YOUR NOTEBOOK,\n",
        "# THEN FEEL FREE TO DELETE THIS CELL.\n",
        "# NOTE: THIS NOTEBOOK ENVIRONMENT DIFFERS FROM KAGGLE'S PYTHON\n",
        "# ENVIRONMENT SO THERE MAY BE MISSING LIBRARIES USED BY YOUR\n",
        "# NOTEBOOK.\n",
        "\n",
        "import os\n",
        "import sys\n",
        "from tempfile import NamedTemporaryFile\n",
        "from urllib.request import urlopen\n",
        "from urllib.parse import unquote, urlparse\n",
        "from urllib.error import HTTPError\n",
        "from zipfile import ZipFile\n",
        "import tarfile\n",
        "import shutil\n",
        "\n",
        "CHUNK_SIZE = 40960\n",
        "DATA_SOURCE_MAPPING = 'urdu-stopwords:https%3A%2F%2Fstorage.googleapis.com%2Fkaggle-data-sets%2F3741921%2F6477352%2Fbundle%2Farchive.zip%3FX-Goog-Algorithm%3DGOOG4-RSA-SHA256%26X-Goog-Credential%3Dgcp-kaggle-com%2540kaggle-161607.iam.gserviceaccount.com%252F20240427%252Fauto%252Fstorage%252Fgoog4_request%26X-Goog-Date%3D20240427T111438Z%26X-Goog-Expires%3D259200%26X-Goog-SignedHeaders%3Dhost%26X-Goog-Signature%3D20397ee1614a33e42da4aad6dd3a3995a962fa15ea1134abfb33239215a2b939683b68a963d0eb9328a5502ae29dc5b4b4145b681f4cd0ad9c1cc6883416b87e3c0fb7b9bba8f372c65bda06a4503e5f3c99f499d2413d9e80f5e5f0d5d6121a0d0914f2f7a99a0b6817f9950b593cb74bafbb4136ee7345a8c8f2faaa93b2a8e6819d9a5e919ef499c3f0eff19b546d974ea1952abd4734e3fa95e9ccc4aa188a19e6bfeb4c4e8e939c90446834233a0d2813f1f3aa70fedf478b55e49ca97aed3cc28f38f5e913a7fb71d21cbf45b54d171e17da16f73c8777cd594209ea1139c7c74f6195d97acc1df235b8aac1729c174f758c620a6be28e49265a1ad6ef'\n",
        "\n",
        "KAGGLE_INPUT_PATH='/kaggle/input'\n",
        "KAGGLE_WORKING_PATH='/kaggle/working'\n",
        "KAGGLE_SYMLINK='kaggle'\n",
        "\n",
        "!umount /kaggle/input/ 2> /dev/null\n",
        "shutil.rmtree('/kaggle/input', ignore_errors=True)\n",
        "os.makedirs(KAGGLE_INPUT_PATH, 0o777, exist_ok=True)\n",
        "os.makedirs(KAGGLE_WORKING_PATH, 0o777, exist_ok=True)\n",
        "\n",
        "try:\n",
        "  os.symlink(KAGGLE_INPUT_PATH, os.path.join(\"..\", 'input'), target_is_directory=True)\n",
        "except FileExistsError:\n",
        "  pass\n",
        "try:\n",
        "  os.symlink(KAGGLE_WORKING_PATH, os.path.join(\"..\", 'working'), target_is_directory=True)\n",
        "except FileExistsError:\n",
        "  pass\n",
        "\n",
        "for data_source_mapping in DATA_SOURCE_MAPPING.split(','):\n",
        "    directory, download_url_encoded = data_source_mapping.split(':')\n",
        "    download_url = unquote(download_url_encoded)\n",
        "    filename = urlparse(download_url).path\n",
        "    destination_path = os.path.join(KAGGLE_INPUT_PATH, directory)\n",
        "    try:\n",
        "        with urlopen(download_url) as fileres, NamedTemporaryFile() as tfile:\n",
        "            total_length = fileres.headers['content-length']\n",
        "            print(f'Downloading {directory}, {total_length} bytes compressed')\n",
        "            dl = 0\n",
        "            data = fileres.read(CHUNK_SIZE)\n",
        "            while len(data) > 0:\n",
        "                dl += len(data)\n",
        "                tfile.write(data)\n",
        "                done = int(50 * dl / int(total_length))\n",
        "                sys.stdout.write(f\"\\r[{'=' * done}{' ' * (50-done)}] {dl} bytes downloaded\")\n",
        "                sys.stdout.flush()\n",
        "                data = fileres.read(CHUNK_SIZE)\n",
        "            if filename.endswith('.zip'):\n",
        "              with ZipFile(tfile) as zfile:\n",
        "                zfile.extractall(destination_path)\n",
        "            else:\n",
        "              with tarfile.open(tfile.name) as tarfile:\n",
        "                tarfile.extractall(destination_path)\n",
        "            print(f'\\nDownloaded and uncompressed: {directory}')\n",
        "    except HTTPError as e:\n",
        "        print(f'Failed to load (likely expired) {download_url} to path {destination_path}')\n",
        "        continue\n",
        "    except OSError as e:\n",
        "        print(f'Failed to load {download_url} to path {destination_path}')\n",
        "        continue\n",
        "\n",
        "print('Data source import complete.')\n"
      ],
      "metadata": {
        "id": "ucouGSZ9jiiX",
        "colab": {
          "base_uri": "https://localhost:8080/"
        },
        "outputId": "73fca03c-abfa-4e6a-f05b-75417c17ec35"
      },
      "cell_type": "code",
      "outputs": [
        {
          "output_type": "stream",
          "name": "stdout",
          "text": [
            "Downloading urdu-stopwords, 758 bytes compressed\n",
            "\r[==================================================] 758 bytes downloaded\n",
            "Downloaded and uncompressed: urdu-stopwords\n",
            "Data source import complete.\n"
          ]
        }
      ],
      "execution_count": null
    },
    {
      "cell_type": "code",
      "source": [
        "!pip install datasets"
      ],
      "metadata": {
        "execution": {
          "iopub.status.busy": "2024-04-27T07:28:40.465721Z",
          "iopub.execute_input": "2024-04-27T07:28:40.466771Z",
          "iopub.status.idle": "2024-04-27T07:28:54.214844Z",
          "shell.execute_reply.started": "2024-04-27T07:28:40.466735Z",
          "shell.execute_reply": "2024-04-27T07:28:54.213899Z"
        },
        "trusted": true,
        "id": "MQiJtj7mjiic",
        "outputId": "62fdc8d6-3d45-48c6-88eb-dbccb3bdd430",
        "colab": {
          "base_uri": "https://localhost:8080/"
        }
      },
      "execution_count": null,
      "outputs": [
        {
          "output_type": "stream",
          "name": "stdout",
          "text": [
            "Collecting datasets\n",
            "  Downloading datasets-2.19.0-py3-none-any.whl (542 kB)\n",
            "\u001b[2K     \u001b[90m━━━━━━━━━━━━━━━━━━━━━━━━━━━━━━━━━━━━━━━━\u001b[0m \u001b[32m542.0/542.0 kB\u001b[0m \u001b[31m5.8 MB/s\u001b[0m eta \u001b[36m0:00:00\u001b[0m\n",
            "\u001b[?25hRequirement already satisfied: filelock in /usr/local/lib/python3.10/dist-packages (from datasets) (3.13.4)\n",
            "Requirement already satisfied: numpy>=1.17 in /usr/local/lib/python3.10/dist-packages (from datasets) (1.25.2)\n",
            "Requirement already satisfied: pyarrow>=12.0.0 in /usr/local/lib/python3.10/dist-packages (from datasets) (14.0.2)\n",
            "Requirement already satisfied: pyarrow-hotfix in /usr/local/lib/python3.10/dist-packages (from datasets) (0.6)\n",
            "Collecting dill<0.3.9,>=0.3.0 (from datasets)\n",
            "  Downloading dill-0.3.8-py3-none-any.whl (116 kB)\n",
            "\u001b[2K     \u001b[90m━━━━━━━━━━━━━━━━━━━━━━━━━━━━━━━━━━━━━━━━\u001b[0m \u001b[32m116.3/116.3 kB\u001b[0m \u001b[31m12.9 MB/s\u001b[0m eta \u001b[36m0:00:00\u001b[0m\n",
            "\u001b[?25hRequirement already satisfied: pandas in /usr/local/lib/python3.10/dist-packages (from datasets) (2.0.3)\n",
            "Requirement already satisfied: requests>=2.19.0 in /usr/local/lib/python3.10/dist-packages (from datasets) (2.31.0)\n",
            "Requirement already satisfied: tqdm>=4.62.1 in /usr/local/lib/python3.10/dist-packages (from datasets) (4.66.2)\n",
            "Collecting xxhash (from datasets)\n",
            "  Downloading xxhash-3.4.1-cp310-cp310-manylinux_2_17_x86_64.manylinux2014_x86_64.whl (194 kB)\n",
            "\u001b[2K     \u001b[90m━━━━━━━━━━━━━━━━━━━━━━━━━━━━━━━━━━━━━━━━\u001b[0m \u001b[32m194.1/194.1 kB\u001b[0m \u001b[31m23.3 MB/s\u001b[0m eta \u001b[36m0:00:00\u001b[0m\n",
            "\u001b[?25hCollecting multiprocess (from datasets)\n",
            "  Downloading multiprocess-0.70.16-py310-none-any.whl (134 kB)\n",
            "\u001b[2K     \u001b[90m━━━━━━━━━━━━━━━━━━━━━━━━━━━━━━━━━━━━━━━━\u001b[0m \u001b[32m134.8/134.8 kB\u001b[0m \u001b[31m16.8 MB/s\u001b[0m eta \u001b[36m0:00:00\u001b[0m\n",
            "\u001b[?25hRequirement already satisfied: fsspec[http]<=2024.3.1,>=2023.1.0 in /usr/local/lib/python3.10/dist-packages (from datasets) (2023.6.0)\n",
            "Requirement already satisfied: aiohttp in /usr/local/lib/python3.10/dist-packages (from datasets) (3.9.5)\n",
            "Collecting huggingface-hub>=0.21.2 (from datasets)\n",
            "  Downloading huggingface_hub-0.22.2-py3-none-any.whl (388 kB)\n",
            "\u001b[2K     \u001b[90m━━━━━━━━━━━━━━━━━━━━━━━━━━━━━━━━━━━━━━━━\u001b[0m \u001b[32m388.9/388.9 kB\u001b[0m \u001b[31m18.2 MB/s\u001b[0m eta \u001b[36m0:00:00\u001b[0m\n",
            "\u001b[?25hRequirement already satisfied: packaging in /usr/local/lib/python3.10/dist-packages (from datasets) (24.0)\n",
            "Requirement already satisfied: pyyaml>=5.1 in /usr/local/lib/python3.10/dist-packages (from datasets) (6.0.1)\n",
            "Requirement already satisfied: aiosignal>=1.1.2 in /usr/local/lib/python3.10/dist-packages (from aiohttp->datasets) (1.3.1)\n",
            "Requirement already satisfied: attrs>=17.3.0 in /usr/local/lib/python3.10/dist-packages (from aiohttp->datasets) (23.2.0)\n",
            "Requirement already satisfied: frozenlist>=1.1.1 in /usr/local/lib/python3.10/dist-packages (from aiohttp->datasets) (1.4.1)\n",
            "Requirement already satisfied: multidict<7.0,>=4.5 in /usr/local/lib/python3.10/dist-packages (from aiohttp->datasets) (6.0.5)\n",
            "Requirement already satisfied: yarl<2.0,>=1.0 in /usr/local/lib/python3.10/dist-packages (from aiohttp->datasets) (1.9.4)\n",
            "Requirement already satisfied: async-timeout<5.0,>=4.0 in /usr/local/lib/python3.10/dist-packages (from aiohttp->datasets) (4.0.3)\n",
            "Requirement already satisfied: typing-extensions>=3.7.4.3 in /usr/local/lib/python3.10/dist-packages (from huggingface-hub>=0.21.2->datasets) (4.11.0)\n",
            "Requirement already satisfied: charset-normalizer<4,>=2 in /usr/local/lib/python3.10/dist-packages (from requests>=2.19.0->datasets) (3.3.2)\n",
            "Requirement already satisfied: idna<4,>=2.5 in /usr/local/lib/python3.10/dist-packages (from requests>=2.19.0->datasets) (3.7)\n",
            "Requirement already satisfied: urllib3<3,>=1.21.1 in /usr/local/lib/python3.10/dist-packages (from requests>=2.19.0->datasets) (2.0.7)\n",
            "Requirement already satisfied: certifi>=2017.4.17 in /usr/local/lib/python3.10/dist-packages (from requests>=2.19.0->datasets) (2024.2.2)\n",
            "Requirement already satisfied: python-dateutil>=2.8.2 in /usr/local/lib/python3.10/dist-packages (from pandas->datasets) (2.8.2)\n",
            "Requirement already satisfied: pytz>=2020.1 in /usr/local/lib/python3.10/dist-packages (from pandas->datasets) (2023.4)\n",
            "Requirement already satisfied: tzdata>=2022.1 in /usr/local/lib/python3.10/dist-packages (from pandas->datasets) (2024.1)\n",
            "Requirement already satisfied: six>=1.5 in /usr/local/lib/python3.10/dist-packages (from python-dateutil>=2.8.2->pandas->datasets) (1.16.0)\n",
            "Installing collected packages: xxhash, dill, multiprocess, huggingface-hub, datasets\n",
            "  Attempting uninstall: huggingface-hub\n",
            "    Found existing installation: huggingface-hub 0.20.3\n",
            "    Uninstalling huggingface-hub-0.20.3:\n",
            "      Successfully uninstalled huggingface-hub-0.20.3\n",
            "Successfully installed datasets-2.19.0 dill-0.3.8 huggingface-hub-0.22.2 multiprocess-0.70.16 xxhash-3.4.1\n"
          ]
        }
      ]
    },
    {
      "cell_type": "code",
      "source": [
        "# This Python 3 environment comes with many helpful analytics libraries installed\n",
        "# It is defined by the kaggle/python Docker image: https://github.com/kaggle/docker-python\n",
        "# For example, here's several helpful packages to load\n",
        "\n",
        "import numpy as np # linear algebra\n",
        "import pandas as pd # data processing, CSV file I/O (e.g. pd.read_csv)\n",
        "import datasets\n",
        "from sklearn.model_selection import train_test_split\n",
        "import tensorflow as tf\n",
        "# Input data files are available in the read-only \"../input/\" directory\n",
        "# For example, running this (by clicking run or pressing Shift+Enter) will list all files under the input directory\n",
        "\n",
        "import os\n",
        "for dirname, _, filenames in os.walk('/kaggle/input'):\n",
        "    for filename in filenames:\n",
        "        print(os.path.join(dirname, filename))\n",
        "\n",
        "# You can write up to 20GB to the current directory (/kaggle/working/) that gets preserved as output when you create a version using \"Save & Run All\"\n",
        "# You can also write temporary files to /kaggle/temp/, but they won't be saved outside of the current session"
      ],
      "metadata": {
        "_uuid": "8f2839f25d086af736a60e9eeb907d3b93b6e0e5",
        "_cell_guid": "b1076dfc-b9ad-4769-8c92-a6c4dae69d19",
        "execution": {
          "iopub.status.busy": "2024-04-27T08:07:51.970976Z",
          "iopub.execute_input": "2024-04-27T08:07:51.971637Z",
          "iopub.status.idle": "2024-04-27T08:07:51.978597Z",
          "shell.execute_reply.started": "2024-04-27T08:07:51.971607Z",
          "shell.execute_reply": "2024-04-27T08:07:51.977767Z"
        },
        "trusted": true,
        "id": "QphHOpS_jiia",
        "outputId": "f4996184-2fa7-4c5b-c6db-49194eaeef11",
        "colab": {
          "base_uri": "https://localhost:8080/"
        }
      },
      "execution_count": null,
      "outputs": [
        {
          "output_type": "stream",
          "name": "stdout",
          "text": [
            "/kaggle/input/urdu-stopwords/urdu_stopwords.csv\n"
          ]
        }
      ]
    },
    {
      "cell_type": "code",
      "source": [
        "!pip install keras"
      ],
      "metadata": {
        "execution": {
          "iopub.status.busy": "2024-04-27T08:06:25.757576Z",
          "iopub.execute_input": "2024-04-27T08:06:25.758426Z",
          "iopub.status.idle": "2024-04-27T08:06:38.096306Z",
          "shell.execute_reply.started": "2024-04-27T08:06:25.75839Z",
          "shell.execute_reply": "2024-04-27T08:06:38.095119Z"
        },
        "trusted": true,
        "id": "msSj0K5Tjiib",
        "outputId": "eecb063c-e5f6-495c-9b48-226c4851ca22",
        "colab": {
          "base_uri": "https://localhost:8080/"
        }
      },
      "execution_count": null,
      "outputs": [
        {
          "output_type": "stream",
          "name": "stdout",
          "text": [
            "Requirement already satisfied: keras in /usr/local/lib/python3.10/dist-packages (2.15.0)\n"
          ]
        }
      ]
    },
    {
      "cell_type": "markdown",
      "source": [
        "## Dataset"
      ],
      "metadata": {
        "id": "CSOYc7O6jiib"
      }
    },
    {
      "cell_type": "code",
      "source": [
        "dataset = datasets.load_dataset(\"imdb_urdu_reviews\")\n",
        "dataset"
      ],
      "metadata": {
        "execution": {
          "iopub.status.busy": "2024-04-27T07:28:54.216921Z",
          "iopub.execute_input": "2024-04-27T07:28:54.217727Z",
          "iopub.status.idle": "2024-04-27T07:28:57.014847Z",
          "shell.execute_reply.started": "2024-04-27T07:28:54.217688Z",
          "shell.execute_reply": "2024-04-27T07:28:57.0139Z"
        },
        "trusted": true,
        "id": "AYayUdoUjiid",
        "outputId": "e69d1df2-2835-4065-9930-2c1f151dbbca",
        "colab": {
          "referenced_widgets": [
            "68686065f2e94c2e9a798cee4be9f7f1",
            "82dfca3fdc104ec8b07f7f963475c2a4",
            "692b096306b542628ce68831d86b5274",
            "f6500df9b76e4ff8ab8bc2ae9e8db20a",
            "368a273053fe40e5b45b6b085d55846a",
            "a1d5758b7cbc43cbb9f1dbe8e6635410",
            "adc37a82308542e687170052c38c8d97",
            "a0f88337f0f545839508ba7524d3dd58",
            "753c6d1817744d4c88c72ede8683e495",
            "2c0e0991baf74d8baacb65cb1506a42c",
            "5d272558d31d4e7099cddd1ebe05d97d",
            "a7378da81af641128e0c100f4fbfa7c7",
            "fb9bd8e086d2463a8a9a80b29b5e9eda",
            "91ee0d4c349647d383711cabb3b8d5c7",
            "4d7653031a0d472e913915a3947621f9",
            "f385eff10b664661bd9e3d9278221dbe",
            "444aa7e65bfd48c9ac713d2f6db0b317",
            "e78315d4b56d46d3aed54901ffcf35c5",
            "2d42f04b6603474abaa243d6aee70a1c",
            "1c4e8feaacab4e9998b0e16f36671f40",
            "b241c0e481924407b0d00d09c9467a3c",
            "6edbb07ccf94489e90e67a746cc3e416"
          ],
          "base_uri": "https://localhost:8080/",
          "height": 309
        }
      },
      "execution_count": null,
      "outputs": [
        {
          "output_type": "stream",
          "name": "stderr",
          "text": [
            "/usr/local/lib/python3.10/dist-packages/huggingface_hub/utils/_token.py:89: UserWarning: \n",
            "The secret `HF_TOKEN` does not exist in your Colab secrets.\n",
            "To authenticate with the Hugging Face Hub, create a token in your settings tab (https://huggingface.co/settings/tokens), set it as secret in your Google Colab and restart your session.\n",
            "You will be able to reuse this secret in all of your notebooks.\n",
            "Please note that authentication is recommended but still optional to access public models or datasets.\n",
            "  warnings.warn(\n"
          ]
        },
        {
          "output_type": "display_data",
          "data": {
            "text/plain": [
              "Downloading data:   0%|          | 0.00/56.2M [00:00<?, ?B/s]"
            ],
            "application/vnd.jupyter.widget-view+json": {
              "version_major": 2,
              "version_minor": 0,
              "model_id": "68686065f2e94c2e9a798cee4be9f7f1"
            }
          },
          "metadata": {}
        },
        {
          "output_type": "display_data",
          "data": {
            "text/plain": [
              "Generating train split:   0%|          | 0/50000 [00:00<?, ? examples/s]"
            ],
            "application/vnd.jupyter.widget-view+json": {
              "version_major": 2,
              "version_minor": 0,
              "model_id": "a7378da81af641128e0c100f4fbfa7c7"
            }
          },
          "metadata": {}
        },
        {
          "output_type": "execute_result",
          "data": {
            "text/plain": [
              "DatasetDict({\n",
              "    train: Dataset({\n",
              "        features: ['sentence', 'sentiment'],\n",
              "        num_rows: 50000\n",
              "    })\n",
              "})"
            ]
          },
          "metadata": {},
          "execution_count": 5
        }
      ]
    },
    {
      "cell_type": "code",
      "source": [
        "df = pd.DataFrame(dataset['train'])\n",
        "df.head()"
      ],
      "metadata": {
        "execution": {
          "iopub.status.busy": "2024-04-27T07:29:00.378233Z",
          "iopub.execute_input": "2024-04-27T07:29:00.378593Z",
          "iopub.status.idle": "2024-04-27T07:29:02.781651Z",
          "shell.execute_reply.started": "2024-04-27T07:29:00.378564Z",
          "shell.execute_reply": "2024-04-27T07:29:02.780671Z"
        },
        "trusted": true,
        "id": "NLuHk7-zjiid",
        "outputId": "c5e41bf2-1254-4918-af16-a6cf5f3a5549",
        "colab": {
          "base_uri": "https://localhost:8080/",
          "height": 206
        }
      },
      "execution_count": null,
      "outputs": [
        {
          "output_type": "execute_result",
          "data": {
            "text/plain": [
              "                                            sentence  sentiment\n",
              "0  میں نے اسے 80 کی دہائی کے وسط میں ایک کیبل گائ...          0\n",
              "1  چونکہ میں نے 80 کی دہائی میں انسپکٹر گیجٹ کارٹ...          1\n",
              "2  ایک ایسے معاشرے کی حالت کے بارے میں تعجب کرتا ...          0\n",
              "3  مفید البرٹ پیون کی طرف سے ایک اور ردی کی ٹوکری...          1\n",
              "4  یہ کولمبو ہے جس کی ہدایتکاری اپنے کیریئر کے اب...          0"
            ],
            "text/html": [
              "\n",
              "  <div id=\"df-b1f6b06b-8e31-4a74-b31d-839df0b559ac\" class=\"colab-df-container\">\n",
              "    <div>\n",
              "<style scoped>\n",
              "    .dataframe tbody tr th:only-of-type {\n",
              "        vertical-align: middle;\n",
              "    }\n",
              "\n",
              "    .dataframe tbody tr th {\n",
              "        vertical-align: top;\n",
              "    }\n",
              "\n",
              "    .dataframe thead th {\n",
              "        text-align: right;\n",
              "    }\n",
              "</style>\n",
              "<table border=\"1\" class=\"dataframe\">\n",
              "  <thead>\n",
              "    <tr style=\"text-align: right;\">\n",
              "      <th></th>\n",
              "      <th>sentence</th>\n",
              "      <th>sentiment</th>\n",
              "    </tr>\n",
              "  </thead>\n",
              "  <tbody>\n",
              "    <tr>\n",
              "      <th>0</th>\n",
              "      <td>میں نے اسے 80 کی دہائی کے وسط میں ایک کیبل گائ...</td>\n",
              "      <td>0</td>\n",
              "    </tr>\n",
              "    <tr>\n",
              "      <th>1</th>\n",
              "      <td>چونکہ میں نے 80 کی دہائی میں انسپکٹر گیجٹ کارٹ...</td>\n",
              "      <td>1</td>\n",
              "    </tr>\n",
              "    <tr>\n",
              "      <th>2</th>\n",
              "      <td>ایک ایسے معاشرے کی حالت کے بارے میں تعجب کرتا ...</td>\n",
              "      <td>0</td>\n",
              "    </tr>\n",
              "    <tr>\n",
              "      <th>3</th>\n",
              "      <td>مفید البرٹ پیون کی طرف سے ایک اور ردی کی ٹوکری...</td>\n",
              "      <td>1</td>\n",
              "    </tr>\n",
              "    <tr>\n",
              "      <th>4</th>\n",
              "      <td>یہ کولمبو ہے جس کی ہدایتکاری اپنے کیریئر کے اب...</td>\n",
              "      <td>0</td>\n",
              "    </tr>\n",
              "  </tbody>\n",
              "</table>\n",
              "</div>\n",
              "    <div class=\"colab-df-buttons\">\n",
              "\n",
              "  <div class=\"colab-df-container\">\n",
              "    <button class=\"colab-df-convert\" onclick=\"convertToInteractive('df-b1f6b06b-8e31-4a74-b31d-839df0b559ac')\"\n",
              "            title=\"Convert this dataframe to an interactive table.\"\n",
              "            style=\"display:none;\">\n",
              "\n",
              "  <svg xmlns=\"http://www.w3.org/2000/svg\" height=\"24px\" viewBox=\"0 -960 960 960\">\n",
              "    <path d=\"M120-120v-720h720v720H120Zm60-500h600v-160H180v160Zm220 220h160v-160H400v160Zm0 220h160v-160H400v160ZM180-400h160v-160H180v160Zm440 0h160v-160H620v160ZM180-180h160v-160H180v160Zm440 0h160v-160H620v160Z\"/>\n",
              "  </svg>\n",
              "    </button>\n",
              "\n",
              "  <style>\n",
              "    .colab-df-container {\n",
              "      display:flex;\n",
              "      gap: 12px;\n",
              "    }\n",
              "\n",
              "    .colab-df-convert {\n",
              "      background-color: #E8F0FE;\n",
              "      border: none;\n",
              "      border-radius: 50%;\n",
              "      cursor: pointer;\n",
              "      display: none;\n",
              "      fill: #1967D2;\n",
              "      height: 32px;\n",
              "      padding: 0 0 0 0;\n",
              "      width: 32px;\n",
              "    }\n",
              "\n",
              "    .colab-df-convert:hover {\n",
              "      background-color: #E2EBFA;\n",
              "      box-shadow: 0px 1px 2px rgba(60, 64, 67, 0.3), 0px 1px 3px 1px rgba(60, 64, 67, 0.15);\n",
              "      fill: #174EA6;\n",
              "    }\n",
              "\n",
              "    .colab-df-buttons div {\n",
              "      margin-bottom: 4px;\n",
              "    }\n",
              "\n",
              "    [theme=dark] .colab-df-convert {\n",
              "      background-color: #3B4455;\n",
              "      fill: #D2E3FC;\n",
              "    }\n",
              "\n",
              "    [theme=dark] .colab-df-convert:hover {\n",
              "      background-color: #434B5C;\n",
              "      box-shadow: 0px 1px 3px 1px rgba(0, 0, 0, 0.15);\n",
              "      filter: drop-shadow(0px 1px 2px rgba(0, 0, 0, 0.3));\n",
              "      fill: #FFFFFF;\n",
              "    }\n",
              "  </style>\n",
              "\n",
              "    <script>\n",
              "      const buttonEl =\n",
              "        document.querySelector('#df-b1f6b06b-8e31-4a74-b31d-839df0b559ac button.colab-df-convert');\n",
              "      buttonEl.style.display =\n",
              "        google.colab.kernel.accessAllowed ? 'block' : 'none';\n",
              "\n",
              "      async function convertToInteractive(key) {\n",
              "        const element = document.querySelector('#df-b1f6b06b-8e31-4a74-b31d-839df0b559ac');\n",
              "        const dataTable =\n",
              "          await google.colab.kernel.invokeFunction('convertToInteractive',\n",
              "                                                    [key], {});\n",
              "        if (!dataTable) return;\n",
              "\n",
              "        const docLinkHtml = 'Like what you see? Visit the ' +\n",
              "          '<a target=\"_blank\" href=https://colab.research.google.com/notebooks/data_table.ipynb>data table notebook</a>'\n",
              "          + ' to learn more about interactive tables.';\n",
              "        element.innerHTML = '';\n",
              "        dataTable['output_type'] = 'display_data';\n",
              "        await google.colab.output.renderOutput(dataTable, element);\n",
              "        const docLink = document.createElement('div');\n",
              "        docLink.innerHTML = docLinkHtml;\n",
              "        element.appendChild(docLink);\n",
              "      }\n",
              "    </script>\n",
              "  </div>\n",
              "\n",
              "\n",
              "<div id=\"df-aaf2c350-d3de-4e05-853b-20538d30257b\">\n",
              "  <button class=\"colab-df-quickchart\" onclick=\"quickchart('df-aaf2c350-d3de-4e05-853b-20538d30257b')\"\n",
              "            title=\"Suggest charts\"\n",
              "            style=\"display:none;\">\n",
              "\n",
              "<svg xmlns=\"http://www.w3.org/2000/svg\" height=\"24px\"viewBox=\"0 0 24 24\"\n",
              "     width=\"24px\">\n",
              "    <g>\n",
              "        <path d=\"M19 3H5c-1.1 0-2 .9-2 2v14c0 1.1.9 2 2 2h14c1.1 0 2-.9 2-2V5c0-1.1-.9-2-2-2zM9 17H7v-7h2v7zm4 0h-2V7h2v10zm4 0h-2v-4h2v4z\"/>\n",
              "    </g>\n",
              "</svg>\n",
              "  </button>\n",
              "\n",
              "<style>\n",
              "  .colab-df-quickchart {\n",
              "      --bg-color: #E8F0FE;\n",
              "      --fill-color: #1967D2;\n",
              "      --hover-bg-color: #E2EBFA;\n",
              "      --hover-fill-color: #174EA6;\n",
              "      --disabled-fill-color: #AAA;\n",
              "      --disabled-bg-color: #DDD;\n",
              "  }\n",
              "\n",
              "  [theme=dark] .colab-df-quickchart {\n",
              "      --bg-color: #3B4455;\n",
              "      --fill-color: #D2E3FC;\n",
              "      --hover-bg-color: #434B5C;\n",
              "      --hover-fill-color: #FFFFFF;\n",
              "      --disabled-bg-color: #3B4455;\n",
              "      --disabled-fill-color: #666;\n",
              "  }\n",
              "\n",
              "  .colab-df-quickchart {\n",
              "    background-color: var(--bg-color);\n",
              "    border: none;\n",
              "    border-radius: 50%;\n",
              "    cursor: pointer;\n",
              "    display: none;\n",
              "    fill: var(--fill-color);\n",
              "    height: 32px;\n",
              "    padding: 0;\n",
              "    width: 32px;\n",
              "  }\n",
              "\n",
              "  .colab-df-quickchart:hover {\n",
              "    background-color: var(--hover-bg-color);\n",
              "    box-shadow: 0 1px 2px rgba(60, 64, 67, 0.3), 0 1px 3px 1px rgba(60, 64, 67, 0.15);\n",
              "    fill: var(--button-hover-fill-color);\n",
              "  }\n",
              "\n",
              "  .colab-df-quickchart-complete:disabled,\n",
              "  .colab-df-quickchart-complete:disabled:hover {\n",
              "    background-color: var(--disabled-bg-color);\n",
              "    fill: var(--disabled-fill-color);\n",
              "    box-shadow: none;\n",
              "  }\n",
              "\n",
              "  .colab-df-spinner {\n",
              "    border: 2px solid var(--fill-color);\n",
              "    border-color: transparent;\n",
              "    border-bottom-color: var(--fill-color);\n",
              "    animation:\n",
              "      spin 1s steps(1) infinite;\n",
              "  }\n",
              "\n",
              "  @keyframes spin {\n",
              "    0% {\n",
              "      border-color: transparent;\n",
              "      border-bottom-color: var(--fill-color);\n",
              "      border-left-color: var(--fill-color);\n",
              "    }\n",
              "    20% {\n",
              "      border-color: transparent;\n",
              "      border-left-color: var(--fill-color);\n",
              "      border-top-color: var(--fill-color);\n",
              "    }\n",
              "    30% {\n",
              "      border-color: transparent;\n",
              "      border-left-color: var(--fill-color);\n",
              "      border-top-color: var(--fill-color);\n",
              "      border-right-color: var(--fill-color);\n",
              "    }\n",
              "    40% {\n",
              "      border-color: transparent;\n",
              "      border-right-color: var(--fill-color);\n",
              "      border-top-color: var(--fill-color);\n",
              "    }\n",
              "    60% {\n",
              "      border-color: transparent;\n",
              "      border-right-color: var(--fill-color);\n",
              "    }\n",
              "    80% {\n",
              "      border-color: transparent;\n",
              "      border-right-color: var(--fill-color);\n",
              "      border-bottom-color: var(--fill-color);\n",
              "    }\n",
              "    90% {\n",
              "      border-color: transparent;\n",
              "      border-bottom-color: var(--fill-color);\n",
              "    }\n",
              "  }\n",
              "</style>\n",
              "\n",
              "  <script>\n",
              "    async function quickchart(key) {\n",
              "      const quickchartButtonEl =\n",
              "        document.querySelector('#' + key + ' button');\n",
              "      quickchartButtonEl.disabled = true;  // To prevent multiple clicks.\n",
              "      quickchartButtonEl.classList.add('colab-df-spinner');\n",
              "      try {\n",
              "        const charts = await google.colab.kernel.invokeFunction(\n",
              "            'suggestCharts', [key], {});\n",
              "      } catch (error) {\n",
              "        console.error('Error during call to suggestCharts:', error);\n",
              "      }\n",
              "      quickchartButtonEl.classList.remove('colab-df-spinner');\n",
              "      quickchartButtonEl.classList.add('colab-df-quickchart-complete');\n",
              "    }\n",
              "    (() => {\n",
              "      let quickchartButtonEl =\n",
              "        document.querySelector('#df-aaf2c350-d3de-4e05-853b-20538d30257b button');\n",
              "      quickchartButtonEl.style.display =\n",
              "        google.colab.kernel.accessAllowed ? 'block' : 'none';\n",
              "    })();\n",
              "  </script>\n",
              "</div>\n",
              "    </div>\n",
              "  </div>\n"
            ],
            "application/vnd.google.colaboratory.intrinsic+json": {
              "type": "dataframe",
              "variable_name": "df",
              "summary": "{\n  \"name\": \"df\",\n  \"rows\": 50000,\n  \"fields\": [\n    {\n      \"column\": \"sentence\",\n      \"properties\": {\n        \"dtype\": \"string\",\n        \"num_unique_values\": 49578,\n        \"samples\": [\n          \"\\u0627\\u06cc\\u06a9 \\u0627\\u0648\\u0631 \\u0639\\u0645\\u062f\\u06c1 \\u0627\\u062e\\u0644\\u0627\\u0642\\u06cc \\u0627\\u0628\\u06c1\\u0627\\u0645 \\u06a9\\u06d2 \\u0679\\u06a9\\u0691\\u06d2 \\u062c\\u06c1\\u0627\\u06ba \\u0627\\u06cc\\u0646\\u0679\\u06cc \\u06c1\\u06cc\\u0631\\u0648 \\u0646\\u06d2 \\u06cc\\u06c1 \\u0641\\u06cc\\u0635\\u0644\\u06c1 \\u06a9\\u0631\\u0646\\u0627 \\u0645\\u0634\\u06a9\\u0644 \\u0628\\u0646\\u0627 \\u062f\\u06cc\\u0627 \\u06c1\\u06d2 \\u06a9\\u06c1 \\u06a9\\u0633 \\u06a9\\u06cc \\u062c\\u0691 \\u06a9\\u0648 \\u062e\\u062a\\u0645 \\u06a9\\u0631\\u0646\\u0627 \\u06c1\\u06d2\\u06d4 \\u0627\\u06af\\u0631 \\u06a9\\u0686\\u06be \\u0627\\u0648\\u0631 \\u0646\\u06c1\\u06cc\\u06ba \\u062a\\u0648 \\\"\\u062f\\u06cc \\u0628\\u06cc\\u06af\\u0644\\u06cc\\u0688\\\" \\u0646\\u06d2 \\u06a9\\u0633\\u06cc \\u06a9\\u0648 \\u062e\\u0627\\u0645\\u0648\\u0634 \\u06a9\\u0631\\u0627\\u062f\\u06cc\\u0627 \\u062c\\u0633 \\u0646\\u06d2 \\u06a9\\u06c1\\u0627 \\u062a\\u06be\\u0627 \\u06a9\\u06c1 \\u0641\\u0644\\u0645\\u0648\\u06ba \\u0645\\u06cc\\u06ba \\u0627\\u062f\\u0627\\u06a9\\u0627\\u0631\\u06c1 \\u06a9\\u06d2 \\u0644\\u0626\\u06d2 \\u06a9\\u0648\\u0626\\u06cc \\u0627\\u0686\\u06be\\u06d2 \\u062d\\u0635\\u06d2 \\u0646\\u06c1\\u06cc\\u06ba \\u062a\\u06be\\u06d2\\u06d4 \\u06a9\\u0645 \\u0627\\u0632 \\u06a9\\u0645 1971 \\u0645\\u06cc\\u06ba\\u06d4 \\u0686\\u0627\\u0631 \\u062a\\u06be\\u06d2 \\u0627\\u0633 \\u0641\\u0644\\u0645 \\u0645\\u06cc\\u06ba \\u0627\\u062f\\u0627\\u06a9\\u0627\\u0631\\u06c1 \\u06a9\\u06d2 \\u0644\\u0626\\u06d2 \\u0639\\u0645\\u062f\\u06c1 \\u062d\\u0635\\u06d2 \\u0627\\u0648\\u0631 \\u0633\\u0628 \\u06a9\\u0648 \\u0627\\u0686\\u06be\\u06cc \\u0637\\u0631\\u062d \\u0633\\u06d2 \\u06a9\\u0627\\u0633\\u0679 \\u06a9\\u06cc\\u0627 \\u06af\\u06cc\\u0627 \\u062a\\u06be\\u0627 \\u0627\\u0648\\u0631 \\u0627\\u0686\\u06be\\u06cc \\u0637\\u0631\\u062d \\u0633\\u06d2 \\u067e\\u06be\\u0627\\u0646\\u0633\\u06cc \\u062f\\u06cc \\u06af\\u0626\\u06cc \\u062a\\u06be\\u06cc\\u06d4 \\u067e\\u0627\\u0645\\u06cc\\u0646 \\u0641\\u0631\\u0688\\u06cc\\u0646 \\u0646\\u06d2 \\u0627\\u0645\\u06cc \\u06a9\\u06cc \\u062d\\u06cc\\u062b\\u06cc\\u062a \\u0633\\u06d2 \\u0639\\u0645\\u062f\\u06c1 \\u06a9\\u0627\\u0645 \\u06a9\\u06cc\\u0627 \\u062a\\u06be\\u0627 \\u0627\\u0648\\u0631 \\u0648\\u06c1 \\\"\\u0648\\u0627\\u0646\\u0688\\u0627 \\u062c\\u0648\\u0646\\\" \\u0627\\u062f\\u0627 \\u06a9\\u0631\\u06cc\\u06ba \\u06af\\u06cc\\u06d4 \\u06cc\\u06c1 \\u067e\\u06c1\\u0644\\u0627 \\u0645\\u0648\\u0642\\u0639 \\u06c1\\u0648\\u06af\\u0627 \\u062c\\u0628 \\u06a9\\u0633\\u06cc \\u0628\\u0627\\u0644\\u063a \\u0645\\u0631\\u062f \\u0628\\u0627\\u06a9\\u0633 \\u0622\\u0641\\u0633 \\u0627\\u0633\\u0679\\u0627\\u0631 \\u0646\\u06d2 \\u0628\\u0627\\u0631\\u06c1 \\u0633\\u0627\\u0644\\u06c1 \\u0644\\u0691\\u06a9\\u06cc \\u06a9\\u06d2 \\u0633\\u0627\\u062a\\u06be \\u06a9\\u06cc\\u0645\\u0631\\u06d2 \\u0645\\u06cc\\u06ba \\u062a\\u0648\\u0633\\u06cc\\u0639 \\u0634\\u062f\\u06c1 \\u0628\\u0648\\u0633\\u06c1 \\u0628\\u0627\\u0646\\u0679\\u0627 \\u060c \\u062d\\u06cc\\u0631\\u062a \\u06c1\\u06d2 \\u06a9\\u06c1 \\u06a9\\u06cc\\u0627 \\u0627\\u0633 \\u0648\\u0642\\u062a \\u0627\\u0633 \\u0628\\u0627\\u0631\\u06d2 \\u0645\\u06cc\\u06ba \\u0632\\u06cc\\u0627\\u062f\\u06c1 \\u062a\\u0646\\u0627\\u0632\\u0639\\u06c1 \\u062a\\u06be\\u0627\\u06d4 \\u06cc\\u06c1 \\u0634\\u0627\\u06cc\\u062f \\u067e\\u0648\\u0644\\u0627\\u0646\\u0633\\u06a9\\u06cc \\u06a9\\u0627 \\u067e\\u0633\\u0646\\u062f\\u06cc\\u062f\\u06c1 \\u0645\\u0646\\u0638\\u0631 \\u062a\\u06be\\u0627\\u06d4 \\u0627\\u0645\\u06cc \\u06a9\\u06d2 \\u06a9\\u0686\\u06be\\u06cc \\\"\\u0631\\u06cc\\u0646\\u0688\\u0648\\u0644\\u0641\\\" \\u06a9\\u06cc \\u062a\\u0642\\u062f\\u06cc\\u0631 \\u06a9\\u0648 \\u062f\\u06cc\\u06a9\\u06be\\u062a\\u06d2 \\u06c1\\u0648\\u0626\\u06d2 \\u060c \\u06cc\\u06c1 \\u06a9\\u0648\\u0626\\u06cc \\u062a\\u0639\\u062c\\u0628 \\u06a9\\u06cc \\u0628\\u0627\\u062a \\u0646\\u06c1\\u06cc\\u06ba \\u06c1\\u06d2 \\u06a9\\u06c1 \\u0641\\u0631\\u0688\\u06cc\\u0646 \\u0628\\u0691\\u06d2 \\u062c\\u0627\\u0646\\u0648\\u0631\\u0648\\u06ba \\u06a9\\u06d2 \\u062d\\u0642\\u0648\\u0642 \\u06a9\\u06d2 \\u0644\\u0626\\u06d2 \\u0633\\u0631\\u06af\\u0631\\u0645 \\u06a9\\u0627\\u0631\\u06a9\\u0646 \\u0628\\u0646 \\u06a9\\u0631 \\u0628\\u0691\\u06be\\u0627 \\u06c1\\u06d2\\u06d4 \\u062c\\u06cc\\u0631\\u0627\\u0644\\u0688\\u0627\\u0626\\u0646 \\u067e\\u06cc\\u062c \\u0628\\u06be\\u06cc \\u0627\\u0633\\u06cc \\u0637\\u0631\\u062d \\u0627\\u06cc\\u06a9 \\u0628\\u06c1\\u062a\\u0631\\u06cc\\u0646 \\u067e\\u06cc\\u0686\\u06cc\\u062f\\u06c1 \\u06a9\\u0631\\u062f\\u0627\\u0631 \\u0627\\u062f\\u0627 \\u06a9\\u0631\\u0631\\u06c1\\u0627 \\u062a\\u06be\\u0627 \\u060c \\u062c\\u0633 \\u0645\\u06cc\\u06ba \\u0635\\u0631\\u0641 \\u0635\\u062d\\u06cc\\u062d \\u0645\\u0642\\u062f\\u0627\\u0631 \\u0645\\u06cc\\u06ba \\u062a\\u062d\\u0645\\u0644 \\u062a\\u06be\\u0627\\u06d4 \\u06cc\\u06c1 \\u062f\\u0644\\u0686\\u0633\\u067e \\u0628\\u0627\\u062a \\u06c1\\u06d2 \\u06a9\\u06c1 \\u0627\\u0644\\u0632\\u0628\\u062a\\u06be \\u06c1\\u0627\\u0631\\u0679 \\u0645\\u06cc\\u0646 \\u0646\\u06d2 \\u062e\\u0648\\u062f\\u06a9\\u0634\\u06cc \\u06a9\\u06d2 \\u0635\\u0631\\u0641 \\u062a\\u06cc\\u0646 \\u062f\\u0646 \\u0628\\u0639\\u062f (\\u067e\\u0627\\u0646\\u0686\\u0648\\u06cc\\u06ba \\u0645\\u0646\\u0632\\u0644 \\u06a9\\u06cc \\u06a9\\u06be\\u0691\\u06a9\\u06cc \\u0633\\u06d2 \\u062e\\u0648\\u062f \\u06a9\\u0648 \\u067e\\u06be\\u06cc\\u0646\\u06a9\\u062a\\u06d2 \\u06c1\\u0648\\u0626\\u06d2) \\u0627\\u0633 \\u06a9\\u06cc \\u0645\\u0648\\u062a \\u06c1\\u0648\\u06af\\u0626\\u06cc \\u06a9\\u06cc\\u0648\\u0646\\u06a9\\u06c1 \\u0627\\u0646\\u06c1\\u0648\\u06ba \\u0646\\u06d2 \\\"\\u062a\\u0645 \\u0627\\u06cc\\u06a9 \\u0628\\u0691\\u06d2 \\u0644\\u0691\\u06a9\\u06d2 \\u0627\\u0628\\\" \\u0645\\u06cc\\u06ba \\u0628\\u06be\\u06cc \\u0627\\u06cc\\u06a9 \\u0633\\u0627\\u062a\\u06be \\u06a9\\u0627\\u0645 \\u06a9\\u06cc\\u0627 \\u062a\\u06be\\u0627\\u06d4 \\u06c1\\u0627\\u0631\\u0679 \\u0645\\u06cc\\u0646 (\\u062c\\u0648 \\u0627\\u06cc\\u0633\\u0627 \\u0644\\u06af\\u062a\\u0627 \\u06c1\\u06d2 \\u06a9\\u06c1 \\u0648\\u06c1 \\u0628\\u0644\\u06cc\\u0626\\u0631 \\u0628\\u0631\\u0627\\u0624\\u0646 \\u06a9\\u06cc \\u06c1\\u06cc \\u06c1\\u0648\\u0633\\u06a9\\u062a\\u06cc \\u06c1\\u06d2\\u06d4 \\u0628\\u06c1\\u0646) \\u0627\\u06cc\\u0688\\u0648\\u06cc\\u0646\\u0627 \\u06a9\\u06cc \\u0637\\u0631\\u062d \\u062d\\u06cc\\u0631\\u062a \\u0627\\u0646\\u06af\\u06cc\\u0632 \\u062a\\u06be\\u06cc\\u06ba \\u0627\\u0648\\u0631 \\u0627\\u0633\\u06d2 \\u0622\\u0633\\u06a9\\u0631 \\u0645\\u0644\\u0646\\u0627 \\u0686\\u0627\\u06c1\\u0626\\u06d2 \\u062a\\u06be\\u0627 (\\u0627\\u0633 \\u0633\\u0627\\u0644 \\u06a9\\u06cc \\u06a9\\u0648\\u0626\\u06cc \\u0627\\u0648\\u0631 \\u06a9\\u0627\\u0631\\u06a9\\u0631\\u062f\\u06af\\u06cc \\u0642\\u0631\\u06cc\\u0628 \\u0646\\u06c1\\u06cc\\u06ba \\u062a\\u06be\\u06cc) \\u060c \\u0644\\u06cc\\u06a9\\u0646 \\u0627\\u0628 \\u06c1\\u0645\\u06cc\\u06ba \\u0627\\u0633 \\u06a9\\u06d2 \\u0628\\u0627\\u0631\\u06d2 \\u0645\\u06cc\\u06ba \\u06a9\\u06cc\\u0627 \\u067e\\u062a\\u06c1 \\u06c1\\u06d2 \\u0622\\u067e \\u06a9\\u0648 \\u062d\\u06cc\\u0631\\u062a \\u06c1\\u0648\\u06af\\u06cc \\u06a9\\u06c1 \\u0627\\u0633 \\u06a9\\u06cc \\u06a9\\u0627\\u0631\\u06a9\\u0631\\u062f\\u06af\\u06cc \\u06a9\\u0627 \\u06a9\\u062a\\u0646\\u0627 \\u0645\\u0637\\u0627\\u0644\\u0639\\u06c1 \\u06a9\\u06cc \\u06a9\\u0648\\u0634\\u0634 \\u062a\\u06be\\u06cc \\u0627\\u0648\\u0631 \\u06a9\\u062a\\u0646\\u0627 \\u0627\\u0646\\u062f\\u0631 \\u0633\\u06d2 \\u0622\\u06cc\\u0627 \\u062a\\u06be\\u0627\\u06d4 \\u0627\\u0633\\u06d2 \\u0627\\u06cc\\u0688\\u0648\\u06cc\\u0646\\u0627 \\u0627\\u0633 \\u0637\\u0631\\u062d \\u06a9\\u06d2 \\u06a9\\u0686\\u06d2 \\u062f\\u0631\\u062f \\u06a9\\u0648 \\u062f\\u06a9\\u06be\\u0627\\u062a\\u06cc \\u06c1\\u06d2 \\u06a9\\u06c1 \\u062f\\u06cc\\u06a9\\u06be\\u0646\\u0627 \\u0645\\u0634\\u06a9\\u0644 \\u06c1\\u06d2\\u06d4 \\\"\\u062f\\u06cc \\u063a\\u0644\\u0637\\u06cc\\u0627\\u06ba\\\" \\u0645\\u06cc\\u06ba \\u0645\\u0627\\u0631\\u0644\\u0646 \\u0645\\u0646\\u0631\\u0648 \\u06a9\\u06cc \\u0646\\u0627\\u0642\\u0627\\u0628\\u0644 \\u06cc\\u0642\\u06cc\\u0646 \\u0627\\u062f\\u0627\\u06a9\\u0627\\u0631\\u06cc \\u06a9\\u06cc \\u0637\\u0631\\u062d \\u060c \\u0646\\u0627\\u0638\\u0631\\u06cc\\u0646 \\u0628\\u06be\\u06cc \\u0627\\u067e\\u0646\\u06d2 \\u06a9\\u0631\\u062f\\u0627\\u0631 \\u0645\\u06cc\\u06ba \\u062c\\u0648 \\u06a9\\u0631\\u062f\\u0627\\u0631 \\u0627\\u062f\\u0627 \\u06a9\\u0631\\u0631\\u06c1\\u06d2 \\u06c1\\u06cc\\u06ba \\u0627\\u0633 \\u0645\\u06cc\\u06ba \\u0627\\u0646 \\u06a9\\u06d2 \\u0627\\u067e\\u0646\\u06d2 \\u0628\\u06c1\\u062a \\u0633\\u06d2 \\u0634\\u06cc\\u0637\\u0627\\u0646 \\u0628\\u06be\\u06cc \\u0646\\u0638\\u0631 \\u0622\\u0631\\u06c1\\u06d2 \\u06c1\\u06cc\\u06ba\\u06d4 \\u0622\\u062e\\u0631\\u06a9\\u0627\\u0631 \\u062c\\u0648 \\u0627\\u06cc\\u0646 \\u06c1\\u06cc\\u0631\\u06cc\\u0633 \\u0628\\u06be\\u06cc \\u06c1\\u06d2 \\u062c\\u0648 \\u062d\\u06cc\\u0631\\u062a \\u0627\\u0646\\u06af\\u06cc\\u0632 \\u0637\\u0648\\u0631 \\u067e\\u0631 \\u06a9\\u0627\\u0645\\u0644 \\u0637\\u0648\\u0631 \\u067e\\u0631 \\u06a9\\u0627\\u0645\\u0644 \\u06c1\\u06d2\\u06d4 \\u0645\\u06cc\\u0631\\u06d2 \\u067e\\u06cc\\u0633\\u06d2 \\u06a9\\u06d2 \\u0644\\u0626\\u06d2 \\u06c1\\u06cc\\u0631\\u06cc\\u0633 1970 \\u06a9\\u06cc \\u062f\\u06c1\\u0627\\u0626\\u06cc \\u06a9\\u06cc \\u0633\\u0628 \\u0633\\u06d2 \\u0633\\u06cc\\u06a9\\u0633\\u06cc \\u0627\\u062f\\u0627\\u06a9\\u0627\\u0631\\u06c1 \\u062a\\u06be\\u06cc \\u060c \\u062c\\u0633 \\u0646\\u06d2 \\u0630\\u06c1\\u0627\\u0646\\u062a \\u0627\\u0648\\u0631 \\u0645\\u0632\\u0627\\u062d \\u06a9\\u06d2 \\u0633\\u0627\\u062a\\u06be \\u0627\\u0645\\u062a\\u06cc\\u0627\\u0632\\u06cc \\u0633\\u0644\\u0648\\u06a9 \\u06a9\\u0648 \\u062c\\u0648\\u0691 \\u062f\\u06cc\\u0627 \\u062a\\u06be\\u0627\\u06d4 \\u0648\\u06c1 \\\"\\u0633\\u0628 \\u0633\\u06d2 \\u0632\\u06cc\\u0627\\u062f\\u06c1 \\u0645\\u0637\\u0644\\u0648\\u0628\\\" \\u0679\\u06cc\\u0644\\u06cc \\u0648\\u06cc\\u0698\\u0646 \\u0633\\u06cc\\u0631\\u06cc\\u0632 \\u062f\\u06cc\\u06a9\\u06be\\u0646\\u06d2 \\u06a9\\u06cc \\u0628\\u06c1\\u062a\\u0631\\u06cc\\u0646 \\u0648\\u062c\\u06c1 \\u062a\\u06be\\u06cc \\u0627\\u0648\\u0631 \\\"\\u0648\\u0627\\u0626\\u0644\\u0688 \\u0648\\u0627\\u0626\\u0644\\u0688 \\u0648\\u06cc\\u0633\\u0679 \\u0631\\u06cc\\u0648\\u06cc\\u0648\\u0634\\u0679\\u0688\\\" \\u062f\\u06cc\\u06a9\\u06be\\u0646\\u06d2 \\u06a9\\u06cc \\u0648\\u0627\\u062d\\u062f \\u0648\\u062c\\u06c1 \\u062a\\u06be\\u06cc\\u06d4 \\u06cc\\u06c1 \\u06cc\\u0642\\u06cc\\u0646 \\u06a9\\u0631\\u0646\\u0627 \\u0645\\u0634\\u06a9\\u0644 \\u06c1\\u06d2 \\u06a9\\u06c1 \\u06a9\\u0648\\u0626\\u06cc \\u0627\\u06cc\\u0633\\u0627 \\u0634\\u062e\\u0635 \\u062c\\u0648 \\u06cc\\u06c1 \\u0633\\u0628 \\u06a9\\u0686\\u06be \\u0627\\u0633\\u06a9\\u0631\\u06cc\\u0646 \\u067e\\u0631 \\u0644\\u0627 \\u0633\\u06a9\\u062a\\u0627 \\u06c1\\u06d2 \\u0648\\u06c1 \\u06a9\\u0628\\u06be\\u06cc \\u0628\\u06be\\u06cc \\u0628\\u0691\\u0627 \\u0627\\u0633\\u0679\\u0627\\u0631 \\u0646\\u06c1\\u06cc\\u06ba \\u0628\\u0646 \\u0633\\u06a9\\u0627\\u06d4\",\n          \"\\u0645\\u06cc\\u0631\\u0627 \\u0627\\u0646\\u062f\\u0627\\u0632\\u06c1 \\u06c1\\u06d2 \\u06a9\\u06c1 \\u0688\\u06cc \\u0648\\u06cc \\u0688\\u06cc \\u06a9\\u06d2 \\u062e\\u062a\\u0645 \\u06c1\\u0648\\u0646\\u06d2 \\u06a9\\u06d2 \\u0633\\u0627\\u062a\\u06be \\u06c1\\u06cc \\u06cc\\u06c1 \\u0639\\u0648\\u0627\\u0645\\u06cc \\u0688\\u0648\\u0645\\u06cc\\u0646 \\u0645\\u06cc\\u06ba \\u06c1\\u06d2\\u06d4 \\u0633\\u0628 \\u0633\\u06d2 \\u067e\\u06c1\\u0644\\u06d2 \\u060c \\u06cc\\u06c1 \\u0627\\u06cc\\u06a9 \\u0627\\u0686\\u06be audience\\u0627 \\u0627\\u0686\\u06be\\u0627 \\u067e\\u0631\\u0648\\u067e\\u06cc\\u06af\\u0646\\u0688\\u0627 \\u0641\\u0644\\u0645 \\u06c1\\u06d2 \\u062c\\u0648 \\u062c\\u0646\\u06af \\u06a9\\u06d2 \\u0648\\u0642\\u062a \\u06a9\\u06d2 \\u0622\\u0633\\u06cc\\u06c1 \\u0633\\u0627\\u0645\\u0639\\u06cc\\u0646 \\u06a9\\u0648 \\u062f\\u06a9\\u06be\\u0627\\u06cc\\u0627 \\u062c\\u0627\\u0626\\u06d2 \\u060c \\u0644\\u06c1\\u0630\\u0627 \\u0627\\u0633\\u06d2 \\u0679\\u0648\\u0628\\u0631\\u0648\\u06a9 \\u06a9\\u06cc \\u0633\\u0646\\u062c\\u06cc\\u062f\\u06c1 \\u0628\\u0627\\u062a \\u067e\\u0631 \\u063a\\u0648\\u0631 \\u0646\\u06c1\\u06cc\\u06ba \\u06a9\\u06cc\\u0627 \\u062c\\u0627\\u0626\\u06d2 \\u06af\\u0627\\u06d4 \\u0622\\u0633\\u0679\\u0631\\u06cc\\u0644\\u06cc\\u0627 \\u0645\\u06cc\\u06ba 3/4 \\u06a9\\u0627 \\u067e\\u06c1\\u0644\\u0627 \\u0646\\u0635\\u0641 \\u062d\\u0635 dry\\u06c1 \\u0628\\u06c1\\u062a \\u062e\\u0634\\u06a9 \\u0633\\u0627\\u0645\\u0627\\u0646 \\u06c1\\u06d2 \\u060c \\u0645\\u062c\\u06be\\u06d2 \\u0644\\u06af\\u062a\\u0627 \\u06c1\\u06d2 \\u06a9\\u06c1 \\u0628\\u06c1\\u062a \\u0633\\u0627\\u0631\\u06cc \\u0627\\u0645\\u0631\\u06cc\\u06a9\\u06cc \\u062c\\u0646\\u06af\\u06cc \\u0641\\u0644\\u0645\\u06cc\\u06ba \\u06c1\\u06cc\\u06ba \\u062c\\u06c1\\u0627\\u06ba \\u0628\\u06be\\u0631\\u062a\\u06cc \\u06c1\\u0648 \\u0631\\u06c1\\u06d2 \\u06c1\\u06cc\\u06ba \\u060c \\u0627\\u0648\\u06c1 \\u0627\\u0646\\u0633\\u0627\\u0646 \\u0627\\u0633 \\u06a9\\u06cc \\u0644\\u0645\\u0628\\u06cc \\u0644\\u0645\\u0628\\u06cc \\u0644\\u0645\\u0628\\u06cc \\u062c\\u06af\\u06c1 \\u06c1\\u06d2\\u06d4 \\u06c1\\u0645 \\u0627\\u0641\\u0631\\u06cc\\u0642\\u06c1 \\u0627\\u0648\\u0631 \\u0679\\u0648\\u0628\\u0631\\u0648\\u06a9 \\u062c\\u0627\\u0646\\u06d2 \\u0633\\u06d2 \\u060c \\u0628\\u06c1\\u062a \\u06a9\\u0645 \\u060c \\u06a9\\u0645 \\u0628\\u062c\\u0679 \\u0648\\u0627\\u0644\\u06cc \\u0686\\u06cc\\u0632\\u06cc\\u06ba\\u06d4 \\u0645\\u06cc\\u06ba \\u0646\\u06d2 \\u062f\\u06cc\\u06a9\\u06be\\u0627 \\u0688\\u06cc \\u0648\\u06cc \\u0688\\u06cc \\u06a9\\u0627\\u067e\\u06cc \\u067e\\u0631 \\u062c\\u0646\\u06af \\u06a9\\u06d2 \\u0645\\u0646\\u0627\\u0638\\u0631 \\u062a\\u0642\\u0631\\u06cc\\u0628\\u0627 \\u0645\\u06a9\\u0645\\u0644 \\u0637\\u0648\\u0631 \\u067e\\u0631 \\u06a9\\u0627\\u0644\\u06d2 \\u062a\\u06be\\u06d2\\u06d4 \\u0627\\u06af\\u0631 \\u0622\\u067e \\u06a9\\u0648 \\u0644\\u0627\\u0632\\u0645\\u06cc \\u06c1\\u06d2 \\u062a\\u0648 \\u0627\\u0633\\u06d2 \\u062f\\u06cc\\u06a9\\u06be\\u06cc\\u06ba \\u060c \\u0644\\u06cc\\u06a9\\u0646 \\u062a\\u06cc\\u0632\\u06cc \\u0633\\u06d2 \\u0622\\u06af\\u06d2 \\u0627\\u0633\\u062a\\u0639\\u0645\\u0627\\u0644 \\u06a9\\u0631\\u0646\\u06d2 \\u06a9\\u06d2 \\u0644. \\u062a\\u06cc\\u0627\\u0631 \\u0631\\u06c1\\u06cc\\u06ba \\u06a9\\u06cc\\u0648\\u0646\\u06a9\\u06c1 \\u0645\\u062c\\u06be\\u06d2 \\u0634\\u06a9 \\u06c1\\u06d2 \\u06a9\\u06c1 \\u0622\\u067e \\u0627\\u0633\\u06d2 \\u0686\\u0646\\u062f \\u0645\\u0646\\u0679 \\u0628\\u0639\\u062f \\u06c1\\u06cc \\u0644\\u06d2 \\u0633\\u06a9\\u062a\\u06d2 \\u06c1\\u06cc\\u06ba\\u06d4 \\u0645\\u062c\\u06be\\u06d2 \\u062e\\u0648\\u0634\\u06af\\u0648\\u0627\\u0631 \\u0627\\u0637\\u0627\\u0644\\u0648\\u06cc \\\"\\u0628\\u0679 \\u0622\\u0641 \\u0627\\u0644 \\u0627\\u0644\\u0627\\u0645\\u06cc\\u0646\\\" \\u0633\\u06d2 \\u0644\\u0637\\u0641 \\u0627\\u0646\\u062f\\u0648\\u0632 \\u06c1\\u0648\\u0627 \\u060c \\u0631\\u0686\\u0631\\u0688 \\u0628\\u0631\\u0679\\u0646 \\u0646\\u06d2 \\u0627\\u06cc\\u06a9 \\u0627\\u0641\\u0631\\u06cc\\u0642\\u06cc \\u062a\\u06be\\u06cc\\u0679\\u0631 \\u0648\\u0627\\u0631 \\u0628\\u06be\\u06cc \\u06a9\\u06cc\\u0627 \\u062c\\u0648 \\u0627\\u0686\\u06be\\u06cc \\u0637\\u0631\\u062d \\u0633\\u06d2 \\\"\\u062f\\u06cc \\u0635\\u062d\\u0631\\u0627 \\u0686\\u0648\\u06c1\\u06d2\\\" \\u06a9\\u06cc \\u0641\\u0644\\u0645 \\u062a\\u06be\\u06cc \\u060c \\u06cc\\u06c1 \\u0641\\u0644\\u0645 \\u0645\\u062d\\u0636 \\u0627\\u06cc\\u06a9 \\u062d\\u0642\\u06cc\\u0642\\u06cc \\u0645\\u062f\\u062a \\u06c1\\u06d2 \\u0627\\u0648\\u0631 \\u0627\\u0633 \\u0648\\u0642\\u062a \\u062a\\u06a9 \\u06cc\\u06c1 \\u0631\\u06c1\\u0646\\u0627 \\u0686\\u0627\\u06c1\\u0626\\u06d2 \\u062a\\u06be\\u0627\\u06d4 \\u0622\\u062c \\u0627\\u0686\\u06be\\u06cc \\u0637\\u0631\\u062d \\u0633\\u06d2 \\u0628\\u0631\\u0642\\u0631\\u0627\\u0631 \\u0646\\u06c1\\u06cc\\u06ba \\u0631\\u06c1\\u062a\\u0627 \\u06c1\\u06d2 (\\u0645\\u062c\\u06be\\u06d2 \\u0634\\u0628\\u06c1 \\u06c1\\u06d2 \\u06a9\\u06c1 \\u0627\\u0633 \\u0648\\u0642\\u062a \\u0628\\u06be\\u06cc \\u0627\\u0633 \\u06a9\\u0627 \\u0627\\u0646\\u062a\\u06c1\\u0627\\u0626\\u06cc \\u0644\\u062d\\u0627\\u0638 \\u06a9\\u06cc\\u0627 \\u062c\\u0627\\u062a\\u0627 \\u062a\\u06be\\u0627)\\u06d4 \\u0645\\u06cc\\u06ba \\u0627\\u067e\\u0646\\u06d2 \\u0627\\u0645\\u0631\\u06cc\\u06a9\\u06cc \\u06c1\\u0645 \\u0645\\u0646\\u0635\\u0628 \\u06a9\\u06d2 \\u062c\\u0646\\u06af\\u06cc \\u0637\\u0631\\u0642\\u0648\\u06ba \\u06a9\\u06d2 \\u0628\\u0627\\u0631\\u06d2 \\u0645\\u06cc\\u06ba \\u0628\\u06be\\u06cc \\u06cc\\u06c1\\u06cc \\u0628\\u0627\\u062a \\u06a9\\u06c1\\u062a\\u0627 \\u06c1\\u0648\\u06ba \\u0644\\u06c1\\u0630\\u0627 \\u0627\\u0633\\u06d2 \\u0630\\u0627\\u062a\\u06cc \\u0637\\u0648\\u0631 \\u067e\\u0631 \\u0622\\u0633\\u06cc\\u0633 \\u0633\\u06d2 \\u0645\\u062a \\u0644\\u06cc\\u06ba (\\u0645\\u06cc\\u06ba \\u0622\\u0633\\u0679\\u0631\\u06cc\\u0644\\u06cc\\u0627 \\u0633\\u06d2 \\u0645\\u062d\\u0628\\u062a \\u06a9\\u0631\\u062a\\u0627 \\u06c1\\u0648\\u06ba \\u060c \\u062f\\u0648 \\u0628\\u0627\\u0631 \\u0648\\u06c1\\u0627\\u06ba \\u06af\\u06cc\\u0627 \\u06c1\\u0648\\u06ba!)\\u06d4\",\n          \"\\u0645\\u06cc\\u06ba \\u0627\\u067e\\u0646\\u06d2 \\u062f\\u0645\\u0627\\u063a \\u06a9\\u0648 \\u062c\\u06be\\u0646\\u062c\\u06be\\u0648\\u0691 \\u0631\\u06c1\\u0627 \\u06c1\\u0648\\u06ba \\u060c \\u0644\\u06cc\\u06a9\\u0646 \\u0645\\u06cc\\u06ba \\u06af\\u0648\\u0627\\u0646\\u06af\\u06cc \\u06a9\\u06cc \\u0648\\u0627\\u062f\\u06cc \\u06a9\\u06cc \\u0637\\u0631\\u062d \\u06a9\\u0633\\u06cc \\u0627\\u0648\\u0631 \\u0641\\u0644\\u0645 \\u06a9\\u06d2 \\u0628\\u0627\\u0631\\u06d2 \\u0645\\u06cc\\u06ba \\u0633\\u0648\\u0686\\u0627 \\u0628\\u06be\\u06cc \\u0646\\u06c1\\u06cc\\u06ba \\u0633\\u06a9\\u062a\\u0627\\u06d4 \\u0627\\u06cc\\u06a9 \\u0645\\u063a\\u0631\\u0628\\u06cc \\u0688\\u0627\\u06cc\\u0646\\u0627\\u0633\\u0648\\u0631 \\u06a9\\u06d2 \\u0633\\u0627\\u062a\\u06be\\u061f \\u0627\\u0633 \\u0633\\u06d2 \\u0632\\u06cc\\u0627\\u062f\\u06c1 \\u0642\\u062f\\u0631\\u062a\\u06cc \\u0627\\u0648\\u0631 \\u06a9\\u06cc\\u0627 \\u06c1\\u0648\\u0633\\u06a9\\u062a\\u06cc \\u06c1\\u06d2\\u061f \\u0622\\u067e \\u06a9\\u0648 \\u062d\\u06cc\\u0631\\u062a \\u06c1\\u0648\\u06af\\u06cc \\u06a9\\u06c1 \\u062c\\u0627\\u0646 \\u0641\\u0648\\u0631\\u0688 \\u0627\\u0648\\u0631 / \\u06cc\\u0627 \\u062c\\u0627\\u0646 \\u0648\\u06cc\\u0646 \\u0646\\u06d2 \\u06a9\\u0628\\u06be\\u06cc \\u0627\\u0633 \\u06a9\\u06cc \\u06a9\\u0648\\u0634\\u0634 \\u06a9\\u06cc\\u0648\\u06ba \\u0646\\u06c1\\u06cc\\u06ba \\u06a9\\u06cc! \\u067e\\u0644\\u0627\\u0679 - \\u0627\\u0633 \\u06a9\\u06d2 \\u0633\\u0631\\u06a9\\u0633 \\u060c \\u0679\\u06cc \\u062c\\u06d2 \\u0628\\u0631\\u06cc\\u06a9\\u0646\\u0631\\u062c (\\u06af\\u06cc\\u0644\\u06c1 \\u06af\\u0648\\u0644\\u0646) \\u060c \\u0679\\u06a9 \\u06a9\\u0631\\u0628\\u06cc (\\u062c\\u06cc\\u0645\\u0632 \\u0641\\u0631\\u0627\\u0646\\u0633\\u0633\\u06a9\\u0648\\u0633) \\u060c \\u0627\\u0648\\u0631 \\u0628\\u0627\\u0642\\u06cc \\u06a9\\u0627\\u0633\\u0679 / \\u06a9\\u0631\\u062f\\u0627\\u0631 \\u0627\\u06cc\\u06a9 \\u0639\\u062c\\u06cc\\u0628 \\u0648 \\u063a\\u0631\\u06cc\\u0628 \\u0648\\u0627\\u062f\\u06cc \\u0645\\u06cc\\u06ba \\u062f\\u0627\\u062e\\u0644 \\u06c1\\u0648\\u062a\\u06d2 \\u06c1\\u06cc\\u06ba \\u062a\\u0648 \\u0627\\u0633 \\u06a9\\u06d2 \\u0644\\u0626\\u06d2 \\u0627\\u06cc\\u06a9 \\u062e\\u0631\\u0627\\u0641\\u0627\\u062a\\u06cc \\u0686\\u06be\\u0648\\u0679\\u06d2 \\u0686\\u06be\\u0648\\u0679\\u06d2 \\u06af\\u06be\\u0648\\u0691\\u06d2 \\u06a9\\u06cc \\u062a\\u0644\\u0627\\u0634 \\u06a9\\u0631\\u062a\\u06d2 \\u06c1\\u0648\\u0626\\u06d2\\u06d4 \\u0648\\u06c1\\u0627\\u06ba \\u0627\\u0646\\u06c1\\u06cc\\u06ba \\u0646\\u06c1 \\u0635\\u0631\\u0641 \\u0686\\u06be\\u0648\\u0679\\u06d2 \\u06af\\u06be\\u0648\\u0691\\u06d2 \\u060c \\u0628\\u0644\\u06a9\\u06c1 \\u06a9\\u0686\\u06be \\u0627\\u0648\\u0631 \\u062e\\u0648\\u0641\\u0646\\u0627\\u06a9 \\u0645\\u062e\\u0644\\u0648\\u0642 \\u0628\\u06be\\u06cc \\u0645\\u0644\\u062a\\u06cc \\u06c1\\u06d2\\u06d4 \\u0688\\u0627\\u0626\\u0646\\u0648\\u0633\\u0627\\u0631\\u0633 \\u0627\\u0633 \\u062c\\u06af\\u06c1 \\u067e\\u0631 \\u062d\\u06a9\\u0645\\u0631\\u0627\\u0646\\u06cc \\u06a9\\u0631\\u062a\\u06d2 \\u06c1\\u06cc\\u06ba\\u06d4 \\u06a9\\u06cc\\u0627 \\u0627\\u0628 \\u06cc\\u06c1 TJ \\u06a9\\u06d2 \\u0633\\u0631\\u06a9\\u0633 \\u06cc\\u0639\\u0646\\u06cc Caged T-Rex \\u06a9\\u06cc \\u062a\\u0648\\u062c\\u06c1 \\u06a9\\u0627 \\u0645\\u0631\\u06a9\\u0632 \\u0646\\u06c1\\u06cc\\u06ba \\u06c1\\u0648\\u06af\\u0627\\u061f \\u0627\\u06cc\\u0633\\u0627 \\u0646\\u06c1\\u06cc\\u06ba \\u06c1\\u06d2 \\u06a9\\u06c1 \\u0645\\u062c\\u06be\\u06d2 \\u0648\\u0627\\u062f\\u06cc \\u06a9\\u06cc \\u06af\\u0648\\u0627\\u0646\\u06af \\u06a9\\u06cc \\u0628\\u0631\\u06cc \\u0641\\u0644\\u0645 \\u0646\\u0638\\u0631 \\u0622\\u062a\\u06cc \\u06c1\\u06d2 \\u060c \\u0627\\u06cc\\u0633\\u0627 \\u0644\\u06af\\u062a\\u0627 \\u06c1\\u06d2 \\u06a9\\u06c1 \\u0645\\u062c\\u06be\\u06d2 \\u0627\\u0633 \\u0633\\u06d2 \\u0632\\u06cc\\u0627\\u062f\\u06c1 \\u0633\\u06d2 \\u0632\\u06cc\\u0627\\u062f\\u06c1 \\u0644\\u0637\\u0641 \\u0627\\u0646\\u062f\\u0648\\u0632 \\u0646\\u06c1\\u06cc\\u06ba \\u06c1\\u0648\\u0627 \\u06c1\\u0648\\u06af\\u0627 \\u062c\\u062a\\u0646\\u0627 \\u06a9\\u06c1 \\u0641\\u0644\\u0645 \\u067e\\u0631 \\u062a\\u0628\\u0635\\u0631\\u06d2 \\u0634\\u0627\\u0626\\u0639 \\u06a9\\u0631\\u0646\\u06d2 \\u0648\\u0627\\u0644\\u06d2 \\u062f\\u0648\\u0633\\u0631\\u06d2 \\u0644\\u0648\\u06af\\u0648\\u06ba \\u0646\\u06d2 \\u0628\\u06be\\u06cc \\u06a9\\u06cc\\u0627 \\u06c1\\u06d2\\u06d4 \\u06a9\\u0686\\u06be \\u062d\\u0635\\u06d2 \\u0627\\u06cc\\u0633\\u06d2 \\u06c1\\u06cc\\u06ba \\u062c\\u0646 \\u06a9\\u0648 \\u0645\\u06cc\\u06ba \\u0648\\u0627\\u0642\\u0639\\u062a\\u0627 almost \\u0644\\u06af \\u0628\\u06be\\u06af \\u0646\\u0627\\u06af\\u0648\\u0627\\u0631 \\u0645\\u062d\\u0633\\u0648\\u0633 \\u06a9\\u0631\\u062a\\u0627 \\u06c1\\u0648\\u06ba\\u06d4 \\u0641\\u0644\\u0645 \\u06a9\\u06d2 \\u067e\\u06c1\\u0644\\u06d2 \\u0646\\u0635\\u0641 \\u062d\\u0635\\u06d2 \\u0645\\u06cc\\u06ba \\u060c \\u0627\\u06cc\\u0633\\u0627 \\u0644\\u06af\\u062a\\u0627 \\u06c1\\u06d2 \\u06a9\\u06c1 \\u0627\\u0628\\u06be\\u06cc \\u0632\\u06cc\\u0627\\u062f\\u06c1 \\u0686\\u0644\\u062a\\u0627 \\u06c1\\u06cc \\u0646\\u06c1\\u06cc\\u06ba \\u06c1\\u06d2\\u06d4 \\u0645\\u06cc\\u06ba \\u0636\\u0631\\u0648\\u0631\\u06cc \\u0637\\u0648\\u0631 \\u067e\\u0631 \\u0628\\u0648\\u0631 \\u0646\\u06c1\\u06cc\\u06ba \\u06c1\\u0648\\u0627 \\u062a\\u06be\\u0627 \\u060c \\u0644\\u06cc\\u06a9\\u0646 \\u0645\\u06cc\\u06ba \\u0686\\u0627\\u06c1\\u062a\\u0627 \\u062a\\u06be\\u0627 \\u06a9\\u06c1 \\u06a9\\u0686\\u06be \\u06c1\\u0648\\u062c\\u0627\\u0626\\u06d2\\u06d4 \\u067e\\u0644\\u0645\\u0688\\u0646\\u06af \\u0627\\u06cc\\u06a9 \\u0635\\u0641\\u062a \\u06c1\\u0648\\u06af\\u06cc \\u062c\\u0633 \\u06a9\\u0627 \\u0645\\u06cc\\u06ba \\u0627\\u0633\\u062a\\u0639\\u0645\\u0627\\u0644 \\u06a9\\u0631\\u0648\\u06ba \\u06af\\u0627\\u06d4 \\u0627\\u0633\\u06d2 \\u062e\\u062a\\u0645 \\u06a9\\u0631\\u0646\\u06d2 \\u06a9\\u06d2 \\u0644\\u0626\\u06d2 \\u060c \\u0645\\u0648\\u0648\\u06cc \\u0645\\u06cc\\u06ba \\u0627\\u06cc\\u06a9 \\u0628\\u06c1\\u062a \\u06c1\\u06cc \\u062a\\u0639\\u0627\\u0648\\u0646 \\u0633\\u06d2 \\u0686\\u0644\\u0646\\u06d2 \\u0648\\u0627\\u0644\\u06cc \\u0645\\u062d\\u0628\\u062a \\u06a9\\u06cc \\u06a9\\u06c1\\u0627\\u0646\\u06cc \\u067e\\u06cc\\u0634 \\u06a9\\u06cc \\u06af\\u0626\\u06cc \\u06c1\\u06d2\\u06d4 \\u06cc\\u06c1 \\u062c\\u0628\\u0631\\u06cc \\u0637\\u0648\\u0631 \\u067e\\u0631 \\u0645\\u062d\\u0633\\u0648\\u0633 \\u06c1\\u0648\\u062a\\u0627 \\u06c1\\u06d2 \\u062c\\u06cc\\u0633\\u06d2 \\u0645\\u0635\\u0646\\u0641\\u06cc\\u0646 \\u0646\\u06d2 \\u0641\\u06cc\\u0635\\u0644\\u06c1 \\u06a9\\u06cc\\u0627 \\u06c1\\u06d2 \\u06a9\\u06c1 \\u0635\\u0631\\u0641 \\u0645\\u0631\\u062f \\u0627\\u0648\\u0631 \\u062e\\u0648\\u0627\\u062a\\u06cc\\u0646 \\u06a9\\u06cc \\u0644\\u06cc\\u0688 \\u06a9\\u0648 \\u0627\\u06a9\\u0679\\u06be\\u0627 \\u06c1\\u0648\\u0646\\u0627 \\u06c1\\u06d2\\u06d4 \\u0644\\u06cc\\u06a9\\u0646 \\u06af\\u0648\\u0627\\u0646\\u06af\\u06cc \\u06a9\\u06cc \\u0648\\u0627\\u062f\\u06cc \\u0645\\u06a9\\u0645\\u0644 \\u0637\\u0648\\u0631 \\u067e\\u0631 \\u0636\\u0627\\u0626\\u0639 \\u0646\\u06c1\\u06cc\\u06ba \\u06c1\\u06d2\\u06d4 \\u0627\\u06cc\\u0633\\u06d2 \\u0644\\u0645\\u062d\\u0627\\u062a \\u06c1\\u06cc\\u06ba \\u062c\\u0646 \\u0633\\u06d2 \\u0645\\u06cc\\u06ba \\u0646\\u06d2 \\u0648\\u0627\\u0642\\u0639\\u06cc \\u0644\\u0637\\u0641 \\u0627\\u0679\\u06be\\u0627\\u06cc\\u0627\\u06d4 \\u062c\\u0648 \\u06af\\u06be\\u0648\\u0691\\u0648\\u06ba \\u067e\\u0631 \\u0633\\u0648\\u0627\\u0631 \\u06a9\\u0627\\u0624\\u0628\\u0627\\u06cc\\u0648\\u06ba \\u06a9\\u06d2 \\u0645\\u0646\\u0627\\u0638\\u0631 \\u0633\\u06d2 \\u0628\\u0627\\u06c1\\u0631 \\u0646\\u06c1\\u06cc\\u06ba \\u0646\\u06a9\\u0644\\u062a\\u0627 \\u0648\\u06c1 \\u0679\\u06cc-\\u0631\\u06cc\\u06a9\\u0633 \\u06a9\\u0648 \\u0644\\u0633\\u0627\\u0646 \\u06a9\\u0631\\u0646\\u06d2 \\u06a9\\u06cc \\u06a9\\u0648\\u0634\\u0634 \\u06a9\\u0631 \\u0631\\u06c1\\u0627 \\u06c1\\u06d2\\u06d4 \\u0622\\u067e \\u06a9\\u0648 \\u06c1\\u0631 \\u0631\\u0648\\u0632 \\u0627\\u06cc\\u0633\\u06cc \\u0686\\u06cc\\u0632\\u06cc\\u06ba \\u0646\\u0638\\u0631 \\u0646\\u06c1\\u06cc\\u06ba \\u0622\\u062a\\u06cc \\u06c1\\u06cc\\u06ba\\u06d4 \\u0631\\u06d2 \\u06c1\\u06cc\\u0631\\u06cc \\u06c1\\u0627\\u0624\\u0633\\u06cc\\u0646 \\u06a9\\u06cc \\u0645\\u062e\\u0644\\u0648\\u0642 \\u0645\\u062a\\u0627\\u062b\\u0631 \\u06a9\\u0646 \\u06c1\\u06d2\\u06d4 \\u0644\\u0648\\u06af\\u0648\\u06ba \\u0627\\u0648\\u0631 \\u06af\\u06be\\u0648\\u0691\\u0648\\u06ba \\u06a9\\u06d2 \\u0633\\u0627\\u062a\\u06be \\u0628\\u0627\\u062a \\u0686\\u06cc\\u062a \\u06a9\\u0631\\u0646\\u06d2 \\u0648\\u0627\\u0644\\u06cc \\u06c1\\u06cc\\u0631\\u06cc \\u06c1\\u0627\\u0624\\u0633\\u06cc\\u0646 \\u06a9\\u06d2 \\u0686\\u06be\\u0648\\u0679\\u06d2 \\u0686\\u06be\\u0648\\u0679\\u06d2 \\u0648\\u0627\\u0642\\u0639\\u0627\\u062a \\u0645\\u06cc\\u06ba \\u0633\\u06d2 \\u06a9\\u0686\\u06be \\u0648\\u0627\\u0642\\u0639\\u06cc \\u0688\\u0627\\u0624\\u0646 \\u0644\\u0648\\u0688 \\u06c1\\u06cc\\u06ba\\u06d4 \\u06cc\\u06c1 \\u0634\\u0627\\u06cc\\u062f \\u0627\\u0633 \\u06a9\\u06d2 \\u0628\\u06c1\\u062a\\u0631\\u06cc\\u0646 \\u06a9\\u0627\\u0645 \\u06a9\\u06cc \\u0646\\u0645\\u0627\\u0626\\u0646\\u062f\\u06af\\u06cc \\u0646\\u06c1\\u06cc\\u06ba \\u06a9\\u0631\\u06d2 \\u06af\\u0627 \\u060c \\u0644\\u06cc\\u06a9\\u0646 \\u0627\\u062b\\u0631\\u0627\\u062a \\u0628\\u06c1\\u062a \\u0627\\u0686\\u06be\\u06d2 \\u06c1\\u06cc\\u06ba\\u06d4 \\u067e\\u06be\\u0631 \\u0628\\u06be\\u06cc \\u060c \\u06a9\\u0645 \\u0627\\u0632 \\u06a9\\u0645 \\u0645\\u06cc\\u0631\\u06d2 \\u0630\\u06c1\\u0646 \\u0645\\u06cc\\u06ba \\u06cc\\u06c1 \\u0627\\u0686\\u06be moments\\u06d2 \\u0644\\u0645\\u062d\\u0627\\u062a \\u0645\\u0646\\u0641\\u06cc \\u067e\\u0631 \\u0642\\u0627\\u0628\\u0648 \\u067e\\u0627\\u0646\\u06d2 \\u06a9\\u06d2 \\u0644\\u0626\\u06d2 \\u06a9\\u0627\\u0641\\u06cc \\u0646\\u06c1\\u06cc\\u06ba \\u06c1\\u06cc\\u06ba\\u06d4 \\u062c\\u062a\\u0646\\u0627 \\u0645\\u062c\\u06be\\u06d2 \\u0627\\u0633 \\u0633\\u06d2 \\u0646\\u0641\\u0631\\u062a \\u06c1\\u06d2 \\u060c \\u0645\\u062c\\u06be\\u06d2 \\u06af\\u0648\\u0627\\u0646\\u06af \\u06a9\\u06cc \\u0648\\u0627\\u062f\\u06cc \\u06a9\\u0648 4-10 \\u06a9\\u06cc \\u062f\\u0631\\u062c\\u06c1 \\u0628\\u0646\\u062f\\u06cc \\u06a9\\u0631\\u0646\\u0627 \\u06c1\\u0648\\u06af\\u06cc\\u06d4\"\n        ],\n        \"semantic_type\": \"\",\n        \"description\": \"\"\n      }\n    },\n    {\n      \"column\": \"sentiment\",\n      \"properties\": {\n        \"dtype\": \"number\",\n        \"std\": 0,\n        \"min\": 0,\n        \"max\": 1,\n        \"num_unique_values\": 2,\n        \"samples\": [\n          1,\n          0\n        ],\n        \"semantic_type\": \"\",\n        \"description\": \"\"\n      }\n    }\n  ]\n}"
            }
          },
          "metadata": {},
          "execution_count": 135
        }
      ]
    },
    {
      "cell_type": "code",
      "source": [
        "from matplotlib import pyplot as plt\n",
        "\n",
        "class_counts = df['sentiment'].value_counts()\n",
        "\n",
        "class_counts.plot(kind='bar', color=['blue', 'orange'])\n",
        "plt.title('Class Distribution')\n",
        "plt.xlabel('Sentiment Class')\n",
        "plt.ylabel('Count')\n",
        "plt.xticks([0, 1], ['Positive (0)', 'Negative (1)'], rotation=0)\n",
        "plt.gca().spines[['top', 'right']].set_visible(False)\n",
        "plt.show()"
      ],
      "metadata": {
        "colab": {
          "base_uri": "https://localhost:8080/",
          "height": 472
        },
        "id": "GIM0US-tx4Uj",
        "outputId": "a54cbb8a-4cb6-4db3-8281-2f7b8c99b36a"
      },
      "execution_count": null,
      "outputs": [
        {
          "output_type": "display_data",
          "data": {
            "text/plain": [
              "<Figure size 640x480 with 1 Axes>"
            ],
            "image/png": "[encoded data removed]"
          },
          "metadata": {}
        }
      ]
    },
    {
      "cell_type": "markdown",
      "source": [
        "## Preprocessing"
      ],
      "metadata": {
        "id": "yfk5mJNCjiid"
      }
    },
    {
      "cell_type": "code",
      "source": [
        "import re\n",
        "from nltk.stem import PorterStemmer\n",
        "import nltk\n",
        "nltk.download('punkt')\n",
        "stemmer = PorterStemmer()"
      ],
      "metadata": {
        "execution": {
          "iopub.status.busy": "2024-04-27T07:41:06.300973Z",
          "iopub.execute_input": "2024-04-27T07:41:06.301905Z",
          "iopub.status.idle": "2024-04-27T07:41:07.031381Z",
          "shell.execute_reply.started": "2024-04-27T07:41:06.301869Z",
          "shell.execute_reply": "2024-04-27T07:41:07.030369Z"
        },
        "trusted": true,
        "id": "rRSQ-x80jiie",
        "outputId": "a577f631-0197-48ed-a79d-179c99f583e1",
        "colab": {
          "base_uri": "https://localhost:8080/"
        }
      },
      "execution_count": null,
      "outputs": [
        {
          "output_type": "stream",
          "name": "stderr",
          "text": [
            "[nltk_data] Downloading package punkt to /root/nltk_data...\n",
            "[nltk_data]   Package punkt is already up-to-date!\n"
          ]
        }
      ]
    },
    {
      "cell_type": "code",
      "source": [
        "import csv\n",
        "def stopwords_loader(path):\n",
        "    stopwords = set()\n",
        "    with open(path, newline='', encoding='utf-8') as file:\n",
        "        reader = csv.reader(file)\n",
        "        for row in reader:\n",
        "            if row[0] == 'stopword':\n",
        "                continue\n",
        "            stopwords.add(row[0])\n",
        "    return stopwords\n",
        "\n",
        "stopwords = stopwords_loader('/kaggle/input/urdu-stopwords/urdu_stopwords.csv')\n",
        "stopwords"
      ],
      "metadata": {
        "execution": {
          "iopub.status.busy": "2024-04-27T07:42:23.459831Z",
          "iopub.execute_input": "2024-04-27T07:42:23.460601Z",
          "iopub.status.idle": "2024-04-27T07:42:23.473353Z",
          "shell.execute_reply.started": "2024-04-27T07:42:23.460555Z",
          "shell.execute_reply": "2024-04-27T07:42:23.472413Z"
        },
        "trusted": true,
        "id": "eEzPzzD9jiie",
        "outputId": "95829aa3-c44b-40af-bd36-3e7c92477727",
        "colab": {
          "base_uri": "https://localhost:8080/"
        }
      },
      "execution_count": null,
      "outputs": [
        {
          "output_type": "execute_result",
          "data": {
            "text/plain": [
              "{'آتےہیں',\n",
              " 'آدھا',\n",
              " 'آپ',\n",
              " 'آپ کی',\n",
              " 'آپکا',\n",
              " 'آپکی',\n",
              " 'آپکے',\n",
              " 'اس',\n",
              " 'اسی',\n",
              " 'اسے',\n",
              " 'ان ',\n",
              " 'انکا',\n",
              " 'انکو ',\n",
              " 'انکی ',\n",
              " 'انکے',\n",
              " 'اهپر',\n",
              " 'اور',\n",
              " 'اپنا ',\n",
              " 'اپنی ',\n",
              " 'اپنے',\n",
              " 'اچھے',\n",
              " 'اکٹھی',\n",
              " 'اکٹھے',\n",
              " 'اگر',\n",
              " 'اگر ',\n",
              " 'اگرتو ',\n",
              " 'بعضے',\n",
              " 'بلکہ',\n",
              " 'بڑھ',\n",
              " 'تاکہ',\n",
              " 'تم ',\n",
              " 'تمہارا',\n",
              " 'تمہاری',\n",
              " 'تمہاری ',\n",
              " 'تمہارے',\n",
              " 'تو',\n",
              " 'توہی',\n",
              " 'تیرا ',\n",
              " 'تیری',\n",
              " 'تیرے',\n",
              " 'جاؤ',\n",
              " 'جارہاہے',\n",
              " 'جب',\n",
              " 'جبتک',\n",
              " 'جبکہ',\n",
              " 'جلدہی',\n",
              " 'جنہوں',\n",
              " 'جو',\n",
              " 'جیسے',\n",
              " 'دیکھو',\n",
              " 'دیکھی',\n",
              " 'رہتےہیں',\n",
              " 'زریعہ',\n",
              " 'زکن',\n",
              " 'زیادہ',\n",
              " 'ساتھ',\n",
              " 'سب',\n",
              " 'سبھی',\n",
              " 'سکھائے',\n",
              " 'سیکھو',\n",
              " 'طرف',\n",
              " 'عموماً',\n",
              " 'فرد',\n",
              " 'فلاں',\n",
              " 'لئے',\n",
              " 'لوجب',\n",
              " 'لگا',\n",
              " 'لگانے',\n",
              " 'لگا۔',\n",
              " 'لگی',\n",
              " 'لگیں',\n",
              " 'لگے',\n",
              " 'لہذا',\n",
              " 'لیکن',\n",
              " 'لےلیتے',\n",
              " 'مختلف',\n",
              " 'موجود',\n",
              " 'میرا',\n",
              " 'میری',\n",
              " 'میرے',\n",
              " 'میں',\n",
              " 'وہ ',\n",
              " 'وہاں',\n",
              " 'پر',\n",
              " 'پڑتا',\n",
              " 'پڑتی',\n",
              " 'پڑتے',\n",
              " 'پہنچ',\n",
              " 'پہنچوں',\n",
              " 'پہنچی',\n",
              " 'پہنچیں',\n",
              " 'چند',\n",
              " 'چونکہ',\n",
              " 'کا',\n",
              " 'کاہے',\n",
              " 'کب',\n",
              " 'کبھی',\n",
              " 'کر',\n",
              " 'کردیا',\n",
              " 'کرهں',\n",
              " 'کرکے ',\n",
              " 'کر۔',\n",
              " 'کو',\n",
              " 'کوئی',\n",
              " 'کون',\n",
              " 'کچھ',\n",
              " 'کھولے',\n",
              " 'کہاں',\n",
              " 'کی',\n",
              " 'کیا',\n",
              " 'کیا۔',\n",
              " 'کیتا',\n",
              " 'کیتا ',\n",
              " 'کیتی',\n",
              " 'کیتی ',\n",
              " 'کیتے',\n",
              " 'کیسا',\n",
              " 'کیسے ',\n",
              " 'کیونکہ۔',\n",
              " 'کیوں',\n",
              " 'کیوںکہ',\n",
              " 'کے',\n",
              " 'کےزریعے',\n",
              " 'ہم',\n",
              " 'ہمارا',\n",
              " 'ہماری ',\n",
              " 'ہمارے ',\n",
              " 'ہوتا',\n",
              " 'ہوتا۔',\n",
              " 'ہوتی',\n",
              " 'ہوتی۔',\n",
              " 'ہوتے',\n",
              " 'ہوتے۔',\n",
              " 'ہیں',\n",
              " 'ہیں۔',\n",
              " 'یا',\n",
              " 'یونہی',\n",
              " 'یہ ',\n",
              " 'یہاں '}"
            ]
          },
          "metadata": {},
          "execution_count": 8
        }
      ]
    },
    {
      "cell_type": "code",
      "source": [
        "maxlen = 0\n",
        "def data_cleaning(text, stopwords):\n",
        "    text = text.lower()\n",
        "    text = re.sub(\"[^\\u0600-\\u06FF\\s]\", ' ', text)\n",
        "    text = nltk.word_tokenize(text)\n",
        "    text = [t for t in text if len(t) > 1]\n",
        "    text = [stemmer.stem(word) for word in text if word not in stopwords]\n",
        "    text.reverse()\n",
        "\n",
        "    global maxlen\n",
        "    maxlen = max(len(text),maxlen)\n",
        "\n",
        "    return ' '.join(text)\n",
        "\n",
        "df['clean_text'] = df['sentence'].apply(data_cleaning,stopwords=stopwords)\n",
        "df.head()"
      ],
      "metadata": {
        "execution": {
          "iopub.status.busy": "2024-04-27T08:48:53.026189Z",
          "iopub.execute_input": "2024-04-27T08:48:53.027087Z",
          "iopub.status.idle": "2024-04-27T08:54:48.303259Z",
          "shell.execute_reply.started": "2024-04-27T08:48:53.027049Z",
          "shell.execute_reply": "2024-04-27T08:54:48.302045Z"
        },
        "trusted": true,
        "id": "X7w6st7ijiie",
        "outputId": "d21b0bb8-23a0-4539-820a-a6a5e00816d9",
        "colab": {
          "base_uri": "https://localhost:8080/",
          "height": 206
        }
      },
      "execution_count": null,
      "outputs": [
        {
          "output_type": "execute_result",
          "data": {
            "text/plain": [
              "                                            sentence  sentiment  \\\n",
              "0  میں نے اسے 80 کی دہائی کے وسط میں ایک کیبل گائ...          0   \n",
              "1  چونکہ میں نے 80 کی دہائی میں انسپکٹر گیجٹ کارٹ...          1   \n",
              "2  ایک ایسے معاشرے کی حالت کے بارے میں تعجب کرتا ...          0   \n",
              "3  مفید البرٹ پیون کی طرف سے ایک اور ردی کی ٹوکری...          1   \n",
              "4  یہ کولمبو ہے جس کی ہدایتکاری اپنے کیریئر کے اب...          0   \n",
              "\n",
              "                                          clean_text  \n",
              "0  کرتے کہ ہے نہیں فرق سے کہتے کہ ہے نہیں فرق سے ...  \n",
              "1  تھا۔ بہتر کہیں سے فلم یہ دیکھیں۔ کارٹون بجائے ...  \n",
              "2  ہے۔ دیتی سوالات کہیں سے جوابات ہمیں فلم تک دیر...  \n",
              "3  ہو ممکن یہ بدتر بھی سے طور مبینہ کھلونے شیطانی...  \n",
              "4  انتہائی دو۔ مت بڑھا توقعات بھی نام اسپلبرگ منس...  "
            ],
            "text/html": [
              "\n",
              "  <div id=\"df-b7e41315-a12b-4786-8ae2-4f268a3bcebd\" class=\"colab-df-container\">\n",
              "    <div>\n",
              "<style scoped>\n",
              "    .dataframe tbody tr th:only-of-type {\n",
              "        vertical-align: middle;\n",
              "    }\n",
              "\n",
              "    .dataframe tbody tr th {\n",
              "        vertical-align: top;\n",
              "    }\n",
              "\n",
              "    .dataframe thead th {\n",
              "        text-align: right;\n",
              "    }\n",
              "</style>\n",
              "<table border=\"1\" class=\"dataframe\">\n",
              "  <thead>\n",
              "    <tr style=\"text-align: right;\">\n",
              "      <th></th>\n",
              "      <th>sentence</th>\n",
              "      <th>sentiment</th>\n",
              "      <th>clean_text</th>\n",
              "    </tr>\n",
              "  </thead>\n",
              "  <tbody>\n",
              "    <tr>\n",
              "      <th>0</th>\n",
              "      <td>میں نے اسے 80 کی دہائی کے وسط میں ایک کیبل گائ...</td>\n",
              "      <td>0</td>\n",
              "      <td>کرتے کہ ہے نہیں فرق سے کہتے کہ ہے نہیں فرق سے ...</td>\n",
              "    </tr>\n",
              "    <tr>\n",
              "      <th>1</th>\n",
              "      <td>چونکہ میں نے 80 کی دہائی میں انسپکٹر گیجٹ کارٹ...</td>\n",
              "      <td>1</td>\n",
              "      <td>تھا۔ بہتر کہیں سے فلم یہ دیکھیں۔ کارٹون بجائے ...</td>\n",
              "    </tr>\n",
              "    <tr>\n",
              "      <th>2</th>\n",
              "      <td>ایک ایسے معاشرے کی حالت کے بارے میں تعجب کرتا ...</td>\n",
              "      <td>0</td>\n",
              "      <td>ہے۔ دیتی سوالات کہیں سے جوابات ہمیں فلم تک دیر...</td>\n",
              "    </tr>\n",
              "    <tr>\n",
              "      <th>3</th>\n",
              "      <td>مفید البرٹ پیون کی طرف سے ایک اور ردی کی ٹوکری...</td>\n",
              "      <td>1</td>\n",
              "      <td>ہو ممکن یہ بدتر بھی سے طور مبینہ کھلونے شیطانی...</td>\n",
              "    </tr>\n",
              "    <tr>\n",
              "      <th>4</th>\n",
              "      <td>یہ کولمبو ہے جس کی ہدایتکاری اپنے کیریئر کے اب...</td>\n",
              "      <td>0</td>\n",
              "      <td>انتہائی دو۔ مت بڑھا توقعات بھی نام اسپلبرگ منس...</td>\n",
              "    </tr>\n",
              "  </tbody>\n",
              "</table>\n",
              "</div>\n",
              "    <div class=\"colab-df-buttons\">\n",
              "\n",
              "  <div class=\"colab-df-container\">\n",
              "    <button class=\"colab-df-convert\" onclick=\"convertToInteractive('df-b7e41315-a12b-4786-8ae2-4f268a3bcebd')\"\n",
              "            title=\"Convert this dataframe to an interactive table.\"\n",
              "            style=\"display:none;\">\n",
              "\n",
              "  <svg xmlns=\"http://www.w3.org/2000/svg\" height=\"24px\" viewBox=\"0 -960 960 960\">\n",
              "    <path d=\"M120-120v-720h720v720H120Zm60-500h600v-160H180v160Zm220 220h160v-160H400v160Zm0 220h160v-160H400v160ZM180-400h160v-160H180v160Zm440 0h160v-160H620v160ZM180-180h160v-160H180v160Zm440 0h160v-160H620v160Z\"/>\n",
              "  </svg>\n",
              "    </button>\n",
              "\n",
              "  <style>\n",
              "    .colab-df-container {\n",
              "      display:flex;\n",
              "      gap: 12px;\n",
              "    }\n",
              "\n",
              "    .colab-df-convert {\n",
              "      background-color: #E8F0FE;\n",
              "      border: none;\n",
              "      border-radius: 50%;\n",
              "      cursor: pointer;\n",
              "      display: none;\n",
              "      fill: #1967D2;\n",
              "      height: 32px;\n",
              "      padding: 0 0 0 0;\n",
              "      width: 32px;\n",
              "    }\n",
              "\n",
              "    .colab-df-convert:hover {\n",
              "      background-color: #E2EBFA;\n",
              "      box-shadow: 0px 1px 2px rgba(60, 64, 67, 0.3), 0px 1px 3px 1px rgba(60, 64, 67, 0.15);\n",
              "      fill: #174EA6;\n",
              "    }\n",
              "\n",
              "    .colab-df-buttons div {\n",
              "      margin-bottom: 4px;\n",
              "    }\n",
              "\n",
              "    [theme=dark] .colab-df-convert {\n",
              "      background-color: #3B4455;\n",
              "      fill: #D2E3FC;\n",
              "    }\n",
              "\n",
              "    [theme=dark] .colab-df-convert:hover {\n",
              "      background-color: #434B5C;\n",
              "      box-shadow: 0px 1px 3px 1px rgba(0, 0, 0, 0.15);\n",
              "      filter: drop-shadow(0px 1px 2px rgba(0, 0, 0, 0.3));\n",
              "      fill: #FFFFFF;\n",
              "    }\n",
              "  </style>\n",
              "\n",
              "    <script>\n",
              "      const buttonEl =\n",
              "        document.querySelector('#df-b7e41315-a12b-4786-8ae2-4f268a3bcebd button.colab-df-convert');\n",
              "      buttonEl.style.display =\n",
              "        google.colab.kernel.accessAllowed ? 'block' : 'none';\n",
              "\n",
              "      async function convertToInteractive(key) {\n",
              "        const element = document.querySelector('#df-b7e41315-a12b-4786-8ae2-4f268a3bcebd');\n",
              "        const dataTable =\n",
              "          await google.colab.kernel.invokeFunction('convertToInteractive',\n",
              "                                                    [key], {});\n",
              "        if (!dataTable) return;\n",
              "\n",
              "        const docLinkHtml = 'Like what you see? Visit the ' +\n",
              "          '<a target=\"_blank\" href=https://colab.research.google.com/notebooks/data_table.ipynb>data table notebook</a>'\n",
              "          + ' to learn more about interactive tables.';\n",
              "        element.innerHTML = '';\n",
              "        dataTable['output_type'] = 'display_data';\n",
              "        await google.colab.output.renderOutput(dataTable, element);\n",
              "        const docLink = document.createElement('div');\n",
              "        docLink.innerHTML = docLinkHtml;\n",
              "        element.appendChild(docLink);\n",
              "      }\n",
              "    </script>\n",
              "  </div>\n",
              "\n",
              "\n",
              "<div id=\"df-87d1a932-5ddb-4d41-b901-e361c44a8a4b\">\n",
              "  <button class=\"colab-df-quickchart\" onclick=\"quickchart('df-87d1a932-5ddb-4d41-b901-e361c44a8a4b')\"\n",
              "            title=\"Suggest charts\"\n",
              "            style=\"display:none;\">\n",
              "\n",
              "<svg xmlns=\"http://www.w3.org/2000/svg\" height=\"24px\"viewBox=\"0 0 24 24\"\n",
              "     width=\"24px\">\n",
              "    <g>\n",
              "        <path d=\"M19 3H5c-1.1 0-2 .9-2 2v14c0 1.1.9 2 2 2h14c1.1 0 2-.9 2-2V5c0-1.1-.9-2-2-2zM9 17H7v-7h2v7zm4 0h-2V7h2v10zm4 0h-2v-4h2v4z\"/>\n",
              "    </g>\n",
              "</svg>\n",
              "  </button>\n",
              "\n",
              "<style>\n",
              "  .colab-df-quickchart {\n",
              "      --bg-color: #E8F0FE;\n",
              "      --fill-color: #1967D2;\n",
              "      --hover-bg-color: #E2EBFA;\n",
              "      --hover-fill-color: #174EA6;\n",
              "      --disabled-fill-color: #AAA;\n",
              "      --disabled-bg-color: #DDD;\n",
              "  }\n",
              "\n",
              "  [theme=dark] .colab-df-quickchart {\n",
              "      --bg-color: #3B4455;\n",
              "      --fill-color: #D2E3FC;\n",
              "      --hover-bg-color: #434B5C;\n",
              "      --hover-fill-color: #FFFFFF;\n",
              "      --disabled-bg-color: #3B4455;\n",
              "      --disabled-fill-color: #666;\n",
              "  }\n",
              "\n",
              "  .colab-df-quickchart {\n",
              "    background-color: var(--bg-color);\n",
              "    border: none;\n",
              "    border-radius: 50%;\n",
              "    cursor: pointer;\n",
              "    display: none;\n",
              "    fill: var(--fill-color);\n",
              "    height: 32px;\n",
              "    padding: 0;\n",
              "    width: 32px;\n",
              "  }\n",
              "\n",
              "  .colab-df-quickchart:hover {\n",
              "    background-color: var(--hover-bg-color);\n",
              "    box-shadow: 0 1px 2px rgba(60, 64, 67, 0.3), 0 1px 3px 1px rgba(60, 64, 67, 0.15);\n",
              "    fill: var(--button-hover-fill-color);\n",
              "  }\n",
              "\n",
              "  .colab-df-quickchart-complete:disabled,\n",
              "  .colab-df-quickchart-complete:disabled:hover {\n",
              "    background-color: var(--disabled-bg-color);\n",
              "    fill: var(--disabled-fill-color);\n",
              "    box-shadow: none;\n",
              "  }\n",
              "\n",
              "  .colab-df-spinner {\n",
              "    border: 2px solid var(--fill-color);\n",
              "    border-color: transparent;\n",
              "    border-bottom-color: var(--fill-color);\n",
              "    animation:\n",
              "      spin 1s steps(1) infinite;\n",
              "  }\n",
              "\n",
              "  @keyframes spin {\n",
              "    0% {\n",
              "      border-color: transparent;\n",
              "      border-bottom-color: var(--fill-color);\n",
              "      border-left-color: var(--fill-color);\n",
              "    }\n",
              "    20% {\n",
              "      border-color: transparent;\n",
              "      border-left-color: var(--fill-color);\n",
              "      border-top-color: var(--fill-color);\n",
              "    }\n",
              "    30% {\n",
              "      border-color: transparent;\n",
              "      border-left-color: var(--fill-color);\n",
              "      border-top-color: var(--fill-color);\n",
              "      border-right-color: var(--fill-color);\n",
              "    }\n",
              "    40% {\n",
              "      border-color: transparent;\n",
              "      border-right-color: var(--fill-color);\n",
              "      border-top-color: var(--fill-color);\n",
              "    }\n",
              "    60% {\n",
              "      border-color: transparent;\n",
              "      border-right-color: var(--fill-color);\n",
              "    }\n",
              "    80% {\n",
              "      border-color: transparent;\n",
              "      border-right-color: var(--fill-color);\n",
              "      border-bottom-color: var(--fill-color);\n",
              "    }\n",
              "    90% {\n",
              "      border-color: transparent;\n",
              "      border-bottom-color: var(--fill-color);\n",
              "    }\n",
              "  }\n",
              "</style>\n",
              "\n",
              "  <script>\n",
              "    async function quickchart(key) {\n",
              "      const quickchartButtonEl =\n",
              "        document.querySelector('#' + key + ' button');\n",
              "      quickchartButtonEl.disabled = true;  // To prevent multiple clicks.\n",
              "      quickchartButtonEl.classList.add('colab-df-spinner');\n",
              "      try {\n",
              "        const charts = await google.colab.kernel.invokeFunction(\n",
              "            'suggestCharts', [key], {});\n",
              "      } catch (error) {\n",
              "        console.error('Error during call to suggestCharts:', error);\n",
              "      }\n",
              "      quickchartButtonEl.classList.remove('colab-df-spinner');\n",
              "      quickchartButtonEl.classList.add('colab-df-quickchart-complete');\n",
              "    }\n",
              "    (() => {\n",
              "      let quickchartButtonEl =\n",
              "        document.querySelector('#df-87d1a932-5ddb-4d41-b901-e361c44a8a4b button');\n",
              "      quickchartButtonEl.style.display =\n",
              "        google.colab.kernel.accessAllowed ? 'block' : 'none';\n",
              "    })();\n",
              "  </script>\n",
              "</div>\n",
              "    </div>\n",
              "  </div>\n"
            ],
            "application/vnd.google.colaboratory.intrinsic+json": {
              "type": "dataframe",
              "variable_name": "df",
              "summary": "{\n  \"name\": \"df\",\n  \"rows\": 50000,\n  \"fields\": [\n    {\n      \"column\": \"sentence\",\n      \"properties\": {\n        \"dtype\": \"string\",\n        \"num_unique_values\": 49578,\n        \"samples\": [\n          \"\\u0627\\u06cc\\u06a9 \\u0627\\u0648\\u0631 \\u0639\\u0645\\u062f\\u06c1 \\u0627\\u062e\\u0644\\u0627\\u0642\\u06cc \\u0627\\u0628\\u06c1\\u0627\\u0645 \\u06a9\\u06d2 \\u0679\\u06a9\\u0691\\u06d2 \\u062c\\u06c1\\u0627\\u06ba \\u0627\\u06cc\\u0646\\u0679\\u06cc \\u06c1\\u06cc\\u0631\\u0648 \\u0646\\u06d2 \\u06cc\\u06c1 \\u0641\\u06cc\\u0635\\u0644\\u06c1 \\u06a9\\u0631\\u0646\\u0627 \\u0645\\u0634\\u06a9\\u0644 \\u0628\\u0646\\u0627 \\u062f\\u06cc\\u0627 \\u06c1\\u06d2 \\u06a9\\u06c1 \\u06a9\\u0633 \\u06a9\\u06cc \\u062c\\u0691 \\u06a9\\u0648 \\u062e\\u062a\\u0645 \\u06a9\\u0631\\u0646\\u0627 \\u06c1\\u06d2\\u06d4 \\u0627\\u06af\\u0631 \\u06a9\\u0686\\u06be \\u0627\\u0648\\u0631 \\u0646\\u06c1\\u06cc\\u06ba \\u062a\\u0648 \\\"\\u062f\\u06cc \\u0628\\u06cc\\u06af\\u0644\\u06cc\\u0688\\\" \\u0646\\u06d2 \\u06a9\\u0633\\u06cc \\u06a9\\u0648 \\u062e\\u0627\\u0645\\u0648\\u0634 \\u06a9\\u0631\\u0627\\u062f\\u06cc\\u0627 \\u062c\\u0633 \\u0646\\u06d2 \\u06a9\\u06c1\\u0627 \\u062a\\u06be\\u0627 \\u06a9\\u06c1 \\u0641\\u0644\\u0645\\u0648\\u06ba \\u0645\\u06cc\\u06ba \\u0627\\u062f\\u0627\\u06a9\\u0627\\u0631\\u06c1 \\u06a9\\u06d2 \\u0644\\u0626\\u06d2 \\u06a9\\u0648\\u0626\\u06cc \\u0627\\u0686\\u06be\\u06d2 \\u062d\\u0635\\u06d2 \\u0646\\u06c1\\u06cc\\u06ba \\u062a\\u06be\\u06d2\\u06d4 \\u06a9\\u0645 \\u0627\\u0632 \\u06a9\\u0645 1971 \\u0645\\u06cc\\u06ba\\u06d4 \\u0686\\u0627\\u0631 \\u062a\\u06be\\u06d2 \\u0627\\u0633 \\u0641\\u0644\\u0645 \\u0645\\u06cc\\u06ba \\u0627\\u062f\\u0627\\u06a9\\u0627\\u0631\\u06c1 \\u06a9\\u06d2 \\u0644\\u0626\\u06d2 \\u0639\\u0645\\u062f\\u06c1 \\u062d\\u0635\\u06d2 \\u0627\\u0648\\u0631 \\u0633\\u0628 \\u06a9\\u0648 \\u0627\\u0686\\u06be\\u06cc \\u0637\\u0631\\u062d \\u0633\\u06d2 \\u06a9\\u0627\\u0633\\u0679 \\u06a9\\u06cc\\u0627 \\u06af\\u06cc\\u0627 \\u062a\\u06be\\u0627 \\u0627\\u0648\\u0631 \\u0627\\u0686\\u06be\\u06cc \\u0637\\u0631\\u062d \\u0633\\u06d2 \\u067e\\u06be\\u0627\\u0646\\u0633\\u06cc \\u062f\\u06cc \\u06af\\u0626\\u06cc \\u062a\\u06be\\u06cc\\u06d4 \\u067e\\u0627\\u0645\\u06cc\\u0646 \\u0641\\u0631\\u0688\\u06cc\\u0646 \\u0646\\u06d2 \\u0627\\u0645\\u06cc \\u06a9\\u06cc \\u062d\\u06cc\\u062b\\u06cc\\u062a \\u0633\\u06d2 \\u0639\\u0645\\u062f\\u06c1 \\u06a9\\u0627\\u0645 \\u06a9\\u06cc\\u0627 \\u062a\\u06be\\u0627 \\u0627\\u0648\\u0631 \\u0648\\u06c1 \\\"\\u0648\\u0627\\u0646\\u0688\\u0627 \\u062c\\u0648\\u0646\\\" \\u0627\\u062f\\u0627 \\u06a9\\u0631\\u06cc\\u06ba \\u06af\\u06cc\\u06d4 \\u06cc\\u06c1 \\u067e\\u06c1\\u0644\\u0627 \\u0645\\u0648\\u0642\\u0639 \\u06c1\\u0648\\u06af\\u0627 \\u062c\\u0628 \\u06a9\\u0633\\u06cc \\u0628\\u0627\\u0644\\u063a \\u0645\\u0631\\u062f \\u0628\\u0627\\u06a9\\u0633 \\u0622\\u0641\\u0633 \\u0627\\u0633\\u0679\\u0627\\u0631 \\u0646\\u06d2 \\u0628\\u0627\\u0631\\u06c1 \\u0633\\u0627\\u0644\\u06c1 \\u0644\\u0691\\u06a9\\u06cc \\u06a9\\u06d2 \\u0633\\u0627\\u062a\\u06be \\u06a9\\u06cc\\u0645\\u0631\\u06d2 \\u0645\\u06cc\\u06ba \\u062a\\u0648\\u0633\\u06cc\\u0639 \\u0634\\u062f\\u06c1 \\u0628\\u0648\\u0633\\u06c1 \\u0628\\u0627\\u0646\\u0679\\u0627 \\u060c \\u062d\\u06cc\\u0631\\u062a \\u06c1\\u06d2 \\u06a9\\u06c1 \\u06a9\\u06cc\\u0627 \\u0627\\u0633 \\u0648\\u0642\\u062a \\u0627\\u0633 \\u0628\\u0627\\u0631\\u06d2 \\u0645\\u06cc\\u06ba \\u0632\\u06cc\\u0627\\u062f\\u06c1 \\u062a\\u0646\\u0627\\u0632\\u0639\\u06c1 \\u062a\\u06be\\u0627\\u06d4 \\u06cc\\u06c1 \\u0634\\u0627\\u06cc\\u062f \\u067e\\u0648\\u0644\\u0627\\u0646\\u0633\\u06a9\\u06cc \\u06a9\\u0627 \\u067e\\u0633\\u0646\\u062f\\u06cc\\u062f\\u06c1 \\u0645\\u0646\\u0638\\u0631 \\u062a\\u06be\\u0627\\u06d4 \\u0627\\u0645\\u06cc \\u06a9\\u06d2 \\u06a9\\u0686\\u06be\\u06cc \\\"\\u0631\\u06cc\\u0646\\u0688\\u0648\\u0644\\u0641\\\" \\u06a9\\u06cc \\u062a\\u0642\\u062f\\u06cc\\u0631 \\u06a9\\u0648 \\u062f\\u06cc\\u06a9\\u06be\\u062a\\u06d2 \\u06c1\\u0648\\u0626\\u06d2 \\u060c \\u06cc\\u06c1 \\u06a9\\u0648\\u0626\\u06cc \\u062a\\u0639\\u062c\\u0628 \\u06a9\\u06cc \\u0628\\u0627\\u062a \\u0646\\u06c1\\u06cc\\u06ba \\u06c1\\u06d2 \\u06a9\\u06c1 \\u0641\\u0631\\u0688\\u06cc\\u0646 \\u0628\\u0691\\u06d2 \\u062c\\u0627\\u0646\\u0648\\u0631\\u0648\\u06ba \\u06a9\\u06d2 \\u062d\\u0642\\u0648\\u0642 \\u06a9\\u06d2 \\u0644\\u0626\\u06d2 \\u0633\\u0631\\u06af\\u0631\\u0645 \\u06a9\\u0627\\u0631\\u06a9\\u0646 \\u0628\\u0646 \\u06a9\\u0631 \\u0628\\u0691\\u06be\\u0627 \\u06c1\\u06d2\\u06d4 \\u062c\\u06cc\\u0631\\u0627\\u0644\\u0688\\u0627\\u0626\\u0646 \\u067e\\u06cc\\u062c \\u0628\\u06be\\u06cc \\u0627\\u0633\\u06cc \\u0637\\u0631\\u062d \\u0627\\u06cc\\u06a9 \\u0628\\u06c1\\u062a\\u0631\\u06cc\\u0646 \\u067e\\u06cc\\u0686\\u06cc\\u062f\\u06c1 \\u06a9\\u0631\\u062f\\u0627\\u0631 \\u0627\\u062f\\u0627 \\u06a9\\u0631\\u0631\\u06c1\\u0627 \\u062a\\u06be\\u0627 \\u060c \\u062c\\u0633 \\u0645\\u06cc\\u06ba \\u0635\\u0631\\u0641 \\u0635\\u062d\\u06cc\\u062d \\u0645\\u0642\\u062f\\u0627\\u0631 \\u0645\\u06cc\\u06ba \\u062a\\u062d\\u0645\\u0644 \\u062a\\u06be\\u0627\\u06d4 \\u06cc\\u06c1 \\u062f\\u0644\\u0686\\u0633\\u067e \\u0628\\u0627\\u062a \\u06c1\\u06d2 \\u06a9\\u06c1 \\u0627\\u0644\\u0632\\u0628\\u062a\\u06be \\u06c1\\u0627\\u0631\\u0679 \\u0645\\u06cc\\u0646 \\u0646\\u06d2 \\u062e\\u0648\\u062f\\u06a9\\u0634\\u06cc \\u06a9\\u06d2 \\u0635\\u0631\\u0641 \\u062a\\u06cc\\u0646 \\u062f\\u0646 \\u0628\\u0639\\u062f (\\u067e\\u0627\\u0646\\u0686\\u0648\\u06cc\\u06ba \\u0645\\u0646\\u0632\\u0644 \\u06a9\\u06cc \\u06a9\\u06be\\u0691\\u06a9\\u06cc \\u0633\\u06d2 \\u062e\\u0648\\u062f \\u06a9\\u0648 \\u067e\\u06be\\u06cc\\u0646\\u06a9\\u062a\\u06d2 \\u06c1\\u0648\\u0626\\u06d2) \\u0627\\u0633 \\u06a9\\u06cc \\u0645\\u0648\\u062a \\u06c1\\u0648\\u06af\\u0626\\u06cc \\u06a9\\u06cc\\u0648\\u0646\\u06a9\\u06c1 \\u0627\\u0646\\u06c1\\u0648\\u06ba \\u0646\\u06d2 \\\"\\u062a\\u0645 \\u0627\\u06cc\\u06a9 \\u0628\\u0691\\u06d2 \\u0644\\u0691\\u06a9\\u06d2 \\u0627\\u0628\\\" \\u0645\\u06cc\\u06ba \\u0628\\u06be\\u06cc \\u0627\\u06cc\\u06a9 \\u0633\\u0627\\u062a\\u06be \\u06a9\\u0627\\u0645 \\u06a9\\u06cc\\u0627 \\u062a\\u06be\\u0627\\u06d4 \\u06c1\\u0627\\u0631\\u0679 \\u0645\\u06cc\\u0646 (\\u062c\\u0648 \\u0627\\u06cc\\u0633\\u0627 \\u0644\\u06af\\u062a\\u0627 \\u06c1\\u06d2 \\u06a9\\u06c1 \\u0648\\u06c1 \\u0628\\u0644\\u06cc\\u0626\\u0631 \\u0628\\u0631\\u0627\\u0624\\u0646 \\u06a9\\u06cc \\u06c1\\u06cc \\u06c1\\u0648\\u0633\\u06a9\\u062a\\u06cc \\u06c1\\u06d2\\u06d4 \\u0628\\u06c1\\u0646) \\u0627\\u06cc\\u0688\\u0648\\u06cc\\u0646\\u0627 \\u06a9\\u06cc \\u0637\\u0631\\u062d \\u062d\\u06cc\\u0631\\u062a \\u0627\\u0646\\u06af\\u06cc\\u0632 \\u062a\\u06be\\u06cc\\u06ba \\u0627\\u0648\\u0631 \\u0627\\u0633\\u06d2 \\u0622\\u0633\\u06a9\\u0631 \\u0645\\u0644\\u0646\\u0627 \\u0686\\u0627\\u06c1\\u0626\\u06d2 \\u062a\\u06be\\u0627 (\\u0627\\u0633 \\u0633\\u0627\\u0644 \\u06a9\\u06cc \\u06a9\\u0648\\u0626\\u06cc \\u0627\\u0648\\u0631 \\u06a9\\u0627\\u0631\\u06a9\\u0631\\u062f\\u06af\\u06cc \\u0642\\u0631\\u06cc\\u0628 \\u0646\\u06c1\\u06cc\\u06ba \\u062a\\u06be\\u06cc) \\u060c \\u0644\\u06cc\\u06a9\\u0646 \\u0627\\u0628 \\u06c1\\u0645\\u06cc\\u06ba \\u0627\\u0633 \\u06a9\\u06d2 \\u0628\\u0627\\u0631\\u06d2 \\u0645\\u06cc\\u06ba \\u06a9\\u06cc\\u0627 \\u067e\\u062a\\u06c1 \\u06c1\\u06d2 \\u0622\\u067e \\u06a9\\u0648 \\u062d\\u06cc\\u0631\\u062a \\u06c1\\u0648\\u06af\\u06cc \\u06a9\\u06c1 \\u0627\\u0633 \\u06a9\\u06cc \\u06a9\\u0627\\u0631\\u06a9\\u0631\\u062f\\u06af\\u06cc \\u06a9\\u0627 \\u06a9\\u062a\\u0646\\u0627 \\u0645\\u0637\\u0627\\u0644\\u0639\\u06c1 \\u06a9\\u06cc \\u06a9\\u0648\\u0634\\u0634 \\u062a\\u06be\\u06cc \\u0627\\u0648\\u0631 \\u06a9\\u062a\\u0646\\u0627 \\u0627\\u0646\\u062f\\u0631 \\u0633\\u06d2 \\u0622\\u06cc\\u0627 \\u062a\\u06be\\u0627\\u06d4 \\u0627\\u0633\\u06d2 \\u0627\\u06cc\\u0688\\u0648\\u06cc\\u0646\\u0627 \\u0627\\u0633 \\u0637\\u0631\\u062d \\u06a9\\u06d2 \\u06a9\\u0686\\u06d2 \\u062f\\u0631\\u062f \\u06a9\\u0648 \\u062f\\u06a9\\u06be\\u0627\\u062a\\u06cc \\u06c1\\u06d2 \\u06a9\\u06c1 \\u062f\\u06cc\\u06a9\\u06be\\u0646\\u0627 \\u0645\\u0634\\u06a9\\u0644 \\u06c1\\u06d2\\u06d4 \\\"\\u062f\\u06cc \\u063a\\u0644\\u0637\\u06cc\\u0627\\u06ba\\\" \\u0645\\u06cc\\u06ba \\u0645\\u0627\\u0631\\u0644\\u0646 \\u0645\\u0646\\u0631\\u0648 \\u06a9\\u06cc \\u0646\\u0627\\u0642\\u0627\\u0628\\u0644 \\u06cc\\u0642\\u06cc\\u0646 \\u0627\\u062f\\u0627\\u06a9\\u0627\\u0631\\u06cc \\u06a9\\u06cc \\u0637\\u0631\\u062d \\u060c \\u0646\\u0627\\u0638\\u0631\\u06cc\\u0646 \\u0628\\u06be\\u06cc \\u0627\\u067e\\u0646\\u06d2 \\u06a9\\u0631\\u062f\\u0627\\u0631 \\u0645\\u06cc\\u06ba \\u062c\\u0648 \\u06a9\\u0631\\u062f\\u0627\\u0631 \\u0627\\u062f\\u0627 \\u06a9\\u0631\\u0631\\u06c1\\u06d2 \\u06c1\\u06cc\\u06ba \\u0627\\u0633 \\u0645\\u06cc\\u06ba \\u0627\\u0646 \\u06a9\\u06d2 \\u0627\\u067e\\u0646\\u06d2 \\u0628\\u06c1\\u062a \\u0633\\u06d2 \\u0634\\u06cc\\u0637\\u0627\\u0646 \\u0628\\u06be\\u06cc \\u0646\\u0638\\u0631 \\u0622\\u0631\\u06c1\\u06d2 \\u06c1\\u06cc\\u06ba\\u06d4 \\u0622\\u062e\\u0631\\u06a9\\u0627\\u0631 \\u062c\\u0648 \\u0627\\u06cc\\u0646 \\u06c1\\u06cc\\u0631\\u06cc\\u0633 \\u0628\\u06be\\u06cc \\u06c1\\u06d2 \\u062c\\u0648 \\u062d\\u06cc\\u0631\\u062a \\u0627\\u0646\\u06af\\u06cc\\u0632 \\u0637\\u0648\\u0631 \\u067e\\u0631 \\u06a9\\u0627\\u0645\\u0644 \\u0637\\u0648\\u0631 \\u067e\\u0631 \\u06a9\\u0627\\u0645\\u0644 \\u06c1\\u06d2\\u06d4 \\u0645\\u06cc\\u0631\\u06d2 \\u067e\\u06cc\\u0633\\u06d2 \\u06a9\\u06d2 \\u0644\\u0626\\u06d2 \\u06c1\\u06cc\\u0631\\u06cc\\u0633 1970 \\u06a9\\u06cc \\u062f\\u06c1\\u0627\\u0626\\u06cc \\u06a9\\u06cc \\u0633\\u0628 \\u0633\\u06d2 \\u0633\\u06cc\\u06a9\\u0633\\u06cc \\u0627\\u062f\\u0627\\u06a9\\u0627\\u0631\\u06c1 \\u062a\\u06be\\u06cc \\u060c \\u062c\\u0633 \\u0646\\u06d2 \\u0630\\u06c1\\u0627\\u0646\\u062a \\u0627\\u0648\\u0631 \\u0645\\u0632\\u0627\\u062d \\u06a9\\u06d2 \\u0633\\u0627\\u062a\\u06be \\u0627\\u0645\\u062a\\u06cc\\u0627\\u0632\\u06cc \\u0633\\u0644\\u0648\\u06a9 \\u06a9\\u0648 \\u062c\\u0648\\u0691 \\u062f\\u06cc\\u0627 \\u062a\\u06be\\u0627\\u06d4 \\u0648\\u06c1 \\\"\\u0633\\u0628 \\u0633\\u06d2 \\u0632\\u06cc\\u0627\\u062f\\u06c1 \\u0645\\u0637\\u0644\\u0648\\u0628\\\" \\u0679\\u06cc\\u0644\\u06cc \\u0648\\u06cc\\u0698\\u0646 \\u0633\\u06cc\\u0631\\u06cc\\u0632 \\u062f\\u06cc\\u06a9\\u06be\\u0646\\u06d2 \\u06a9\\u06cc \\u0628\\u06c1\\u062a\\u0631\\u06cc\\u0646 \\u0648\\u062c\\u06c1 \\u062a\\u06be\\u06cc \\u0627\\u0648\\u0631 \\\"\\u0648\\u0627\\u0626\\u0644\\u0688 \\u0648\\u0627\\u0626\\u0644\\u0688 \\u0648\\u06cc\\u0633\\u0679 \\u0631\\u06cc\\u0648\\u06cc\\u0648\\u0634\\u0679\\u0688\\\" \\u062f\\u06cc\\u06a9\\u06be\\u0646\\u06d2 \\u06a9\\u06cc \\u0648\\u0627\\u062d\\u062f \\u0648\\u062c\\u06c1 \\u062a\\u06be\\u06cc\\u06d4 \\u06cc\\u06c1 \\u06cc\\u0642\\u06cc\\u0646 \\u06a9\\u0631\\u0646\\u0627 \\u0645\\u0634\\u06a9\\u0644 \\u06c1\\u06d2 \\u06a9\\u06c1 \\u06a9\\u0648\\u0626\\u06cc \\u0627\\u06cc\\u0633\\u0627 \\u0634\\u062e\\u0635 \\u062c\\u0648 \\u06cc\\u06c1 \\u0633\\u0628 \\u06a9\\u0686\\u06be \\u0627\\u0633\\u06a9\\u0631\\u06cc\\u0646 \\u067e\\u0631 \\u0644\\u0627 \\u0633\\u06a9\\u062a\\u0627 \\u06c1\\u06d2 \\u0648\\u06c1 \\u06a9\\u0628\\u06be\\u06cc \\u0628\\u06be\\u06cc \\u0628\\u0691\\u0627 \\u0627\\u0633\\u0679\\u0627\\u0631 \\u0646\\u06c1\\u06cc\\u06ba \\u0628\\u0646 \\u0633\\u06a9\\u0627\\u06d4\",\n          \"\\u0645\\u06cc\\u0631\\u0627 \\u0627\\u0646\\u062f\\u0627\\u0632\\u06c1 \\u06c1\\u06d2 \\u06a9\\u06c1 \\u0688\\u06cc \\u0648\\u06cc \\u0688\\u06cc \\u06a9\\u06d2 \\u062e\\u062a\\u0645 \\u06c1\\u0648\\u0646\\u06d2 \\u06a9\\u06d2 \\u0633\\u0627\\u062a\\u06be \\u06c1\\u06cc \\u06cc\\u06c1 \\u0639\\u0648\\u0627\\u0645\\u06cc \\u0688\\u0648\\u0645\\u06cc\\u0646 \\u0645\\u06cc\\u06ba \\u06c1\\u06d2\\u06d4 \\u0633\\u0628 \\u0633\\u06d2 \\u067e\\u06c1\\u0644\\u06d2 \\u060c \\u06cc\\u06c1 \\u0627\\u06cc\\u06a9 \\u0627\\u0686\\u06be audience\\u0627 \\u0627\\u0686\\u06be\\u0627 \\u067e\\u0631\\u0648\\u067e\\u06cc\\u06af\\u0646\\u0688\\u0627 \\u0641\\u0644\\u0645 \\u06c1\\u06d2 \\u062c\\u0648 \\u062c\\u0646\\u06af \\u06a9\\u06d2 \\u0648\\u0642\\u062a \\u06a9\\u06d2 \\u0622\\u0633\\u06cc\\u06c1 \\u0633\\u0627\\u0645\\u0639\\u06cc\\u0646 \\u06a9\\u0648 \\u062f\\u06a9\\u06be\\u0627\\u06cc\\u0627 \\u062c\\u0627\\u0626\\u06d2 \\u060c \\u0644\\u06c1\\u0630\\u0627 \\u0627\\u0633\\u06d2 \\u0679\\u0648\\u0628\\u0631\\u0648\\u06a9 \\u06a9\\u06cc \\u0633\\u0646\\u062c\\u06cc\\u062f\\u06c1 \\u0628\\u0627\\u062a \\u067e\\u0631 \\u063a\\u0648\\u0631 \\u0646\\u06c1\\u06cc\\u06ba \\u06a9\\u06cc\\u0627 \\u062c\\u0627\\u0626\\u06d2 \\u06af\\u0627\\u06d4 \\u0622\\u0633\\u0679\\u0631\\u06cc\\u0644\\u06cc\\u0627 \\u0645\\u06cc\\u06ba 3/4 \\u06a9\\u0627 \\u067e\\u06c1\\u0644\\u0627 \\u0646\\u0635\\u0641 \\u062d\\u0635 dry\\u06c1 \\u0628\\u06c1\\u062a \\u062e\\u0634\\u06a9 \\u0633\\u0627\\u0645\\u0627\\u0646 \\u06c1\\u06d2 \\u060c \\u0645\\u062c\\u06be\\u06d2 \\u0644\\u06af\\u062a\\u0627 \\u06c1\\u06d2 \\u06a9\\u06c1 \\u0628\\u06c1\\u062a \\u0633\\u0627\\u0631\\u06cc \\u0627\\u0645\\u0631\\u06cc\\u06a9\\u06cc \\u062c\\u0646\\u06af\\u06cc \\u0641\\u0644\\u0645\\u06cc\\u06ba \\u06c1\\u06cc\\u06ba \\u062c\\u06c1\\u0627\\u06ba \\u0628\\u06be\\u0631\\u062a\\u06cc \\u06c1\\u0648 \\u0631\\u06c1\\u06d2 \\u06c1\\u06cc\\u06ba \\u060c \\u0627\\u0648\\u06c1 \\u0627\\u0646\\u0633\\u0627\\u0646 \\u0627\\u0633 \\u06a9\\u06cc \\u0644\\u0645\\u0628\\u06cc \\u0644\\u0645\\u0628\\u06cc \\u0644\\u0645\\u0628\\u06cc \\u062c\\u06af\\u06c1 \\u06c1\\u06d2\\u06d4 \\u06c1\\u0645 \\u0627\\u0641\\u0631\\u06cc\\u0642\\u06c1 \\u0627\\u0648\\u0631 \\u0679\\u0648\\u0628\\u0631\\u0648\\u06a9 \\u062c\\u0627\\u0646\\u06d2 \\u0633\\u06d2 \\u060c \\u0628\\u06c1\\u062a \\u06a9\\u0645 \\u060c \\u06a9\\u0645 \\u0628\\u062c\\u0679 \\u0648\\u0627\\u0644\\u06cc \\u0686\\u06cc\\u0632\\u06cc\\u06ba\\u06d4 \\u0645\\u06cc\\u06ba \\u0646\\u06d2 \\u062f\\u06cc\\u06a9\\u06be\\u0627 \\u0688\\u06cc \\u0648\\u06cc \\u0688\\u06cc \\u06a9\\u0627\\u067e\\u06cc \\u067e\\u0631 \\u062c\\u0646\\u06af \\u06a9\\u06d2 \\u0645\\u0646\\u0627\\u0638\\u0631 \\u062a\\u0642\\u0631\\u06cc\\u0628\\u0627 \\u0645\\u06a9\\u0645\\u0644 \\u0637\\u0648\\u0631 \\u067e\\u0631 \\u06a9\\u0627\\u0644\\u06d2 \\u062a\\u06be\\u06d2\\u06d4 \\u0627\\u06af\\u0631 \\u0622\\u067e \\u06a9\\u0648 \\u0644\\u0627\\u0632\\u0645\\u06cc \\u06c1\\u06d2 \\u062a\\u0648 \\u0627\\u0633\\u06d2 \\u062f\\u06cc\\u06a9\\u06be\\u06cc\\u06ba \\u060c \\u0644\\u06cc\\u06a9\\u0646 \\u062a\\u06cc\\u0632\\u06cc \\u0633\\u06d2 \\u0622\\u06af\\u06d2 \\u0627\\u0633\\u062a\\u0639\\u0645\\u0627\\u0644 \\u06a9\\u0631\\u0646\\u06d2 \\u06a9\\u06d2 \\u0644. \\u062a\\u06cc\\u0627\\u0631 \\u0631\\u06c1\\u06cc\\u06ba \\u06a9\\u06cc\\u0648\\u0646\\u06a9\\u06c1 \\u0645\\u062c\\u06be\\u06d2 \\u0634\\u06a9 \\u06c1\\u06d2 \\u06a9\\u06c1 \\u0622\\u067e \\u0627\\u0633\\u06d2 \\u0686\\u0646\\u062f \\u0645\\u0646\\u0679 \\u0628\\u0639\\u062f \\u06c1\\u06cc \\u0644\\u06d2 \\u0633\\u06a9\\u062a\\u06d2 \\u06c1\\u06cc\\u06ba\\u06d4 \\u0645\\u062c\\u06be\\u06d2 \\u062e\\u0648\\u0634\\u06af\\u0648\\u0627\\u0631 \\u0627\\u0637\\u0627\\u0644\\u0648\\u06cc \\\"\\u0628\\u0679 \\u0622\\u0641 \\u0627\\u0644 \\u0627\\u0644\\u0627\\u0645\\u06cc\\u0646\\\" \\u0633\\u06d2 \\u0644\\u0637\\u0641 \\u0627\\u0646\\u062f\\u0648\\u0632 \\u06c1\\u0648\\u0627 \\u060c \\u0631\\u0686\\u0631\\u0688 \\u0628\\u0631\\u0679\\u0646 \\u0646\\u06d2 \\u0627\\u06cc\\u06a9 \\u0627\\u0641\\u0631\\u06cc\\u0642\\u06cc \\u062a\\u06be\\u06cc\\u0679\\u0631 \\u0648\\u0627\\u0631 \\u0628\\u06be\\u06cc \\u06a9\\u06cc\\u0627 \\u062c\\u0648 \\u0627\\u0686\\u06be\\u06cc \\u0637\\u0631\\u062d \\u0633\\u06d2 \\\"\\u062f\\u06cc \\u0635\\u062d\\u0631\\u0627 \\u0686\\u0648\\u06c1\\u06d2\\\" \\u06a9\\u06cc \\u0641\\u0644\\u0645 \\u062a\\u06be\\u06cc \\u060c \\u06cc\\u06c1 \\u0641\\u0644\\u0645 \\u0645\\u062d\\u0636 \\u0627\\u06cc\\u06a9 \\u062d\\u0642\\u06cc\\u0642\\u06cc \\u0645\\u062f\\u062a \\u06c1\\u06d2 \\u0627\\u0648\\u0631 \\u0627\\u0633 \\u0648\\u0642\\u062a \\u062a\\u06a9 \\u06cc\\u06c1 \\u0631\\u06c1\\u0646\\u0627 \\u0686\\u0627\\u06c1\\u0626\\u06d2 \\u062a\\u06be\\u0627\\u06d4 \\u0622\\u062c \\u0627\\u0686\\u06be\\u06cc \\u0637\\u0631\\u062d \\u0633\\u06d2 \\u0628\\u0631\\u0642\\u0631\\u0627\\u0631 \\u0646\\u06c1\\u06cc\\u06ba \\u0631\\u06c1\\u062a\\u0627 \\u06c1\\u06d2 (\\u0645\\u062c\\u06be\\u06d2 \\u0634\\u0628\\u06c1 \\u06c1\\u06d2 \\u06a9\\u06c1 \\u0627\\u0633 \\u0648\\u0642\\u062a \\u0628\\u06be\\u06cc \\u0627\\u0633 \\u06a9\\u0627 \\u0627\\u0646\\u062a\\u06c1\\u0627\\u0626\\u06cc \\u0644\\u062d\\u0627\\u0638 \\u06a9\\u06cc\\u0627 \\u062c\\u0627\\u062a\\u0627 \\u062a\\u06be\\u0627)\\u06d4 \\u0645\\u06cc\\u06ba \\u0627\\u067e\\u0646\\u06d2 \\u0627\\u0645\\u0631\\u06cc\\u06a9\\u06cc \\u06c1\\u0645 \\u0645\\u0646\\u0635\\u0628 \\u06a9\\u06d2 \\u062c\\u0646\\u06af\\u06cc \\u0637\\u0631\\u0642\\u0648\\u06ba \\u06a9\\u06d2 \\u0628\\u0627\\u0631\\u06d2 \\u0645\\u06cc\\u06ba \\u0628\\u06be\\u06cc \\u06cc\\u06c1\\u06cc \\u0628\\u0627\\u062a \\u06a9\\u06c1\\u062a\\u0627 \\u06c1\\u0648\\u06ba \\u0644\\u06c1\\u0630\\u0627 \\u0627\\u0633\\u06d2 \\u0630\\u0627\\u062a\\u06cc \\u0637\\u0648\\u0631 \\u067e\\u0631 \\u0622\\u0633\\u06cc\\u0633 \\u0633\\u06d2 \\u0645\\u062a \\u0644\\u06cc\\u06ba (\\u0645\\u06cc\\u06ba \\u0622\\u0633\\u0679\\u0631\\u06cc\\u0644\\u06cc\\u0627 \\u0633\\u06d2 \\u0645\\u062d\\u0628\\u062a \\u06a9\\u0631\\u062a\\u0627 \\u06c1\\u0648\\u06ba \\u060c \\u062f\\u0648 \\u0628\\u0627\\u0631 \\u0648\\u06c1\\u0627\\u06ba \\u06af\\u06cc\\u0627 \\u06c1\\u0648\\u06ba!)\\u06d4\",\n          \"\\u0645\\u06cc\\u06ba \\u0627\\u067e\\u0646\\u06d2 \\u062f\\u0645\\u0627\\u063a \\u06a9\\u0648 \\u062c\\u06be\\u0646\\u062c\\u06be\\u0648\\u0691 \\u0631\\u06c1\\u0627 \\u06c1\\u0648\\u06ba \\u060c \\u0644\\u06cc\\u06a9\\u0646 \\u0645\\u06cc\\u06ba \\u06af\\u0648\\u0627\\u0646\\u06af\\u06cc \\u06a9\\u06cc \\u0648\\u0627\\u062f\\u06cc \\u06a9\\u06cc \\u0637\\u0631\\u062d \\u06a9\\u0633\\u06cc \\u0627\\u0648\\u0631 \\u0641\\u0644\\u0645 \\u06a9\\u06d2 \\u0628\\u0627\\u0631\\u06d2 \\u0645\\u06cc\\u06ba \\u0633\\u0648\\u0686\\u0627 \\u0628\\u06be\\u06cc \\u0646\\u06c1\\u06cc\\u06ba \\u0633\\u06a9\\u062a\\u0627\\u06d4 \\u0627\\u06cc\\u06a9 \\u0645\\u063a\\u0631\\u0628\\u06cc \\u0688\\u0627\\u06cc\\u0646\\u0627\\u0633\\u0648\\u0631 \\u06a9\\u06d2 \\u0633\\u0627\\u062a\\u06be\\u061f \\u0627\\u0633 \\u0633\\u06d2 \\u0632\\u06cc\\u0627\\u062f\\u06c1 \\u0642\\u062f\\u0631\\u062a\\u06cc \\u0627\\u0648\\u0631 \\u06a9\\u06cc\\u0627 \\u06c1\\u0648\\u0633\\u06a9\\u062a\\u06cc \\u06c1\\u06d2\\u061f \\u0622\\u067e \\u06a9\\u0648 \\u062d\\u06cc\\u0631\\u062a \\u06c1\\u0648\\u06af\\u06cc \\u06a9\\u06c1 \\u062c\\u0627\\u0646 \\u0641\\u0648\\u0631\\u0688 \\u0627\\u0648\\u0631 / \\u06cc\\u0627 \\u062c\\u0627\\u0646 \\u0648\\u06cc\\u0646 \\u0646\\u06d2 \\u06a9\\u0628\\u06be\\u06cc \\u0627\\u0633 \\u06a9\\u06cc \\u06a9\\u0648\\u0634\\u0634 \\u06a9\\u06cc\\u0648\\u06ba \\u0646\\u06c1\\u06cc\\u06ba \\u06a9\\u06cc! \\u067e\\u0644\\u0627\\u0679 - \\u0627\\u0633 \\u06a9\\u06d2 \\u0633\\u0631\\u06a9\\u0633 \\u060c \\u0679\\u06cc \\u062c\\u06d2 \\u0628\\u0631\\u06cc\\u06a9\\u0646\\u0631\\u062c (\\u06af\\u06cc\\u0644\\u06c1 \\u06af\\u0648\\u0644\\u0646) \\u060c \\u0679\\u06a9 \\u06a9\\u0631\\u0628\\u06cc (\\u062c\\u06cc\\u0645\\u0632 \\u0641\\u0631\\u0627\\u0646\\u0633\\u0633\\u06a9\\u0648\\u0633) \\u060c \\u0627\\u0648\\u0631 \\u0628\\u0627\\u0642\\u06cc \\u06a9\\u0627\\u0633\\u0679 / \\u06a9\\u0631\\u062f\\u0627\\u0631 \\u0627\\u06cc\\u06a9 \\u0639\\u062c\\u06cc\\u0628 \\u0648 \\u063a\\u0631\\u06cc\\u0628 \\u0648\\u0627\\u062f\\u06cc \\u0645\\u06cc\\u06ba \\u062f\\u0627\\u062e\\u0644 \\u06c1\\u0648\\u062a\\u06d2 \\u06c1\\u06cc\\u06ba \\u062a\\u0648 \\u0627\\u0633 \\u06a9\\u06d2 \\u0644\\u0626\\u06d2 \\u0627\\u06cc\\u06a9 \\u062e\\u0631\\u0627\\u0641\\u0627\\u062a\\u06cc \\u0686\\u06be\\u0648\\u0679\\u06d2 \\u0686\\u06be\\u0648\\u0679\\u06d2 \\u06af\\u06be\\u0648\\u0691\\u06d2 \\u06a9\\u06cc \\u062a\\u0644\\u0627\\u0634 \\u06a9\\u0631\\u062a\\u06d2 \\u06c1\\u0648\\u0626\\u06d2\\u06d4 \\u0648\\u06c1\\u0627\\u06ba \\u0627\\u0646\\u06c1\\u06cc\\u06ba \\u0646\\u06c1 \\u0635\\u0631\\u0641 \\u0686\\u06be\\u0648\\u0679\\u06d2 \\u06af\\u06be\\u0648\\u0691\\u06d2 \\u060c \\u0628\\u0644\\u06a9\\u06c1 \\u06a9\\u0686\\u06be \\u0627\\u0648\\u0631 \\u062e\\u0648\\u0641\\u0646\\u0627\\u06a9 \\u0645\\u062e\\u0644\\u0648\\u0642 \\u0628\\u06be\\u06cc \\u0645\\u0644\\u062a\\u06cc \\u06c1\\u06d2\\u06d4 \\u0688\\u0627\\u0626\\u0646\\u0648\\u0633\\u0627\\u0631\\u0633 \\u0627\\u0633 \\u062c\\u06af\\u06c1 \\u067e\\u0631 \\u062d\\u06a9\\u0645\\u0631\\u0627\\u0646\\u06cc \\u06a9\\u0631\\u062a\\u06d2 \\u06c1\\u06cc\\u06ba\\u06d4 \\u06a9\\u06cc\\u0627 \\u0627\\u0628 \\u06cc\\u06c1 TJ \\u06a9\\u06d2 \\u0633\\u0631\\u06a9\\u0633 \\u06cc\\u0639\\u0646\\u06cc Caged T-Rex \\u06a9\\u06cc \\u062a\\u0648\\u062c\\u06c1 \\u06a9\\u0627 \\u0645\\u0631\\u06a9\\u0632 \\u0646\\u06c1\\u06cc\\u06ba \\u06c1\\u0648\\u06af\\u0627\\u061f \\u0627\\u06cc\\u0633\\u0627 \\u0646\\u06c1\\u06cc\\u06ba \\u06c1\\u06d2 \\u06a9\\u06c1 \\u0645\\u062c\\u06be\\u06d2 \\u0648\\u0627\\u062f\\u06cc \\u06a9\\u06cc \\u06af\\u0648\\u0627\\u0646\\u06af \\u06a9\\u06cc \\u0628\\u0631\\u06cc \\u0641\\u0644\\u0645 \\u0646\\u0638\\u0631 \\u0622\\u062a\\u06cc \\u06c1\\u06d2 \\u060c \\u0627\\u06cc\\u0633\\u0627 \\u0644\\u06af\\u062a\\u0627 \\u06c1\\u06d2 \\u06a9\\u06c1 \\u0645\\u062c\\u06be\\u06d2 \\u0627\\u0633 \\u0633\\u06d2 \\u0632\\u06cc\\u0627\\u062f\\u06c1 \\u0633\\u06d2 \\u0632\\u06cc\\u0627\\u062f\\u06c1 \\u0644\\u0637\\u0641 \\u0627\\u0646\\u062f\\u0648\\u0632 \\u0646\\u06c1\\u06cc\\u06ba \\u06c1\\u0648\\u0627 \\u06c1\\u0648\\u06af\\u0627 \\u062c\\u062a\\u0646\\u0627 \\u06a9\\u06c1 \\u0641\\u0644\\u0645 \\u067e\\u0631 \\u062a\\u0628\\u0635\\u0631\\u06d2 \\u0634\\u0627\\u0626\\u0639 \\u06a9\\u0631\\u0646\\u06d2 \\u0648\\u0627\\u0644\\u06d2 \\u062f\\u0648\\u0633\\u0631\\u06d2 \\u0644\\u0648\\u06af\\u0648\\u06ba \\u0646\\u06d2 \\u0628\\u06be\\u06cc \\u06a9\\u06cc\\u0627 \\u06c1\\u06d2\\u06d4 \\u06a9\\u0686\\u06be \\u062d\\u0635\\u06d2 \\u0627\\u06cc\\u0633\\u06d2 \\u06c1\\u06cc\\u06ba \\u062c\\u0646 \\u06a9\\u0648 \\u0645\\u06cc\\u06ba \\u0648\\u0627\\u0642\\u0639\\u062a\\u0627 almost \\u0644\\u06af \\u0628\\u06be\\u06af \\u0646\\u0627\\u06af\\u0648\\u0627\\u0631 \\u0645\\u062d\\u0633\\u0648\\u0633 \\u06a9\\u0631\\u062a\\u0627 \\u06c1\\u0648\\u06ba\\u06d4 \\u0641\\u0644\\u0645 \\u06a9\\u06d2 \\u067e\\u06c1\\u0644\\u06d2 \\u0646\\u0635\\u0641 \\u062d\\u0635\\u06d2 \\u0645\\u06cc\\u06ba \\u060c \\u0627\\u06cc\\u0633\\u0627 \\u0644\\u06af\\u062a\\u0627 \\u06c1\\u06d2 \\u06a9\\u06c1 \\u0627\\u0628\\u06be\\u06cc \\u0632\\u06cc\\u0627\\u062f\\u06c1 \\u0686\\u0644\\u062a\\u0627 \\u06c1\\u06cc \\u0646\\u06c1\\u06cc\\u06ba \\u06c1\\u06d2\\u06d4 \\u0645\\u06cc\\u06ba \\u0636\\u0631\\u0648\\u0631\\u06cc \\u0637\\u0648\\u0631 \\u067e\\u0631 \\u0628\\u0648\\u0631 \\u0646\\u06c1\\u06cc\\u06ba \\u06c1\\u0648\\u0627 \\u062a\\u06be\\u0627 \\u060c \\u0644\\u06cc\\u06a9\\u0646 \\u0645\\u06cc\\u06ba \\u0686\\u0627\\u06c1\\u062a\\u0627 \\u062a\\u06be\\u0627 \\u06a9\\u06c1 \\u06a9\\u0686\\u06be \\u06c1\\u0648\\u062c\\u0627\\u0626\\u06d2\\u06d4 \\u067e\\u0644\\u0645\\u0688\\u0646\\u06af \\u0627\\u06cc\\u06a9 \\u0635\\u0641\\u062a \\u06c1\\u0648\\u06af\\u06cc \\u062c\\u0633 \\u06a9\\u0627 \\u0645\\u06cc\\u06ba \\u0627\\u0633\\u062a\\u0639\\u0645\\u0627\\u0644 \\u06a9\\u0631\\u0648\\u06ba \\u06af\\u0627\\u06d4 \\u0627\\u0633\\u06d2 \\u062e\\u062a\\u0645 \\u06a9\\u0631\\u0646\\u06d2 \\u06a9\\u06d2 \\u0644\\u0626\\u06d2 \\u060c \\u0645\\u0648\\u0648\\u06cc \\u0645\\u06cc\\u06ba \\u0627\\u06cc\\u06a9 \\u0628\\u06c1\\u062a \\u06c1\\u06cc \\u062a\\u0639\\u0627\\u0648\\u0646 \\u0633\\u06d2 \\u0686\\u0644\\u0646\\u06d2 \\u0648\\u0627\\u0644\\u06cc \\u0645\\u062d\\u0628\\u062a \\u06a9\\u06cc \\u06a9\\u06c1\\u0627\\u0646\\u06cc \\u067e\\u06cc\\u0634 \\u06a9\\u06cc \\u06af\\u0626\\u06cc \\u06c1\\u06d2\\u06d4 \\u06cc\\u06c1 \\u062c\\u0628\\u0631\\u06cc \\u0637\\u0648\\u0631 \\u067e\\u0631 \\u0645\\u062d\\u0633\\u0648\\u0633 \\u06c1\\u0648\\u062a\\u0627 \\u06c1\\u06d2 \\u062c\\u06cc\\u0633\\u06d2 \\u0645\\u0635\\u0646\\u0641\\u06cc\\u0646 \\u0646\\u06d2 \\u0641\\u06cc\\u0635\\u0644\\u06c1 \\u06a9\\u06cc\\u0627 \\u06c1\\u06d2 \\u06a9\\u06c1 \\u0635\\u0631\\u0641 \\u0645\\u0631\\u062f \\u0627\\u0648\\u0631 \\u062e\\u0648\\u0627\\u062a\\u06cc\\u0646 \\u06a9\\u06cc \\u0644\\u06cc\\u0688 \\u06a9\\u0648 \\u0627\\u06a9\\u0679\\u06be\\u0627 \\u06c1\\u0648\\u0646\\u0627 \\u06c1\\u06d2\\u06d4 \\u0644\\u06cc\\u06a9\\u0646 \\u06af\\u0648\\u0627\\u0646\\u06af\\u06cc \\u06a9\\u06cc \\u0648\\u0627\\u062f\\u06cc \\u0645\\u06a9\\u0645\\u0644 \\u0637\\u0648\\u0631 \\u067e\\u0631 \\u0636\\u0627\\u0626\\u0639 \\u0646\\u06c1\\u06cc\\u06ba \\u06c1\\u06d2\\u06d4 \\u0627\\u06cc\\u0633\\u06d2 \\u0644\\u0645\\u062d\\u0627\\u062a \\u06c1\\u06cc\\u06ba \\u062c\\u0646 \\u0633\\u06d2 \\u0645\\u06cc\\u06ba \\u0646\\u06d2 \\u0648\\u0627\\u0642\\u0639\\u06cc \\u0644\\u0637\\u0641 \\u0627\\u0679\\u06be\\u0627\\u06cc\\u0627\\u06d4 \\u062c\\u0648 \\u06af\\u06be\\u0648\\u0691\\u0648\\u06ba \\u067e\\u0631 \\u0633\\u0648\\u0627\\u0631 \\u06a9\\u0627\\u0624\\u0628\\u0627\\u06cc\\u0648\\u06ba \\u06a9\\u06d2 \\u0645\\u0646\\u0627\\u0638\\u0631 \\u0633\\u06d2 \\u0628\\u0627\\u06c1\\u0631 \\u0646\\u06c1\\u06cc\\u06ba \\u0646\\u06a9\\u0644\\u062a\\u0627 \\u0648\\u06c1 \\u0679\\u06cc-\\u0631\\u06cc\\u06a9\\u0633 \\u06a9\\u0648 \\u0644\\u0633\\u0627\\u0646 \\u06a9\\u0631\\u0646\\u06d2 \\u06a9\\u06cc \\u06a9\\u0648\\u0634\\u0634 \\u06a9\\u0631 \\u0631\\u06c1\\u0627 \\u06c1\\u06d2\\u06d4 \\u0622\\u067e \\u06a9\\u0648 \\u06c1\\u0631 \\u0631\\u0648\\u0632 \\u0627\\u06cc\\u0633\\u06cc \\u0686\\u06cc\\u0632\\u06cc\\u06ba \\u0646\\u0638\\u0631 \\u0646\\u06c1\\u06cc\\u06ba \\u0622\\u062a\\u06cc \\u06c1\\u06cc\\u06ba\\u06d4 \\u0631\\u06d2 \\u06c1\\u06cc\\u0631\\u06cc \\u06c1\\u0627\\u0624\\u0633\\u06cc\\u0646 \\u06a9\\u06cc \\u0645\\u062e\\u0644\\u0648\\u0642 \\u0645\\u062a\\u0627\\u062b\\u0631 \\u06a9\\u0646 \\u06c1\\u06d2\\u06d4 \\u0644\\u0648\\u06af\\u0648\\u06ba \\u0627\\u0648\\u0631 \\u06af\\u06be\\u0648\\u0691\\u0648\\u06ba \\u06a9\\u06d2 \\u0633\\u0627\\u062a\\u06be \\u0628\\u0627\\u062a \\u0686\\u06cc\\u062a \\u06a9\\u0631\\u0646\\u06d2 \\u0648\\u0627\\u0644\\u06cc \\u06c1\\u06cc\\u0631\\u06cc \\u06c1\\u0627\\u0624\\u0633\\u06cc\\u0646 \\u06a9\\u06d2 \\u0686\\u06be\\u0648\\u0679\\u06d2 \\u0686\\u06be\\u0648\\u0679\\u06d2 \\u0648\\u0627\\u0642\\u0639\\u0627\\u062a \\u0645\\u06cc\\u06ba \\u0633\\u06d2 \\u06a9\\u0686\\u06be \\u0648\\u0627\\u0642\\u0639\\u06cc \\u0688\\u0627\\u0624\\u0646 \\u0644\\u0648\\u0688 \\u06c1\\u06cc\\u06ba\\u06d4 \\u06cc\\u06c1 \\u0634\\u0627\\u06cc\\u062f \\u0627\\u0633 \\u06a9\\u06d2 \\u0628\\u06c1\\u062a\\u0631\\u06cc\\u0646 \\u06a9\\u0627\\u0645 \\u06a9\\u06cc \\u0646\\u0645\\u0627\\u0626\\u0646\\u062f\\u06af\\u06cc \\u0646\\u06c1\\u06cc\\u06ba \\u06a9\\u0631\\u06d2 \\u06af\\u0627 \\u060c \\u0644\\u06cc\\u06a9\\u0646 \\u0627\\u062b\\u0631\\u0627\\u062a \\u0628\\u06c1\\u062a \\u0627\\u0686\\u06be\\u06d2 \\u06c1\\u06cc\\u06ba\\u06d4 \\u067e\\u06be\\u0631 \\u0628\\u06be\\u06cc \\u060c \\u06a9\\u0645 \\u0627\\u0632 \\u06a9\\u0645 \\u0645\\u06cc\\u0631\\u06d2 \\u0630\\u06c1\\u0646 \\u0645\\u06cc\\u06ba \\u06cc\\u06c1 \\u0627\\u0686\\u06be moments\\u06d2 \\u0644\\u0645\\u062d\\u0627\\u062a \\u0645\\u0646\\u0641\\u06cc \\u067e\\u0631 \\u0642\\u0627\\u0628\\u0648 \\u067e\\u0627\\u0646\\u06d2 \\u06a9\\u06d2 \\u0644\\u0626\\u06d2 \\u06a9\\u0627\\u0641\\u06cc \\u0646\\u06c1\\u06cc\\u06ba \\u06c1\\u06cc\\u06ba\\u06d4 \\u062c\\u062a\\u0646\\u0627 \\u0645\\u062c\\u06be\\u06d2 \\u0627\\u0633 \\u0633\\u06d2 \\u0646\\u0641\\u0631\\u062a \\u06c1\\u06d2 \\u060c \\u0645\\u062c\\u06be\\u06d2 \\u06af\\u0648\\u0627\\u0646\\u06af \\u06a9\\u06cc \\u0648\\u0627\\u062f\\u06cc \\u06a9\\u0648 4-10 \\u06a9\\u06cc \\u062f\\u0631\\u062c\\u06c1 \\u0628\\u0646\\u062f\\u06cc \\u06a9\\u0631\\u0646\\u0627 \\u06c1\\u0648\\u06af\\u06cc\\u06d4\"\n        ],\n        \"semantic_type\": \"\",\n        \"description\": \"\"\n      }\n    },\n    {\n      \"column\": \"sentiment\",\n      \"properties\": {\n        \"dtype\": \"number\",\n        \"std\": 0,\n        \"min\": 0,\n        \"max\": 1,\n        \"num_unique_values\": 2,\n        \"samples\": [\n          1,\n          0\n        ],\n        \"semantic_type\": \"\",\n        \"description\": \"\"\n      }\n    },\n    {\n      \"column\": \"clean_text\",\n      \"properties\": {\n        \"dtype\": \"string\",\n        \"num_unique_values\": 49578,\n        \"samples\": [\n          \"\\u0633\\u06a9\\u0627\\u06d4 \\u0628\\u0646 \\u0646\\u06c1\\u06cc\\u06ba \\u0627\\u0633\\u0679\\u0627\\u0631 \\u0628\\u0691\\u0627 \\u0628\\u06be\\u06cc \\u0648\\u06c1 \\u06c1\\u06d2 \\u0633\\u06a9\\u062a\\u0627 \\u0644\\u0627 \\u0627\\u0633\\u06a9\\u0631\\u06cc\\u0646 \\u06cc\\u06c1 \\u0634\\u062e\\u0635 \\u0627\\u06cc\\u0633\\u0627 \\u06a9\\u06c1 \\u06c1\\u06d2 \\u0645\\u0634\\u06a9\\u0644 \\u06a9\\u0631\\u0646\\u0627 \\u06cc\\u0642\\u06cc\\u0646 \\u06cc\\u06c1 \\u062a\\u06be\\u06cc\\u06d4 \\u0648\\u062c\\u06c1 \\u0648\\u0627\\u062d\\u062f \\u062f\\u06cc\\u06a9\\u06be\\u0646\\u06d2 \\u0631\\u06cc\\u0648\\u06cc\\u0648\\u0634\\u0679\\u0688 \\u0648\\u06cc\\u0633\\u0679 \\u0648\\u0627\\u0626\\u0644\\u0688 \\u0648\\u0627\\u0626\\u0644\\u0688 \\u062a\\u06be\\u06cc \\u0648\\u062c\\u06c1 \\u0628\\u06c1\\u062a\\u0631\\u06cc\\u0646 \\u062f\\u06cc\\u06a9\\u06be\\u0646\\u06d2 \\u0633\\u06cc\\u0631\\u06cc\\u0632 \\u0648\\u06cc\\u0698\\u0646 \\u0679\\u06cc\\u0644\\u06cc \\u0645\\u0637\\u0644\\u0648\\u0628 \\u0633\\u06d2 \\u0648\\u06c1 \\u062a\\u06be\\u0627\\u06d4 \\u062f\\u06cc\\u0627 \\u062c\\u0648\\u0691 \\u0633\\u0644\\u0648\\u06a9 \\u0627\\u0645\\u062a\\u06cc\\u0627\\u0632\\u06cc \\u0645\\u0632\\u0627\\u062d \\u0630\\u06c1\\u0627\\u0646\\u062a \\u0646\\u06d2 \\u062c\\u0633 \\u062a\\u06be\\u06cc \\u0627\\u062f\\u0627\\u06a9\\u0627\\u0631\\u06c1 \\u0633\\u06cc\\u06a9\\u0633\\u06cc \\u0633\\u06d2 \\u062f\\u06c1\\u0627\\u0626\\u06cc \\u06c1\\u06cc\\u0631\\u06cc\\u0633 \\u067e\\u06cc\\u0633\\u06d2 \\u06c1\\u06d2\\u06d4 \\u06a9\\u0627\\u0645\\u0644 \\u0637\\u0648\\u0631 \\u06a9\\u0627\\u0645\\u0644 \\u0637\\u0648\\u0631 \\u0627\\u0646\\u06af\\u06cc\\u0632 \\u062d\\u06cc\\u0631\\u062a \\u06c1\\u06d2 \\u0628\\u06be\\u06cc \\u06c1\\u06cc\\u0631\\u06cc\\u0633 \\u0627\\u06cc\\u0646 \\u0622\\u062e\\u0631\\u06a9\\u0627\\u0631 \\u0622\\u0631\\u06c1\\u06d2 \\u0646\\u0638\\u0631 \\u0628\\u06be\\u06cc \\u0634\\u06cc\\u0637\\u0627\\u0646 \\u0633\\u06d2 \\u0628\\u06c1\\u062a \\u0627\\u0646 \\u06a9\\u0631\\u0631\\u06c1\\u06d2 \\u0627\\u062f\\u0627 \\u06a9\\u0631\\u062f\\u0627\\u0631 \\u06a9\\u0631\\u062f\\u0627\\u0631 \\u0628\\u06be\\u06cc \\u0646\\u0627\\u0638\\u0631\\u06cc\\u0646 \\u0637\\u0631\\u062d \\u0627\\u062f\\u0627\\u06a9\\u0627\\u0631\\u06cc \\u06cc\\u0642\\u06cc\\u0646 \\u0646\\u0627\\u0642\\u0627\\u0628\\u0644 \\u0645\\u0646\\u0631\\u0648 \\u0645\\u0627\\u0631\\u0644\\u0646 \\u063a\\u0644\\u0637\\u06cc\\u0627\\u06ba \\u062f\\u06cc \\u06c1\\u06d2\\u06d4 \\u0645\\u0634\\u06a9\\u0644 \\u062f\\u06cc\\u06a9\\u06be\\u0646\\u0627 \\u06a9\\u06c1 \\u06c1\\u06d2 \\u062f\\u06a9\\u06be\\u0627\\u062a\\u06cc \\u062f\\u0631\\u062f \\u06a9\\u0686\\u06d2 \\u0637\\u0631\\u062d \\u0627\\u06cc\\u0688\\u0648\\u06cc\\u0646\\u0627 \\u062a\\u06be\\u0627\\u06d4 \\u0622\\u06cc\\u0627 \\u0633\\u06d2 \\u0627\\u0646\\u062f\\u0631 \\u06a9\\u062a\\u0646\\u0627 \\u062a\\u06be\\u06cc \\u06a9\\u0648\\u0634\\u0634 \\u0645\\u0637\\u0627\\u0644\\u0639\\u06c1 \\u06a9\\u062a\\u0646\\u0627 \\u06a9\\u0627\\u0631\\u06a9\\u0631\\u062f\\u06af\\u06cc \\u06a9\\u06c1 \\u06c1\\u0648\\u06af\\u06cc \\u062d\\u06cc\\u0631\\u062a \\u06c1\\u06d2 \\u067e\\u062a\\u06c1 \\u0628\\u0627\\u0631\\u06d2 \\u06c1\\u0645\\u06cc\\u06ba \\u0627\\u0628 \\u062a\\u06be\\u06cc \\u0646\\u06c1\\u06cc\\u06ba \\u0642\\u0631\\u06cc\\u0628 \\u06a9\\u0627\\u0631\\u06a9\\u0631\\u062f\\u06af\\u06cc \\u0633\\u0627\\u0644 \\u062a\\u06be\\u0627 \\u0686\\u0627\\u06c1\\u0626\\u06d2 \\u0645\\u0644\\u0646\\u0627 \\u0622\\u0633\\u06a9\\u0631 \\u062a\\u06be\\u06cc\\u06ba \\u0627\\u0646\\u06af\\u06cc\\u0632 \\u062d\\u06cc\\u0631\\u062a \\u0637\\u0631\\u062d \\u0627\\u06cc\\u0688\\u0648\\u06cc\\u0646\\u0627 \\u0628\\u06c1\\u0646 \\u06c1\\u06d2\\u06d4 \\u06c1\\u0648\\u0633\\u06a9\\u062a\\u06cc \\u06c1\\u06cc \\u0628\\u0631\\u0627\\u0624\\u0646 \\u0628\\u0644\\u06cc\\u0626\\u0631 \\u0648\\u06c1 \\u06a9\\u06c1 \\u06c1\\u06d2 \\u0644\\u06af\\u062a\\u0627 \\u0627\\u06cc\\u0633\\u0627 \\u0645\\u06cc\\u0646 \\u06c1\\u0627\\u0631\\u0679 \\u062a\\u06be\\u0627\\u06d4 \\u06a9\\u0627\\u0645 \\u0627\\u06cc\\u06a9 \\u0628\\u06be\\u06cc \\u0627\\u0628 \\u0644\\u0691\\u06a9\\u06d2 \\u0628\\u0691\\u06d2 \\u0627\\u06cc\\u06a9 \\u062a\\u0645 \\u0646\\u06d2 \\u0627\\u0646\\u06c1\\u0648\\u06ba \\u06a9\\u06cc\\u0648\\u0646\\u06a9\\u06c1 \\u06c1\\u0648\\u06af\\u0626\\u06cc \\u0645\\u0648\\u062a \\u06c1\\u0648\\u0626\\u06d2 \\u067e\\u06be\\u06cc\\u0646\\u06a9\\u062a\\u06d2 \\u062e\\u0648\\u062f \\u0633\\u06d2 \\u06a9\\u06be\\u0691\\u06a9\\u06cc \\u0645\\u0646\\u0632\\u0644 \\u067e\\u0627\\u0646\\u0686\\u0648\\u06cc\\u06ba \\u0628\\u0639\\u062f \\u062f\\u0646 \\u062a\\u06cc\\u0646 \\u0635\\u0631\\u0641 \\u062e\\u0648\\u062f\\u06a9\\u0634\\u06cc \\u0646\\u06d2 \\u0645\\u06cc\\u0646 \\u06c1\\u0627\\u0631\\u0679 \\u0627\\u0644\\u0632\\u0628\\u062a\\u06be \\u06a9\\u06c1 \\u06c1\\u06d2 \\u0628\\u0627\\u062a \\u062f\\u0644\\u0686\\u0633\\u067e \\u06cc\\u06c1 \\u062a\\u06be\\u0627\\u06d4 \\u062a\\u062d\\u0645\\u0644 \\u0645\\u0642\\u062f\\u0627\\u0631 \\u0635\\u062d\\u06cc\\u062d \\u0635\\u0631\\u0641 \\u062c\\u0633 \\u062a\\u06be\\u0627 \\u06a9\\u0631\\u0631\\u06c1\\u0627 \\u0627\\u062f\\u0627 \\u06a9\\u0631\\u062f\\u0627\\u0631 \\u067e\\u06cc\\u0686\\u06cc\\u062f\\u06c1 \\u0628\\u06c1\\u062a\\u0631\\u06cc\\u0646 \\u0627\\u06cc\\u06a9 \\u0637\\u0631\\u062d \\u0628\\u06be\\u06cc \\u067e\\u06cc\\u062c \\u062c\\u06cc\\u0631\\u0627\\u0644\\u0688\\u0627\\u0626\\u0646 \\u06c1\\u06d2\\u06d4 \\u0628\\u0691\\u06be\\u0627 \\u0628\\u0646 \\u06a9\\u0627\\u0631\\u06a9\\u0646 \\u0633\\u0631\\u06af\\u0631\\u0645 \\u062d\\u0642\\u0648\\u0642 \\u062c\\u0627\\u0646\\u0648\\u0631\\u0648\\u06ba \\u0628\\u0691\\u06d2 \\u0641\\u0631\\u0688\\u06cc\\u0646 \\u06a9\\u06c1 \\u06c1\\u06d2 \\u0646\\u06c1\\u06cc\\u06ba \\u0628\\u0627\\u062a \\u062a\\u0639\\u062c\\u0628 \\u06cc\\u06c1 \\u06c1\\u0648\\u0626\\u06d2 \\u062f\\u06cc\\u06a9\\u06be\\u062a\\u06d2 \\u062a\\u0642\\u062f\\u06cc\\u0631 \\u0631\\u06cc\\u0646\\u0688\\u0648\\u0644\\u0641 \\u06a9\\u0686\\u06be\\u06cc \\u0627\\u0645\\u06cc \\u062a\\u06be\\u0627\\u06d4 \\u0645\\u0646\\u0638\\u0631 \\u067e\\u0633\\u0646\\u062f\\u06cc\\u062f\\u06c1 \\u067e\\u0648\\u0644\\u0627\\u0646\\u0633\\u06a9\\u06cc \\u0634\\u0627\\u06cc\\u062f \\u06cc\\u06c1 \\u062a\\u06be\\u0627\\u06d4 \\u062a\\u0646\\u0627\\u0632\\u0639\\u06c1 \\u0628\\u0627\\u0631\\u06d2 \\u0648\\u0642\\u062a \\u06a9\\u06c1 \\u06c1\\u06d2 \\u062d\\u06cc\\u0631\\u062a \\u0628\\u0627\\u0646\\u0679\\u0627 \\u0628\\u0648\\u0633\\u06c1 \\u0634\\u062f\\u06c1 \\u062a\\u0648\\u0633\\u06cc\\u0639 \\u06a9\\u06cc\\u0645\\u0631\\u06d2 \\u0644\\u0691\\u06a9\\u06cc \\u0633\\u0627\\u0644\\u06c1 \\u0628\\u0627\\u0631\\u06c1 \\u0646\\u06d2 \\u0627\\u0633\\u0679\\u0627\\u0631 \\u0622\\u0641\\u0633 \\u0628\\u0627\\u06a9\\u0633 \\u0645\\u0631\\u062f \\u0628\\u0627\\u0644\\u063a \\u06a9\\u0633\\u06cc \\u06c1\\u0648\\u06af\\u0627 \\u0645\\u0648\\u0642\\u0639 \\u067e\\u06c1\\u0644\\u0627 \\u06cc\\u06c1 \\u06af\\u06cc\\u06d4 \\u06a9\\u0631\\u06cc\\u06ba \\u0627\\u062f\\u0627 \\u062c\\u0648\\u0646 \\u0648\\u0627\\u0646\\u0688\\u0627 \\u0648\\u06c1 \\u062a\\u06be\\u0627 \\u06a9\\u0627\\u0645 \\u0639\\u0645\\u062f\\u06c1 \\u0633\\u06d2 \\u062d\\u06cc\\u062b\\u06cc\\u062a \\u0627\\u0645\\u06cc \\u0646\\u06d2 \\u0641\\u0631\\u0688\\u06cc\\u0646 \\u067e\\u0627\\u0645\\u06cc\\u0646 \\u062a\\u06be\\u06cc\\u06d4 \\u06af\\u0626\\u06cc \\u062f\\u06cc \\u067e\\u06be\\u0627\\u0646\\u0633\\u06cc \\u0633\\u06d2 \\u0637\\u0631\\u062d \\u0627\\u0686\\u06be\\u06cc \\u062a\\u06be\\u0627 \\u06af\\u06cc\\u0627 \\u06a9\\u0627\\u0633\\u0679 \\u0633\\u06d2 \\u0637\\u0631\\u062d \\u0627\\u0686\\u06be\\u06cc \\u062d\\u0635\\u06d2 \\u0639\\u0645\\u062f\\u06c1 \\u0627\\u062f\\u0627\\u06a9\\u0627\\u0631\\u06c1 \\u0641\\u0644\\u0645 \\u062a\\u06be\\u06d2 \\u0686\\u0627\\u0631 \\u0645\\u06cc\\u06ba\\u06d4 \\u06a9\\u0645 \\u0627\\u0632 \\u06a9\\u0645 \\u062a\\u06be\\u06d2\\u06d4 \\u0646\\u06c1\\u06cc\\u06ba \\u062d\\u0635\\u06d2 \\u0627\\u062f\\u0627\\u06a9\\u0627\\u0631\\u06c1 \\u0641\\u0644\\u0645\\u0648\\u06ba \\u06a9\\u06c1 \\u062a\\u06be\\u0627 \\u06a9\\u06c1\\u0627 \\u0646\\u06d2 \\u062c\\u0633 \\u06a9\\u0631\\u0627\\u062f\\u06cc\\u0627 \\u062e\\u0627\\u0645\\u0648\\u0634 \\u06a9\\u0633\\u06cc \\u0646\\u06d2 \\u0628\\u06cc\\u06af\\u0644\\u06cc\\u0688 \\u062f\\u06cc \\u0646\\u06c1\\u06cc\\u06ba \\u06c1\\u06d2\\u06d4 \\u06a9\\u0631\\u0646\\u0627 \\u062e\\u062a\\u0645 \\u062c\\u0691 \\u06a9\\u0633 \\u06a9\\u06c1 \\u06c1\\u06d2 \\u062f\\u06cc\\u0627 \\u0628\\u0646\\u0627 \\u0645\\u0634\\u06a9\\u0644 \\u06a9\\u0631\\u0646\\u0627 \\u0641\\u06cc\\u0635\\u0644\\u06c1 \\u06cc\\u06c1 \\u0646\\u06d2 \\u06c1\\u06cc\\u0631\\u0648 \\u0627\\u06cc\\u0646\\u0679\\u06cc \\u062c\\u06c1\\u0627\\u06ba \\u0679\\u06a9\\u0691\\u06d2 \\u0627\\u0628\\u06c1\\u0627\\u0645 \\u0627\\u062e\\u0644\\u0627\\u0642\\u06cc \\u0639\\u0645\\u062f\\u06c1 \\u0627\\u06cc\\u06a9\",\n          \"\\u06c1\\u0648\\u06ba \\u06af\\u06cc\\u0627 \\u0628\\u0627\\u0631 \\u062f\\u0648 \\u06c1\\u0648\\u06ba \\u06a9\\u0631\\u062a\\u0627 \\u0645\\u062d\\u0628\\u062a \\u0633\\u06d2 \\u0622\\u0633\\u0679\\u0631\\u06cc\\u0644\\u06cc\\u0627 \\u0644\\u06cc\\u06ba \\u0645\\u062a \\u0633\\u06d2 \\u0622\\u0633\\u06cc\\u0633 \\u0637\\u0648\\u0631 \\u0630\\u0627\\u062a\\u06cc \\u06c1\\u0648\\u06ba \\u06a9\\u06c1\\u062a\\u0627 \\u0628\\u0627\\u062a \\u06cc\\u06c1\\u06cc \\u0628\\u06be\\u06cc \\u0628\\u0627\\u0631\\u06d2 \\u0637\\u0631\\u0642\\u0648\\u06ba \\u062c\\u0646\\u06af\\u06cc \\u0645\\u0646\\u0635\\u0628 \\u0627\\u0645\\u0631\\u06cc\\u06a9\\u06cc \\u062a\\u06be\\u0627 \\u062c\\u0627\\u062a\\u0627 \\u0644\\u062d\\u0627\\u0638 \\u0627\\u0646\\u062a\\u06c1\\u0627\\u0626\\u06cc \\u0628\\u06be\\u06cc \\u0648\\u0642\\u062a \\u06a9\\u06c1 \\u06c1\\u06d2 \\u0634\\u0628\\u06c1 \\u0645\\u062c\\u06be\\u06d2 \\u06c1\\u06d2 \\u0631\\u06c1\\u062a\\u0627 \\u0646\\u06c1\\u06cc\\u06ba \\u0628\\u0631\\u0642\\u0631\\u0627\\u0631 \\u0633\\u06d2 \\u0637\\u0631\\u062d \\u0627\\u0686\\u06be\\u06cc \\u0622\\u062c \\u062a\\u06be\\u0627\\u06d4 \\u0686\\u0627\\u06c1\\u0626\\u06d2 \\u0631\\u06c1\\u0646\\u0627 \\u06cc\\u06c1 \\u062a\\u06a9 \\u0648\\u0642\\u062a \\u06c1\\u06d2 \\u0645\\u062f\\u062a \\u062d\\u0642\\u06cc\\u0642\\u06cc \\u0627\\u06cc\\u06a9 \\u0645\\u062d\\u0636 \\u0641\\u0644\\u0645 \\u06cc\\u06c1 \\u062a\\u06be\\u06cc \\u0641\\u0644\\u0645 \\u0686\\u0648\\u06c1\\u06d2 \\u0635\\u062d\\u0631\\u0627 \\u062f\\u06cc \\u0633\\u06d2 \\u0637\\u0631\\u062d \\u0627\\u0686\\u06be\\u06cc \\u0628\\u06be\\u06cc \\u0648\\u0627\\u0631 \\u062a\\u06be\\u06cc\\u0679\\u0631 \\u0627\\u0641\\u0631\\u06cc\\u0642\\u06cc \\u0627\\u06cc\\u06a9 \\u0646\\u06d2 \\u0628\\u0631\\u0679\\u0646 \\u0631\\u0686\\u0631\\u0688 \\u06c1\\u0648\\u0627 \\u0627\\u0646\\u062f\\u0648\\u0632 \\u0644\\u0637\\u0641 \\u0633\\u06d2 \\u0627\\u0644\\u0627\\u0645\\u06cc\\u0646 \\u0627\\u0644 \\u0622\\u0641 \\u0628\\u0679 \\u0627\\u0637\\u0627\\u0644\\u0648\\u06cc \\u062e\\u0648\\u0634\\u06af\\u0648\\u0627\\u0631 \\u0645\\u062c\\u06be\\u06d2 \\u0633\\u06a9\\u062a\\u06d2 \\u0644\\u06d2 \\u06c1\\u06cc \\u0628\\u0639\\u062f \\u0645\\u0646\\u0679 \\u06a9\\u06c1 \\u06c1\\u06d2 \\u0634\\u06a9 \\u0645\\u062c\\u06be\\u06d2 \\u06a9\\u06cc\\u0648\\u0646\\u06a9\\u06c1 \\u0631\\u06c1\\u06cc\\u06ba \\u062a\\u06cc\\u0627\\u0631 \\u06a9\\u0631\\u0646\\u06d2 \\u0627\\u0633\\u062a\\u0639\\u0645\\u0627\\u0644 \\u0622\\u06af\\u06d2 \\u0633\\u06d2 \\u062a\\u06cc\\u0632\\u06cc \\u062f\\u06cc\\u06a9\\u06be\\u06cc\\u06ba \\u06c1\\u06d2 \\u0644\\u0627\\u0632\\u0645\\u06cc \\u062a\\u06be\\u06d2\\u06d4 \\u06a9\\u0627\\u0644\\u06d2 \\u0637\\u0648\\u0631 \\u0645\\u06a9\\u0645\\u0644 \\u062a\\u0642\\u0631\\u06cc\\u0628\\u0627 \\u0645\\u0646\\u0627\\u0638\\u0631 \\u062c\\u0646\\u06af \\u06a9\\u0627\\u067e\\u06cc \\u0688\\u06cc \\u0648\\u06cc \\u0688\\u06cc \\u062f\\u06cc\\u06a9\\u06be\\u0627 \\u0646\\u06d2 \\u0686\\u06cc\\u0632\\u06cc\\u06ba\\u06d4 \\u0648\\u0627\\u0644\\u06cc \\u0628\\u062c\\u0679 \\u06a9\\u0645 \\u06a9\\u0645 \\u0628\\u06c1\\u062a \\u0633\\u06d2 \\u062c\\u0627\\u0646\\u06d2 \\u0679\\u0648\\u0628\\u0631\\u0648\\u06a9 \\u0627\\u0641\\u0631\\u06cc\\u0642\\u06c1 \\u06c1\\u06d2\\u06d4 \\u062c\\u06af\\u06c1 \\u0644\\u0645\\u0628\\u06cc \\u0644\\u0645\\u0628\\u06cc \\u0644\\u0645\\u0628\\u06cc \\u0627\\u0646\\u0633\\u0627\\u0646 \\u0627\\u0648\\u06c1 \\u0631\\u06c1\\u06d2 \\u06c1\\u0648 \\u0628\\u06be\\u0631\\u062a\\u06cc \\u062c\\u06c1\\u0627\\u06ba \\u0641\\u0644\\u0645\\u06cc\\u06ba \\u062c\\u0646\\u06af\\u06cc \\u0627\\u0645\\u0631\\u06cc\\u06a9\\u06cc \\u0633\\u0627\\u0631\\u06cc \\u0628\\u06c1\\u062a \\u06a9\\u06c1 \\u06c1\\u06d2 \\u0644\\u06af\\u062a\\u0627 \\u0645\\u062c\\u06be\\u06d2 \\u06c1\\u06d2 \\u0633\\u0627\\u0645\\u0627\\u0646 \\u062e\\u0634\\u06a9 \\u0628\\u06c1\\u062a \\u062d\\u0635 \\u0646\\u0635\\u0641 \\u067e\\u06c1\\u0644\\u0627 \\u0622\\u0633\\u0679\\u0631\\u06cc\\u0644\\u06cc\\u0627 \\u06af\\u0627\\u06d4 \\u062c\\u0627\\u0626\\u06d2 \\u0646\\u06c1\\u06cc\\u06ba \\u063a\\u0648\\u0631 \\u0628\\u0627\\u062a \\u0633\\u0646\\u062c\\u06cc\\u062f\\u06c1 \\u0679\\u0648\\u0628\\u0631\\u0648\\u06a9 \\u062c\\u0627\\u0626\\u06d2 \\u062f\\u06a9\\u06be\\u0627\\u06cc\\u0627 \\u0633\\u0627\\u0645\\u0639\\u06cc\\u0646 \\u0622\\u0633\\u06cc\\u06c1 \\u0648\\u0642\\u062a \\u062c\\u0646\\u06af \\u06c1\\u06d2 \\u0641\\u0644\\u0645 \\u067e\\u0631\\u0648\\u067e\\u06cc\\u06af\\u0646\\u0688\\u0627 \\u0627\\u0686\\u06be\\u0627 \\u0627\\u0686\\u06be \\u0627\\u06cc\\u06a9 \\u06cc\\u06c1 \\u067e\\u06c1\\u0644\\u06d2 \\u0633\\u06d2 \\u06c1\\u06d2\\u06d4 \\u0688\\u0648\\u0645\\u06cc\\u0646 \\u0639\\u0648\\u0627\\u0645\\u06cc \\u06cc\\u06c1 \\u06c1\\u06cc \\u06c1\\u0648\\u0646\\u06d2 \\u062e\\u062a\\u0645 \\u0688\\u06cc \\u0648\\u06cc \\u0688\\u06cc \\u06a9\\u06c1 \\u06c1\\u06d2 \\u0627\\u0646\\u062f\\u0627\\u0632\\u06c1\"\n        ],\n        \"semantic_type\": \"\",\n        \"description\": \"\"\n      }\n    }\n  ]\n}"
            }
          },
          "metadata": {},
          "execution_count": 138
        }
      ]
    },
    {
      "cell_type": "code",
      "source": [
        "maxlen"
      ],
      "metadata": {
        "execution": {
          "iopub.status.busy": "2024-04-27T08:54:48.369Z",
          "iopub.execute_input": "2024-04-27T08:54:48.369887Z",
          "iopub.status.idle": "2024-04-27T08:54:48.377076Z",
          "shell.execute_reply.started": "2024-04-27T08:54:48.369853Z",
          "shell.execute_reply": "2024-04-27T08:54:48.375935Z"
        },
        "trusted": true,
        "id": "oLpxb-xOjiif",
        "outputId": "eec213bd-41ac-4bf3-9f95-685b8e99fd1a",
        "colab": {
          "base_uri": "https://localhost:8080/"
        }
      },
      "execution_count": null,
      "outputs": [
        {
          "output_type": "execute_result",
          "data": {
            "text/plain": [
              "2189"
            ]
          },
          "metadata": {},
          "execution_count": 10
        }
      ]
    },
    {
      "cell_type": "code",
      "source": [
        "tok = tf.keras.preprocessing.text.Tokenizer(num_words=10000, oov_token='UNK')\n",
        "tok.fit_on_texts(df['clean_text'])"
      ],
      "metadata": {
        "execution": {
          "iopub.status.busy": "2024-04-27T09:03:17.707889Z",
          "iopub.execute_input": "2024-04-27T09:03:17.708252Z",
          "iopub.status.idle": "2024-04-27T09:03:30.657001Z",
          "shell.execute_reply.started": "2024-04-27T09:03:17.708225Z",
          "shell.execute_reply": "2024-04-27T09:03:30.655986Z"
        },
        "trusted": true,
        "id": "juxEBUitjiif"
      },
      "execution_count": null,
      "outputs": []
    },
    {
      "cell_type": "code",
      "source": [
        "train_data, remaining_data = train_test_split(df, test_size=0.2, random_state=42)\n",
        "validation_data, test_data = train_test_split(remaining_data, test_size=0.5, random_state=42)"
      ],
      "metadata": {
        "execution": {
          "iopub.status.busy": "2024-04-27T08:10:30.895439Z",
          "iopub.execute_input": "2024-04-27T08:10:30.896342Z",
          "iopub.status.idle": "2024-04-27T08:10:30.917752Z",
          "shell.execute_reply.started": "2024-04-27T08:10:30.896311Z",
          "shell.execute_reply": "2024-04-27T08:10:30.91677Z"
        },
        "trusted": true,
        "id": "se1JjcSujiif"
      },
      "execution_count": null,
      "outputs": []
    },
    {
      "cell_type": "code",
      "source": [
        "trainValue = tok.texts_to_sequences(train_data['clean_text'])"
      ],
      "metadata": {
        "trusted": true,
        "id": "KaEQzJl1jiif"
      },
      "execution_count": null,
      "outputs": []
    },
    {
      "cell_type": "code",
      "source": [
        "VOCABSIZE = len(tok.word_index) + 1\n",
        "VOCABSIZE"
      ],
      "metadata": {
        "execution": {
          "iopub.status.busy": "2024-04-27T09:03:30.666994Z",
          "iopub.execute_input": "2024-04-27T09:03:30.66727Z",
          "iopub.status.idle": "2024-04-27T09:03:30.679623Z",
          "shell.execute_reply.started": "2024-04-27T09:03:30.667239Z",
          "shell.execute_reply": "2024-04-27T09:03:30.678709Z"
        },
        "trusted": true,
        "id": "wmGUiTBcjiig",
        "outputId": "c593025f-924e-4579-ec22-2766549d17a1",
        "colab": {
          "base_uri": "https://localhost:8080/"
        }
      },
      "execution_count": null,
      "outputs": [
        {
          "output_type": "execute_result",
          "data": {
            "text/plain": [
              "111221"
            ]
          },
          "metadata": {},
          "execution_count": 64
        }
      ]
    },
    {
      "cell_type": "code",
      "source": [
        "trainValue =  tf.keras.preprocessing.sequence.pad_sequences(trainValue, maxlen)"
      ],
      "metadata": {
        "id": "gGE-CFmmjiig"
      },
      "execution_count": null,
      "outputs": []
    },
    {
      "cell_type": "code",
      "source": [
        "validationValue = tok.texts_to_sequences(validation_data['clean_text'])\n",
        "validationValue =  tf.keras.preprocessing.sequence.pad_sequences(validationValue, maxlen)"
      ],
      "metadata": {
        "id": "7LURug0HlZjP"
      },
      "execution_count": null,
      "outputs": []
    },
    {
      "cell_type": "markdown",
      "source": [
        "## Model"
      ],
      "metadata": {
        "id": "KSELxR8av0m-"
      }
    },
    {
      "cell_type": "code",
      "source": [
        "model = tf.keras.Sequential([\n",
        "  tf.keras.layers.Embedding(VOCABSIZE, 600),\n",
        "  tf.keras.layers.GRU(256),\n",
        "  tf.keras.layers.Dropout(0.5),\n",
        "  tf.keras.layers.Dense(12, activation=\"relu\"),\n",
        "  tf.keras.layers.Dense(1, activation=\"sigmoid\")\n",
        "])"
      ],
      "metadata": {
        "id": "xjwRRYa-jiig"
      },
      "execution_count": null,
      "outputs": []
    },
    {
      "cell_type": "code",
      "source": [
        "model.compile(loss=\"binary_crossentropy\",optimizer=\"adam\",metrics=['acc'])\n",
        "model.summary()"
      ],
      "metadata": {
        "colab": {
          "base_uri": "https://localhost:8080/"
        },
        "id": "8M-yLWl8kypJ",
        "outputId": "263e6183-a8fa-467d-9dc4-56984426e579"
      },
      "execution_count": null,
      "outputs": [
        {
          "output_type": "stream",
          "name": "stdout",
          "text": [
            "Model: \"sequential_10\"\n",
            "_________________________________________________________________\n",
            " Layer (type)                Output Shape              Param #   \n",
            "=================================================================\n",
            " embedding_10 (Embedding)    (None, None, 600)         66732600  \n",
            "                                                                 \n",
            " gru_17 (GRU)                (None, 256)               658944    \n",
            "                                                                 \n",
            " dropout_10 (Dropout)        (None, 256)               0         \n",
            "                                                                 \n",
            " dense_20 (Dense)            (None, 12)                3084      \n",
            "                                                                 \n",
            " dense_21 (Dense)            (None, 1)                 13        \n",
            "                                                                 \n",
            "=================================================================\n",
            "Total params: 67394641 (257.09 MB)\n",
            "Trainable params: 67394641 (257.09 MB)\n",
            "Non-trainable params: 0 (0.00 Byte)\n",
            "_________________________________________________________________\n"
          ]
        }
      ]
    },
    {
      "cell_type": "markdown",
      "source": [
        "## Training"
      ],
      "metadata": {
        "id": "uIS44ycTv3PI"
      }
    },
    {
      "cell_type": "code",
      "source": [
        "history = model.fit(trainValue, train_data[\"sentiment\"], epochs=2, validation_data=(validationValue,validation_data[\"sentiment\"]))"
      ],
      "metadata": {
        "colab": {
          "base_uri": "https://localhost:8080/"
        },
        "id": "Y1ugyqv7k8Wl",
        "outputId": "0e069d31-388b-429c-94a6-db54245f3e4b"
      },
      "execution_count": null,
      "outputs": [
        {
          "output_type": "stream",
          "name": "stdout",
          "text": [
            "Epoch 1/2\n",
            "1250/1250 [==============================] - 251s 199ms/step - loss: 0.4930 - acc: 0.7566 - val_loss: 0.3886 - val_acc: 0.8304\n",
            "Epoch 2/2\n",
            "1250/1250 [==============================] - 215s 172ms/step - loss: 0.2710 - acc: 0.8925 - val_loss: 0.2992 - val_acc: 0.8754\n"
          ]
        }
      ]
    },
    {
      "cell_type": "code",
      "source": [
        "import matplotlib.pyplot as plt\n",
        "\n",
        "loss = history.history['loss']\n",
        "val_loss = history.history['val_loss']\n",
        "accuracy = history.history['acc']\n",
        "val_accuracy = history.history['val_acc']\n",
        "\n",
        "# Plotting the loss\n",
        "plt.figure(figsize=(12, 4))\n",
        "plt.subplot(1, 2, 1)\n",
        "plt.plot(loss, label='Training Loss')\n",
        "plt.plot(val_loss, label='Validation Loss')\n",
        "plt.title('Loss')\n",
        "plt.xlabel('Epoch')\n",
        "plt.ylabel('Loss')\n",
        "plt.legend()\n",
        "\n",
        "# Plotting the accuracy\n",
        "plt.subplot(1, 2, 2)\n",
        "plt.plot(accuracy, label='Training Accuracy')\n",
        "plt.plot(val_accuracy, label='Validation Accuracy')\n",
        "plt.title('Accuracy')\n",
        "plt.xlabel('Epoch')\n",
        "plt.ylabel('Accuracy')\n",
        "plt.legend()\n",
        "\n",
        "# Displaying the plot\n",
        "plt.tight_layout()\n",
        "plt.show()"
      ],
      "metadata": {
        "colab": {
          "base_uri": "https://localhost:8080/",
          "height": 407
        },
        "id": "vrsLk03H_2te",
        "outputId": "98deafeb-6bcc-463a-a74a-319146b0334b"
      },
      "execution_count": null,
      "outputs": [
        {
          "output_type": "display_data",
          "data": {
            "text/plain": [
              "<Figure size 1200x400 with 2 Axes>"
            ],
            "image/png": "[encoded data removed]"
          },
          "metadata": {}
        }
      ]
    },
    {
      "cell_type": "code",
      "source": [
        "testValue = tok.texts_to_sequences(test_data['clean_text'])\n",
        "testValue =  tf.keras.preprocessing.sequence.pad_sequences(testValue, maxlen)\n",
        "\n",
        "loss, accuracy = model.evaluate(testValue, test_data[\"sentiment\"])\n",
        "\n",
        "print(\"Test Loss:\", loss)\n",
        "print(\"Test Accuracy:\", accuracy)\n"
      ],
      "metadata": {
        "colab": {
          "base_uri": "https://localhost:8080/"
        },
        "id": "KyRayp-CazJp",
        "outputId": "dac04701-902a-46bd-c6e7-92b3be5eb6ff"
      },
      "execution_count": null,
      "outputs": [
        {
          "output_type": "stream",
          "name": "stdout",
          "text": [
            "157/157 [==============================] - 9s 58ms/step - loss: 0.2894 - acc: 0.8808\n",
            "Test Loss: 0.28943324089050293\n",
            "Test Accuracy: 0.8808000087738037\n"
          ]
        }
      ]
    },
    {
      "cell_type": "code",
      "source": [
        "model.save('saved_model.h5')"
      ],
      "metadata": {
        "colab": {
          "base_uri": "https://localhost:8080/"
        },
        "id": "WG2o52cymT5G",
        "outputId": "c43baed6-9e09-4b2a-ccbc-b08a0e0be212"
      },
      "execution_count": null,
      "outputs": [
        {
          "output_type": "stream",
          "name": "stderr",
          "text": [
            "/usr/local/lib/python3.10/dist-packages/keras/src/engine/training.py:3103: UserWarning: You are saving your model as an HDF5 file via `model.save()`. This file format is considered legacy. We recommend using instead the native Keras format, e.g. `model.save('my_model.keras')`.\n",
            "  saving_api.save_model(\n"
          ]
        }
      ]
    },
    {
      "cell_type": "markdown",
      "source": [
        "## Inference"
      ],
      "metadata": {
        "id": "W3iiub-SsDtw"
      }
    },
    {
      "cell_type": "code",
      "source": [
        "model = tf.keras.models.load_model('/content/saved_model.h5')"
      ],
      "metadata": {
        "id": "L9U0GzJKrgTO"
      },
      "execution_count": null,
      "outputs": []
    },
    {
      "cell_type": "code",
      "source": [
        "import csv\n",
        "def stopwords_loader(path):\n",
        "    stopwords = set()\n",
        "    with open(path, newline='', encoding='utf-8') as file:\n",
        "        reader = csv.reader(file)\n",
        "        for row in reader:\n",
        "            if row[0] == 'stopword':\n",
        "                continue\n",
        "            stopwords.add(row[0])\n",
        "    return stopwords\n",
        "\n",
        "stopwords = stopwords_loader('/kaggle/input/urdu-stopwords/urdu_stopwords.csv')"
      ],
      "metadata": {
        "id": "d7k4_gLTr8Qa"
      },
      "execution_count": null,
      "outputs": []
    },
    {
      "cell_type": "code",
      "source": [
        "def data_cleaning(text, stopwords):\n",
        "    text = text.lower()\n",
        "    text = re.sub(\"[^\\u0600-\\u06FF\\s]\", ' ', text)\n",
        "    text = nltk.word_tokenize(text)\n",
        "    text = [t for t in text if len(t) > 1]\n",
        "    text = [stemmer.stem(word) for word in text if word not in stopwords]\n",
        "    text.reverse()\n",
        "\n",
        "    return ' '.join(text)"
      ],
      "metadata": {
        "id": "kdSrk_SasKtO"
      },
      "execution_count": null,
      "outputs": []
    },
    {
      "cell_type": "code",
      "source": [
        "classes = {\n",
        "    1 : \"Negative\",\n",
        "    0 : \"Positive\"\n",
        "}"
      ],
      "metadata": {
        "id": "6nGiYAzbxiBR"
      },
      "execution_count": null,
      "outputs": []
    },
    {
      "cell_type": "code",
      "source": [
        "def inference(model,data):\n",
        "  data = data_cleaning(data,stopwords)\n",
        "  value = tok.texts_to_sequences([data])\n",
        "  value = tf.keras.preprocessing.sequence.pad_sequences(value, 2189)\n",
        "  prediction = model.predict(value)\n",
        "  return classes[0] if prediction < 0.5 else classes[1]"
      ],
      "metadata": {
        "id": "IxCeurtUsSJt"
      },
      "execution_count": null,
      "outputs": []
    },
    {
      "cell_type": "code",
      "source": [
        "neg_sentence = \"تقریباً ہر روز انسانوں کو اپنی زندگی میں کمیوں اور تنازعات کا سامنا ہوتا ہے۔ زندگی میں کامیابی کی بجائے ناکامیاں اور مشکلات ہی آئیں، اور یہ مشکلات کبھی کبھار بہت بڑی اور ناقابل حل معاملات بن جاتی ہیں۔ انسان کبھی کبھی مایوس ہو جاتا ہے اور زندگی کی اس چکریں اُسے نیچے دھکیل دیتی ہیں۔ بہت سے لوگوں کو اپنی زندگی کی بیماریاں، مالی مشکلات، اور رشتوں میں اختلافات کا سامنا کرنا پڑتا ہے، جو ان کی زندگی کو مایوس کن بنا دیتا ہے۔\"\n",
        "pos_sentence = \"زندگی میں ہمیشہ خوشیوں اور کامیابیوں کی تلاش ہوتی ہے۔ ہر مشکل کے پیچھے ایک نیکی چھپی ہوتی ہے، جس کو پہچان کر آگے بڑھنا ہمیشہ ممکن ہوتا ہے۔ زندگی کی راہ میں آنے والے مسائل اور چیلنجز ہمیں مضبوط بناتے ہیں اور ہمیں سیکھنے کا مواقع دیتے ہیں۔ بہت سے لوگوں نے اپنے زندگی کے مشکلات کا سامنا کرکے ان کو میسر کیا اور اپنے مقصد تک پہنچا۔ وہ لوگ جو اپنی محنت، استقامت اور عزم سے گزرتے ہیں، ان کی کامیابی کبھی بھی محال نہیں ہوتی\""
      ],
      "metadata": {
        "id": "nh2rYmhFwY5h"
      },
      "execution_count": null,
      "outputs": []
    },
    {
      "cell_type": "code",
      "source": [
        "print(inference(model,neg_sentence))"
      ],
      "metadata": {
        "colab": {
          "base_uri": "https://localhost:8080/"
        },
        "id": "f9mxz2mgy8yY",
        "outputId": "3feffbb0-c628-438c-c2e5-8c050d4a7f90"
      },
      "execution_count": null,
      "outputs": [
        {
          "output_type": "stream",
          "name": "stdout",
          "text": [
            "1/1 [==============================] - 0s 50ms/step\n",
            "[[0.62895435]]\n",
            "Negative\n"
          ]
        }
      ]
    },
    {
      "cell_type": "code",
      "source": [
        "print(inference(model,pos_sentence))"
      ],
      "metadata": {
        "colab": {
          "base_uri": "https://localhost:8080/"
        },
        "id": "DLTG0uf8zIQD",
        "outputId": "e978d438-4f51-4bac-b1ce-b83002de8cd7"
      },
      "execution_count": null,
      "outputs": [
        {
          "output_type": "stream",
          "name": "stdout",
          "text": [
            "1/1 [==============================] - 0s 51ms/step\n",
            "[[0.23886132]]\n",
            "Positive\n"
          ]
        }
      ]
    }
  ]
}